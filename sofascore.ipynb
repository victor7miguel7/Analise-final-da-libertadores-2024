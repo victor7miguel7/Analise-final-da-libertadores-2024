{
 "cells": [
  {
   "cell_type": "markdown",
   "metadata": {},
   "source": [
    "# Análise de dados da final da libertadores entre Botafogo 3 x 1 Atletico MG\n",
    "\n",
    "### Autor: Victor Miguel de Souza Soares"
   ]
  },
  {
   "cell_type": "markdown",
   "metadata": {},
   "source": [
    "## Qual é o motivo de fazer essa análise? Quem são os beneficiados?\n",
    "\n",
    "Os principais beneficiados com uma análise de dados de scouts em uma partida de futebol são os treinadores, jogadores, e equipes técnicas. Os treinadores podem usar os dados para ajustar táticas, identificar pontos fortes e fracos do time adversário e tomar decisões estratégicas em tempo real. Para os jogadores, os scouts ajudam a entender seu desempenho individual, destacando áreas para melhorar e contribuindo para a evolução técnica e física. Já as equipes técnicas podem aproveitar essas informações para planejar treinamentos mais eficazes, prevenir lesões e otimizar o desempenho coletivo. Além disso, analistas esportivos e gestores também podem usar os dados para tomadas de decisões relacionadas a contratações e investimentos."
   ]
  },
  {
   "cell_type": "markdown",
   "metadata": {},
   "source": [
    "## Como conseguir dados relevantes para análise?\n",
    "Para realizar uma análise eficaz de uma partida de futebol, é fundamental obter dados relevantes e precisos, que possam fornecer insights sobre o desempenho das equipes e jogadores, mas como consegui-los? A técnica de web scraping surge como uma solução eficiente para coletar esses dados automaticamente de sites especializados, transformando informações não estruturadas em dados organizados e úteis.\n",
    "\n",
    "Nesta análise de dados, foram utilizadas três abordagens diferentes de web scraping para obter dados do site Sofascore sobre a final da Libertadores entre Atlético MG x Botafogo realizada em 30/11/2024 às 17:00."
   ]
  },
  {
   "cell_type": "markdown",
   "metadata": {},
   "source": [
    "# Visão geral da partida\n",
    "\n",
    "### Através da técnica de webscraping, os dados dos site sofascore serão extraídos e armazenados em um Data Frame para seu tratamento e análise"
   ]
  },
  {
   "cell_type": "code",
   "execution_count": 46,
   "metadata": {},
   "outputs": [],
   "source": [
    "# Importando bibliotecas\n",
    "\n",
    "import pandas as pd\n",
    "import requests"
   ]
  },
  {
   "cell_type": "markdown",
   "metadata": {},
   "source": [
    "#### Puxando dados com webscraping"
   ]
  },
  {
   "cell_type": "code",
   "execution_count": 47,
   "metadata": {},
   "outputs": [
    {
     "name": "stdout",
     "output_type": "stream",
     "text": [
      "Dados exportados para futebol_stats.xlsx\n"
     ]
    }
   ],
   "source": [
    "url = \"https://www.sofascore.com/api/v1/event/12375366/statistics\"\n",
    "\n",
    "# header simulando navegador\n",
    "header = {\n",
    "    \"User-Agent\": \"Mozilla/5.0 (Windows NT 10.0; Win64; x64; rv:134.0) Gecko/20100101 Firefox/134.0\"\n",
    "}\n",
    "\n",
    "response = requests.get(url, headers=header)\n",
    "\n",
    "if response.status_code == 200:\n",
    "    data = response.json()\n",
    "\n",
    "    all_data = []\n",
    "\n",
    "    for match_stats in data['statistics']:\n",
    "        period = match_stats['period']\n",
    "\n",
    "        for group in match_stats['groups']:\n",
    "            group_name = group['groupName']\n",
    "\n",
    "            for item in group['statisticsItems']:\n",
    "                stat_name = item.get('name')\n",
    "                home_value = item.get('home')\n",
    "                away_value = item.get('away')\n",
    "\n",
    "                all_data.append({\n",
    "                    'Period' : period,\n",
    "                    'Group' : group_name,\n",
    "                    'Statistics' : stat_name,\n",
    "                    'Home' : home_value,\n",
    "                    'Away' : away_value\n",
    "\n",
    "                })\n",
    "\n",
    "# Cria dataframe\n",
    "df = pd.DataFrame(all_data)\n",
    "arquivo_excel = 'futebol_stats.xlsx'\n",
    "df.to_excel(arquivo_excel, index=False)\n",
    "\n",
    "print(f'Dados exportados para {arquivo_excel}')"
   ]
  },
  {
   "cell_type": "code",
   "execution_count": 48,
   "metadata": {},
   "outputs": [
    {
     "data": {
      "text/html": [
       "<div>\n",
       "<style scoped>\n",
       "    .dataframe tbody tr th:only-of-type {\n",
       "        vertical-align: middle;\n",
       "    }\n",
       "\n",
       "    .dataframe tbody tr th {\n",
       "        vertical-align: top;\n",
       "    }\n",
       "\n",
       "    .dataframe thead th {\n",
       "        text-align: right;\n",
       "    }\n",
       "</style>\n",
       "<table border=\"1\" class=\"dataframe\">\n",
       "  <thead>\n",
       "    <tr style=\"text-align: right;\">\n",
       "      <th></th>\n",
       "      <th>Period</th>\n",
       "      <th>Group</th>\n",
       "      <th>Statistics</th>\n",
       "      <th>Home</th>\n",
       "      <th>Away</th>\n",
       "    </tr>\n",
       "  </thead>\n",
       "  <tbody>\n",
       "    <tr>\n",
       "      <th>0</th>\n",
       "      <td>ALL</td>\n",
       "      <td>Match overview</td>\n",
       "      <td>Ball possession</td>\n",
       "      <td>80%</td>\n",
       "      <td>20%</td>\n",
       "    </tr>\n",
       "    <tr>\n",
       "      <th>1</th>\n",
       "      <td>ALL</td>\n",
       "      <td>Match overview</td>\n",
       "      <td>Expected goals</td>\n",
       "      <td>1.72</td>\n",
       "      <td>1.81</td>\n",
       "    </tr>\n",
       "    <tr>\n",
       "      <th>2</th>\n",
       "      <td>ALL</td>\n",
       "      <td>Match overview</td>\n",
       "      <td>Big chances</td>\n",
       "      <td>3</td>\n",
       "      <td>3</td>\n",
       "    </tr>\n",
       "    <tr>\n",
       "      <th>3</th>\n",
       "      <td>ALL</td>\n",
       "      <td>Match overview</td>\n",
       "      <td>Total shots</td>\n",
       "      <td>22</td>\n",
       "      <td>8</td>\n",
       "    </tr>\n",
       "    <tr>\n",
       "      <th>4</th>\n",
       "      <td>ALL</td>\n",
       "      <td>Match overview</td>\n",
       "      <td>Goalkeeper saves</td>\n",
       "      <td>1</td>\n",
       "      <td>3</td>\n",
       "    </tr>\n",
       "    <tr>\n",
       "      <th>...</th>\n",
       "      <td>...</td>\n",
       "      <td>...</td>\n",
       "      <td>...</td>\n",
       "      <td>...</td>\n",
       "      <td>...</td>\n",
       "    </tr>\n",
       "    <tr>\n",
       "      <th>123</th>\n",
       "      <td>2ND</td>\n",
       "      <td>Defending</td>\n",
       "      <td>Interceptions</td>\n",
       "      <td>2</td>\n",
       "      <td>1</td>\n",
       "    </tr>\n",
       "    <tr>\n",
       "      <th>124</th>\n",
       "      <td>2ND</td>\n",
       "      <td>Defending</td>\n",
       "      <td>Recoveries</td>\n",
       "      <td>19</td>\n",
       "      <td>12</td>\n",
       "    </tr>\n",
       "    <tr>\n",
       "      <th>125</th>\n",
       "      <td>2ND</td>\n",
       "      <td>Defending</td>\n",
       "      <td>Clearances</td>\n",
       "      <td>6</td>\n",
       "      <td>22</td>\n",
       "    </tr>\n",
       "    <tr>\n",
       "      <th>126</th>\n",
       "      <td>2ND</td>\n",
       "      <td>Goalkeeping</td>\n",
       "      <td>Total saves</td>\n",
       "      <td>0</td>\n",
       "      <td>1</td>\n",
       "    </tr>\n",
       "    <tr>\n",
       "      <th>127</th>\n",
       "      <td>2ND</td>\n",
       "      <td>Goalkeeping</td>\n",
       "      <td>Goal kicks</td>\n",
       "      <td>2</td>\n",
       "      <td>11</td>\n",
       "    </tr>\n",
       "  </tbody>\n",
       "</table>\n",
       "<p>128 rows × 5 columns</p>\n",
       "</div>"
      ],
      "text/plain": [
       "    Period           Group        Statistics  Home  Away\n",
       "0      ALL  Match overview   Ball possession   80%   20%\n",
       "1      ALL  Match overview    Expected goals  1.72  1.81\n",
       "2      ALL  Match overview       Big chances     3     3\n",
       "3      ALL  Match overview       Total shots    22     8\n",
       "4      ALL  Match overview  Goalkeeper saves     1     3\n",
       "..     ...             ...               ...   ...   ...\n",
       "123    2ND       Defending     Interceptions     2     1\n",
       "124    2ND       Defending        Recoveries    19    12\n",
       "125    2ND       Defending        Clearances     6    22\n",
       "126    2ND     Goalkeeping       Total saves     0     1\n",
       "127    2ND     Goalkeeping        Goal kicks     2    11\n",
       "\n",
       "[128 rows x 5 columns]"
      ]
     },
     "execution_count": 48,
     "metadata": {},
     "output_type": "execute_result"
    }
   ],
   "source": [
    "# Observando df criado\n",
    "df"
   ]
  },
  {
   "cell_type": "code",
   "execution_count": 49,
   "metadata": {},
   "outputs": [
    {
     "name": "stdout",
     "output_type": "stream",
     "text": [
      "<class 'pandas.core.frame.DataFrame'>\n",
      "RangeIndex: 128 entries, 0 to 127\n",
      "Data columns (total 5 columns):\n",
      " #   Column      Non-Null Count  Dtype \n",
      "---  ------      --------------  ----- \n",
      " 0   Period      128 non-null    object\n",
      " 1   Group       128 non-null    object\n",
      " 2   Statistics  128 non-null    object\n",
      " 3   Home        128 non-null    object\n",
      " 4   Away        128 non-null    object\n",
      "dtypes: object(5)\n",
      "memory usage: 5.1+ KB\n"
     ]
    },
    {
     "data": {
      "text/plain": [
       "Index(['Period', 'Group', 'Statistics', 'Home', 'Away'], dtype='object')"
      ]
     },
     "execution_count": 49,
     "metadata": {},
     "output_type": "execute_result"
    }
   ],
   "source": [
    "df.info()\n",
    "df.columns"
   ]
  },
  {
   "cell_type": "markdown",
   "metadata": {},
   "source": [
    "## Tratando df\n",
    "### Nota-se que as colunas são do tipo object, e é necessário padronizá-las para um tipo inteiro para sua manipulação"
   ]
  },
  {
   "cell_type": "code",
   "execution_count": 50,
   "metadata": {},
   "outputs": [
    {
     "data": {
      "text/html": [
       "<div>\n",
       "<style scoped>\n",
       "    .dataframe tbody tr th:only-of-type {\n",
       "        vertical-align: middle;\n",
       "    }\n",
       "\n",
       "    .dataframe tbody tr th {\n",
       "        vertical-align: top;\n",
       "    }\n",
       "\n",
       "    .dataframe thead th {\n",
       "        text-align: right;\n",
       "    }\n",
       "</style>\n",
       "<table border=\"1\" class=\"dataframe\">\n",
       "  <thead>\n",
       "    <tr style=\"text-align: right;\">\n",
       "      <th></th>\n",
       "      <th>Period</th>\n",
       "      <th>Group</th>\n",
       "      <th>Statistics</th>\n",
       "      <th>Home</th>\n",
       "      <th>Away</th>\n",
       "    </tr>\n",
       "  </thead>\n",
       "  <tbody>\n",
       "    <tr>\n",
       "      <th>0</th>\n",
       "      <td>ALL</td>\n",
       "      <td>Match overview</td>\n",
       "      <td>Ball possession</td>\n",
       "      <td>0.80</td>\n",
       "      <td>0.20</td>\n",
       "    </tr>\n",
       "    <tr>\n",
       "      <th>1</th>\n",
       "      <td>ALL</td>\n",
       "      <td>Match overview</td>\n",
       "      <td>Expected goals</td>\n",
       "      <td>1.72</td>\n",
       "      <td>1.81</td>\n",
       "    </tr>\n",
       "    <tr>\n",
       "      <th>2</th>\n",
       "      <td>ALL</td>\n",
       "      <td>Match overview</td>\n",
       "      <td>Big chances</td>\n",
       "      <td>3.00</td>\n",
       "      <td>3.00</td>\n",
       "    </tr>\n",
       "    <tr>\n",
       "      <th>3</th>\n",
       "      <td>ALL</td>\n",
       "      <td>Match overview</td>\n",
       "      <td>Total shots</td>\n",
       "      <td>22.00</td>\n",
       "      <td>8.00</td>\n",
       "    </tr>\n",
       "    <tr>\n",
       "      <th>4</th>\n",
       "      <td>ALL</td>\n",
       "      <td>Match overview</td>\n",
       "      <td>Goalkeeper saves</td>\n",
       "      <td>1.00</td>\n",
       "      <td>3.00</td>\n",
       "    </tr>\n",
       "  </tbody>\n",
       "</table>\n",
       "</div>"
      ],
      "text/plain": [
       "  Period           Group        Statistics   Home  Away\n",
       "0    ALL  Match overview   Ball possession   0.80  0.20\n",
       "1    ALL  Match overview    Expected goals   1.72  1.81\n",
       "2    ALL  Match overview       Big chances   3.00  3.00\n",
       "3    ALL  Match overview       Total shots  22.00  8.00\n",
       "4    ALL  Match overview  Goalkeeper saves   1.00  3.00"
      ]
     },
     "execution_count": 50,
     "metadata": {},
     "output_type": "execute_result"
    }
   ],
   "source": [
    "# Função que converte colunas para tipo float e formata colunas com porcentagens isoladas e mescladas\n",
    "import re\n",
    "\n",
    "def convert_to_float(value):\n",
    "    \"\"\"\n",
    "    Converte valores no formato string para float.\n",
    "    Aceita formatos como '80%', '141/175 (81%)', e números simples.\n",
    "    \"\"\"\n",
    "    if isinstance(value, str):\n",
    "        # Extrair a porcentagem caso exista\n",
    "        match = re.search(r'(\\d+)%', value)\n",
    "        if match:\n",
    "            return float(match.group(1)) / 100\n",
    "        # Caso contrário, tente converter diretamente para float\n",
    "        try:\n",
    "            return float(value)\n",
    "        except ValueError:\n",
    "            return None\n",
    "    return value\n",
    "\n",
    "# Aplicar a função nas colunas Home e Away\n",
    "df['Home'] = df['Home'].apply(convert_to_float)\n",
    "df['Away'] = df['Away'].apply(convert_to_float)\n",
    "\n",
    "# Verificar o resultado\n",
    "df.head()\n"
   ]
  },
  {
   "cell_type": "code",
   "execution_count": 51,
   "metadata": {},
   "outputs": [
    {
     "data": {
      "text/html": [
       "<div>\n",
       "<style scoped>\n",
       "    .dataframe tbody tr th:only-of-type {\n",
       "        vertical-align: middle;\n",
       "    }\n",
       "\n",
       "    .dataframe tbody tr th {\n",
       "        vertical-align: top;\n",
       "    }\n",
       "\n",
       "    .dataframe thead th {\n",
       "        text-align: right;\n",
       "    }\n",
       "</style>\n",
       "<table border=\"1\" class=\"dataframe\">\n",
       "  <thead>\n",
       "    <tr style=\"text-align: right;\">\n",
       "      <th></th>\n",
       "      <th>Period</th>\n",
       "      <th>Group</th>\n",
       "      <th>Statistics</th>\n",
       "      <th>Home</th>\n",
       "      <th>Away</th>\n",
       "    </tr>\n",
       "  </thead>\n",
       "  <tbody>\n",
       "    <tr>\n",
       "      <th>0</th>\n",
       "      <td>ALL</td>\n",
       "      <td>Match overview</td>\n",
       "      <td>Ball possession</td>\n",
       "      <td>0.80</td>\n",
       "      <td>0.20</td>\n",
       "    </tr>\n",
       "    <tr>\n",
       "      <th>1</th>\n",
       "      <td>ALL</td>\n",
       "      <td>Match overview</td>\n",
       "      <td>Expected goals</td>\n",
       "      <td>1.72</td>\n",
       "      <td>1.81</td>\n",
       "    </tr>\n",
       "    <tr>\n",
       "      <th>2</th>\n",
       "      <td>ALL</td>\n",
       "      <td>Match overview</td>\n",
       "      <td>Big chances</td>\n",
       "      <td>3.00</td>\n",
       "      <td>3.00</td>\n",
       "    </tr>\n",
       "    <tr>\n",
       "      <th>3</th>\n",
       "      <td>ALL</td>\n",
       "      <td>Match overview</td>\n",
       "      <td>Total shots</td>\n",
       "      <td>22.00</td>\n",
       "      <td>8.00</td>\n",
       "    </tr>\n",
       "    <tr>\n",
       "      <th>4</th>\n",
       "      <td>ALL</td>\n",
       "      <td>Match overview</td>\n",
       "      <td>Goalkeeper saves</td>\n",
       "      <td>1.00</td>\n",
       "      <td>3.00</td>\n",
       "    </tr>\n",
       "    <tr>\n",
       "      <th>5</th>\n",
       "      <td>ALL</td>\n",
       "      <td>Match overview</td>\n",
       "      <td>Corner kicks</td>\n",
       "      <td>7.00</td>\n",
       "      <td>0.00</td>\n",
       "    </tr>\n",
       "    <tr>\n",
       "      <th>6</th>\n",
       "      <td>ALL</td>\n",
       "      <td>Match overview</td>\n",
       "      <td>Fouls</td>\n",
       "      <td>12.00</td>\n",
       "      <td>9.00</td>\n",
       "    </tr>\n",
       "    <tr>\n",
       "      <th>7</th>\n",
       "      <td>ALL</td>\n",
       "      <td>Match overview</td>\n",
       "      <td>Passes</td>\n",
       "      <td>547.00</td>\n",
       "      <td>141.00</td>\n",
       "    </tr>\n",
       "    <tr>\n",
       "      <th>8</th>\n",
       "      <td>ALL</td>\n",
       "      <td>Match overview</td>\n",
       "      <td>Tackles</td>\n",
       "      <td>14.00</td>\n",
       "      <td>12.00</td>\n",
       "    </tr>\n",
       "    <tr>\n",
       "      <th>9</th>\n",
       "      <td>ALL</td>\n",
       "      <td>Match overview</td>\n",
       "      <td>Free kicks</td>\n",
       "      <td>9.00</td>\n",
       "      <td>11.00</td>\n",
       "    </tr>\n",
       "    <tr>\n",
       "      <th>10</th>\n",
       "      <td>ALL</td>\n",
       "      <td>Match overview</td>\n",
       "      <td>Yellow cards</td>\n",
       "      <td>4.00</td>\n",
       "      <td>4.00</td>\n",
       "    </tr>\n",
       "    <tr>\n",
       "      <th>11</th>\n",
       "      <td>ALL</td>\n",
       "      <td>Match overview</td>\n",
       "      <td>Red cards</td>\n",
       "      <td>0.00</td>\n",
       "      <td>1.00</td>\n",
       "    </tr>\n",
       "    <tr>\n",
       "      <th>12</th>\n",
       "      <td>ALL</td>\n",
       "      <td>Shots</td>\n",
       "      <td>Total shots</td>\n",
       "      <td>22.00</td>\n",
       "      <td>8.00</td>\n",
       "    </tr>\n",
       "    <tr>\n",
       "      <th>13</th>\n",
       "      <td>ALL</td>\n",
       "      <td>Shots</td>\n",
       "      <td>Shots on target</td>\n",
       "      <td>4.00</td>\n",
       "      <td>3.00</td>\n",
       "    </tr>\n",
       "    <tr>\n",
       "      <th>14</th>\n",
       "      <td>ALL</td>\n",
       "      <td>Shots</td>\n",
       "      <td>Hit woodwork</td>\n",
       "      <td>0.00</td>\n",
       "      <td>0.00</td>\n",
       "    </tr>\n",
       "    <tr>\n",
       "      <th>15</th>\n",
       "      <td>ALL</td>\n",
       "      <td>Shots</td>\n",
       "      <td>Shots off target</td>\n",
       "      <td>11.00</td>\n",
       "      <td>3.00</td>\n",
       "    </tr>\n",
       "    <tr>\n",
       "      <th>16</th>\n",
       "      <td>ALL</td>\n",
       "      <td>Shots</td>\n",
       "      <td>Blocked shots</td>\n",
       "      <td>7.00</td>\n",
       "      <td>2.00</td>\n",
       "    </tr>\n",
       "    <tr>\n",
       "      <th>17</th>\n",
       "      <td>ALL</td>\n",
       "      <td>Shots</td>\n",
       "      <td>Shots inside box</td>\n",
       "      <td>15.00</td>\n",
       "      <td>6.00</td>\n",
       "    </tr>\n",
       "    <tr>\n",
       "      <th>18</th>\n",
       "      <td>ALL</td>\n",
       "      <td>Shots</td>\n",
       "      <td>Shots outside box</td>\n",
       "      <td>7.00</td>\n",
       "      <td>2.00</td>\n",
       "    </tr>\n",
       "    <tr>\n",
       "      <th>19</th>\n",
       "      <td>ALL</td>\n",
       "      <td>Attack</td>\n",
       "      <td>Big chances scored</td>\n",
       "      <td>0.00</td>\n",
       "      <td>3.00</td>\n",
       "    </tr>\n",
       "    <tr>\n",
       "      <th>20</th>\n",
       "      <td>ALL</td>\n",
       "      <td>Attack</td>\n",
       "      <td>Big chances missed</td>\n",
       "      <td>3.00</td>\n",
       "      <td>0.00</td>\n",
       "    </tr>\n",
       "    <tr>\n",
       "      <th>21</th>\n",
       "      <td>ALL</td>\n",
       "      <td>Attack</td>\n",
       "      <td>Through balls</td>\n",
       "      <td>1.00</td>\n",
       "      <td>0.00</td>\n",
       "    </tr>\n",
       "    <tr>\n",
       "      <th>22</th>\n",
       "      <td>ALL</td>\n",
       "      <td>Attack</td>\n",
       "      <td>Touches in penalty area</td>\n",
       "      <td>29.00</td>\n",
       "      <td>12.00</td>\n",
       "    </tr>\n",
       "    <tr>\n",
       "      <th>23</th>\n",
       "      <td>ALL</td>\n",
       "      <td>Attack</td>\n",
       "      <td>Fouled in final third</td>\n",
       "      <td>1.00</td>\n",
       "      <td>3.00</td>\n",
       "    </tr>\n",
       "    <tr>\n",
       "      <th>24</th>\n",
       "      <td>ALL</td>\n",
       "      <td>Attack</td>\n",
       "      <td>Offsides</td>\n",
       "      <td>2.00</td>\n",
       "      <td>0.00</td>\n",
       "    </tr>\n",
       "    <tr>\n",
       "      <th>25</th>\n",
       "      <td>ALL</td>\n",
       "      <td>Passes</td>\n",
       "      <td>Accurate passes</td>\n",
       "      <td>485.00</td>\n",
       "      <td>80.00</td>\n",
       "    </tr>\n",
       "    <tr>\n",
       "      <th>26</th>\n",
       "      <td>ALL</td>\n",
       "      <td>Passes</td>\n",
       "      <td>Throw-ins</td>\n",
       "      <td>16.00</td>\n",
       "      <td>11.00</td>\n",
       "    </tr>\n",
       "    <tr>\n",
       "      <th>27</th>\n",
       "      <td>ALL</td>\n",
       "      <td>Passes</td>\n",
       "      <td>Final third entries</td>\n",
       "      <td>81.00</td>\n",
       "      <td>46.00</td>\n",
       "    </tr>\n",
       "    <tr>\n",
       "      <th>28</th>\n",
       "      <td>ALL</td>\n",
       "      <td>Passes</td>\n",
       "      <td>Final third phase</td>\n",
       "      <td>0.81</td>\n",
       "      <td>0.40</td>\n",
       "    </tr>\n",
       "    <tr>\n",
       "      <th>29</th>\n",
       "      <td>ALL</td>\n",
       "      <td>Passes</td>\n",
       "      <td>Long balls</td>\n",
       "      <td>0.52</td>\n",
       "      <td>0.28</td>\n",
       "    </tr>\n",
       "    <tr>\n",
       "      <th>30</th>\n",
       "      <td>ALL</td>\n",
       "      <td>Passes</td>\n",
       "      <td>Crosses</td>\n",
       "      <td>0.29</td>\n",
       "      <td>0.00</td>\n",
       "    </tr>\n",
       "    <tr>\n",
       "      <th>31</th>\n",
       "      <td>ALL</td>\n",
       "      <td>Duels</td>\n",
       "      <td>Duels</td>\n",
       "      <td>0.51</td>\n",
       "      <td>0.49</td>\n",
       "    </tr>\n",
       "    <tr>\n",
       "      <th>32</th>\n",
       "      <td>ALL</td>\n",
       "      <td>Duels</td>\n",
       "      <td>Dispossessed</td>\n",
       "      <td>6.00</td>\n",
       "      <td>7.00</td>\n",
       "    </tr>\n",
       "    <tr>\n",
       "      <th>33</th>\n",
       "      <td>ALL</td>\n",
       "      <td>Duels</td>\n",
       "      <td>Ground duels</td>\n",
       "      <td>0.47</td>\n",
       "      <td>0.53</td>\n",
       "    </tr>\n",
       "    <tr>\n",
       "      <th>34</th>\n",
       "      <td>ALL</td>\n",
       "      <td>Duels</td>\n",
       "      <td>Aerial duels</td>\n",
       "      <td>0.59</td>\n",
       "      <td>0.41</td>\n",
       "    </tr>\n",
       "    <tr>\n",
       "      <th>35</th>\n",
       "      <td>ALL</td>\n",
       "      <td>Duels</td>\n",
       "      <td>Dribbles</td>\n",
       "      <td>0.40</td>\n",
       "      <td>0.46</td>\n",
       "    </tr>\n",
       "    <tr>\n",
       "      <th>36</th>\n",
       "      <td>ALL</td>\n",
       "      <td>Defending</td>\n",
       "      <td>Tackles won</td>\n",
       "      <td>0.71</td>\n",
       "      <td>0.42</td>\n",
       "    </tr>\n",
       "    <tr>\n",
       "      <th>37</th>\n",
       "      <td>ALL</td>\n",
       "      <td>Defending</td>\n",
       "      <td>Total tackles</td>\n",
       "      <td>14.00</td>\n",
       "      <td>12.00</td>\n",
       "    </tr>\n",
       "    <tr>\n",
       "      <th>38</th>\n",
       "      <td>ALL</td>\n",
       "      <td>Defending</td>\n",
       "      <td>Interceptions</td>\n",
       "      <td>3.00</td>\n",
       "      <td>3.00</td>\n",
       "    </tr>\n",
       "    <tr>\n",
       "      <th>39</th>\n",
       "      <td>ALL</td>\n",
       "      <td>Defending</td>\n",
       "      <td>Recoveries</td>\n",
       "      <td>34.00</td>\n",
       "      <td>29.00</td>\n",
       "    </tr>\n",
       "    <tr>\n",
       "      <th>40</th>\n",
       "      <td>ALL</td>\n",
       "      <td>Defending</td>\n",
       "      <td>Clearances</td>\n",
       "      <td>15.00</td>\n",
       "      <td>27.00</td>\n",
       "    </tr>\n",
       "    <tr>\n",
       "      <th>41</th>\n",
       "      <td>ALL</td>\n",
       "      <td>Defending</td>\n",
       "      <td>Errors lead to a shot</td>\n",
       "      <td>0.00</td>\n",
       "      <td>1.00</td>\n",
       "    </tr>\n",
       "    <tr>\n",
       "      <th>42</th>\n",
       "      <td>ALL</td>\n",
       "      <td>Goalkeeping</td>\n",
       "      <td>Total saves</td>\n",
       "      <td>1.00</td>\n",
       "      <td>3.00</td>\n",
       "    </tr>\n",
       "    <tr>\n",
       "      <th>43</th>\n",
       "      <td>ALL</td>\n",
       "      <td>Goalkeeping</td>\n",
       "      <td>Goals prevented</td>\n",
       "      <td>-0.99</td>\n",
       "      <td>0.05</td>\n",
       "    </tr>\n",
       "    <tr>\n",
       "      <th>44</th>\n",
       "      <td>ALL</td>\n",
       "      <td>Goalkeeping</td>\n",
       "      <td>Big saves</td>\n",
       "      <td>0.00</td>\n",
       "      <td>1.00</td>\n",
       "    </tr>\n",
       "    <tr>\n",
       "      <th>45</th>\n",
       "      <td>ALL</td>\n",
       "      <td>Goalkeeping</td>\n",
       "      <td>High claims</td>\n",
       "      <td>0.00</td>\n",
       "      <td>1.00</td>\n",
       "    </tr>\n",
       "    <tr>\n",
       "      <th>46</th>\n",
       "      <td>ALL</td>\n",
       "      <td>Goalkeeping</td>\n",
       "      <td>Punches</td>\n",
       "      <td>0.00</td>\n",
       "      <td>1.00</td>\n",
       "    </tr>\n",
       "    <tr>\n",
       "      <th>47</th>\n",
       "      <td>ALL</td>\n",
       "      <td>Goalkeeping</td>\n",
       "      <td>Goal kicks</td>\n",
       "      <td>6.00</td>\n",
       "      <td>19.00</td>\n",
       "    </tr>\n",
       "  </tbody>\n",
       "</table>\n",
       "</div>"
      ],
      "text/plain": [
       "   Period           Group               Statistics    Home    Away\n",
       "0     ALL  Match overview          Ball possession    0.80    0.20\n",
       "1     ALL  Match overview           Expected goals    1.72    1.81\n",
       "2     ALL  Match overview              Big chances    3.00    3.00\n",
       "3     ALL  Match overview              Total shots   22.00    8.00\n",
       "4     ALL  Match overview         Goalkeeper saves    1.00    3.00\n",
       "5     ALL  Match overview             Corner kicks    7.00    0.00\n",
       "6     ALL  Match overview                    Fouls   12.00    9.00\n",
       "7     ALL  Match overview                   Passes  547.00  141.00\n",
       "8     ALL  Match overview                  Tackles   14.00   12.00\n",
       "9     ALL  Match overview               Free kicks    9.00   11.00\n",
       "10    ALL  Match overview             Yellow cards    4.00    4.00\n",
       "11    ALL  Match overview                Red cards    0.00    1.00\n",
       "12    ALL           Shots              Total shots   22.00    8.00\n",
       "13    ALL           Shots          Shots on target    4.00    3.00\n",
       "14    ALL           Shots             Hit woodwork    0.00    0.00\n",
       "15    ALL           Shots         Shots off target   11.00    3.00\n",
       "16    ALL           Shots            Blocked shots    7.00    2.00\n",
       "17    ALL           Shots         Shots inside box   15.00    6.00\n",
       "18    ALL           Shots        Shots outside box    7.00    2.00\n",
       "19    ALL          Attack       Big chances scored    0.00    3.00\n",
       "20    ALL          Attack       Big chances missed    3.00    0.00\n",
       "21    ALL          Attack            Through balls    1.00    0.00\n",
       "22    ALL          Attack  Touches in penalty area   29.00   12.00\n",
       "23    ALL          Attack    Fouled in final third    1.00    3.00\n",
       "24    ALL          Attack                 Offsides    2.00    0.00\n",
       "25    ALL          Passes          Accurate passes  485.00   80.00\n",
       "26    ALL          Passes                Throw-ins   16.00   11.00\n",
       "27    ALL          Passes      Final third entries   81.00   46.00\n",
       "28    ALL          Passes        Final third phase    0.81    0.40\n",
       "29    ALL          Passes               Long balls    0.52    0.28\n",
       "30    ALL          Passes                  Crosses    0.29    0.00\n",
       "31    ALL           Duels                    Duels    0.51    0.49\n",
       "32    ALL           Duels             Dispossessed    6.00    7.00\n",
       "33    ALL           Duels             Ground duels    0.47    0.53\n",
       "34    ALL           Duels             Aerial duels    0.59    0.41\n",
       "35    ALL           Duels                 Dribbles    0.40    0.46\n",
       "36    ALL       Defending              Tackles won    0.71    0.42\n",
       "37    ALL       Defending            Total tackles   14.00   12.00\n",
       "38    ALL       Defending            Interceptions    3.00    3.00\n",
       "39    ALL       Defending               Recoveries   34.00   29.00\n",
       "40    ALL       Defending               Clearances   15.00   27.00\n",
       "41    ALL       Defending    Errors lead to a shot    0.00    1.00\n",
       "42    ALL     Goalkeeping              Total saves    1.00    3.00\n",
       "43    ALL     Goalkeeping          Goals prevented   -0.99    0.05\n",
       "44    ALL     Goalkeeping                Big saves    0.00    1.00\n",
       "45    ALL     Goalkeeping              High claims    0.00    1.00\n",
       "46    ALL     Goalkeeping                  Punches    0.00    1.00\n",
       "47    ALL     Goalkeeping               Goal kicks    6.00   19.00"
      ]
     },
     "metadata": {},
     "output_type": "display_data"
    }
   ],
   "source": [
    "# Usando loc para selecionar linhas onde 'Period' é igual a 'ALL', para analisar dados dos dois tempos de uma só vez\n",
    "result = df.loc[df['Period'] == 'ALL']\n",
    "\n",
    "display(result)"
   ]
  },
  {
   "cell_type": "code",
   "execution_count": 52,
   "metadata": {},
   "outputs": [
    {
     "name": "stdout",
     "output_type": "stream",
     "text": [
      "<class 'pandas.core.frame.DataFrame'>\n",
      "Index: 48 entries, 0 to 47\n",
      "Data columns (total 5 columns):\n",
      " #   Column      Non-Null Count  Dtype  \n",
      "---  ------      --------------  -----  \n",
      " 0   Period      48 non-null     object \n",
      " 1   Group       48 non-null     object \n",
      " 2   Statistics  48 non-null     object \n",
      " 3   Home        48 non-null     float64\n",
      " 4   Away        48 non-null     float64\n",
      "dtypes: float64(2), object(3)\n",
      "memory usage: 2.2+ KB\n"
     ]
    }
   ],
   "source": [
    "# Checando transformação\n",
    "result.info()"
   ]
  },
  {
   "cell_type": "markdown",
   "metadata": {},
   "source": [
    "## Analisando estatisticas gerais com gráficos de barra"
   ]
  },
  {
   "cell_type": "code",
   "execution_count": 53,
   "metadata": {},
   "outputs": [
    {
     "data": {
      "application/vnd.plotly.v1+json": {
       "config": {
        "plotlyServerURL": "https://plot.ly"
       },
       "data": [
        {
         "marker": {
          "color": [
           "black",
           "gray"
          ]
         },
         "name": "Ball possession",
         "type": "bar",
         "x": [
          "Atlético-MG",
          "Botafogo"
         ],
         "xaxis": "x",
         "y": [
          0.8,
          0.2
         ],
         "yaxis": "y"
        },
        {
         "marker": {
          "color": [
           "black",
           "gray"
          ]
         },
         "name": "Expected goals",
         "type": "bar",
         "x": [
          "Atlético-MG",
          "Botafogo"
         ],
         "xaxis": "x2",
         "y": [
          1.72,
          1.81
         ],
         "yaxis": "y2"
        },
        {
         "marker": {
          "color": [
           "black",
           "gray"
          ]
         },
         "name": "Big chances",
         "type": "bar",
         "x": [
          "Atlético-MG",
          "Botafogo"
         ],
         "xaxis": "x3",
         "y": [
          3,
          3
         ],
         "yaxis": "y3"
        },
        {
         "marker": {
          "color": [
           "black",
           "gray"
          ]
         },
         "name": "Total shots",
         "type": "bar",
         "x": [
          "Atlético-MG",
          "Botafogo"
         ],
         "xaxis": "x4",
         "y": [
          22,
          8
         ],
         "yaxis": "y4"
        },
        {
         "marker": {
          "color": [
           "black",
           "gray"
          ]
         },
         "name": "Goalkeeper saves",
         "type": "bar",
         "x": [
          "Atlético-MG",
          "Botafogo"
         ],
         "xaxis": "x5",
         "y": [
          1,
          3
         ],
         "yaxis": "y5"
        },
        {
         "marker": {
          "color": [
           "black",
           "gray"
          ]
         },
         "name": "Corner kicks",
         "type": "bar",
         "x": [
          "Atlético-MG",
          "Botafogo"
         ],
         "xaxis": "x6",
         "y": [
          7,
          0
         ],
         "yaxis": "y6"
        },
        {
         "marker": {
          "color": [
           "black",
           "gray"
          ]
         },
         "name": "Fouls",
         "type": "bar",
         "x": [
          "Atlético-MG",
          "Botafogo"
         ],
         "xaxis": "x7",
         "y": [
          12,
          9
         ],
         "yaxis": "y7"
        },
        {
         "marker": {
          "color": [
           "black",
           "gray"
          ]
         },
         "name": "Passes",
         "type": "bar",
         "x": [
          "Atlético-MG",
          "Botafogo"
         ],
         "xaxis": "x8",
         "y": [
          547,
          141
         ],
         "yaxis": "y8"
        },
        {
         "marker": {
          "color": [
           "black",
           "gray"
          ]
         },
         "name": "Tackles",
         "type": "bar",
         "x": [
          "Atlético-MG",
          "Botafogo"
         ],
         "xaxis": "x9",
         "y": [
          14,
          12
         ],
         "yaxis": "y9"
        },
        {
         "marker": {
          "color": [
           "black",
           "gray"
          ]
         },
         "name": "Free kicks",
         "type": "bar",
         "x": [
          "Atlético-MG",
          "Botafogo"
         ],
         "xaxis": "x10",
         "y": [
          9,
          11
         ],
         "yaxis": "y10"
        },
        {
         "marker": {
          "color": [
           "black",
           "gray"
          ]
         },
         "name": "Yellow cards",
         "type": "bar",
         "x": [
          "Atlético-MG",
          "Botafogo"
         ],
         "xaxis": "x11",
         "y": [
          4,
          4
         ],
         "yaxis": "y11"
        },
        {
         "marker": {
          "color": [
           "black",
           "gray"
          ]
         },
         "name": "Red cards",
         "type": "bar",
         "x": [
          "Atlético-MG",
          "Botafogo"
         ],
         "xaxis": "x12",
         "y": [
          0,
          1
         ],
         "yaxis": "y12"
        }
       ],
       "layout": {
        "annotations": [
         {
          "font": {
           "size": 16
          },
          "showarrow": false,
          "text": "Ball possession",
          "x": 0.14444444444444446,
          "xanchor": "center",
          "xref": "paper",
          "y": 1,
          "yanchor": "bottom",
          "yref": "paper"
         },
         {
          "font": {
           "size": 16
          },
          "showarrow": false,
          "text": "Expected goals",
          "x": 0.5,
          "xanchor": "center",
          "xref": "paper",
          "y": 1,
          "yanchor": "bottom",
          "yref": "paper"
         },
         {
          "font": {
           "size": 16
          },
          "showarrow": false,
          "text": "Big chances",
          "x": 0.8555555555555556,
          "xanchor": "center",
          "xref": "paper",
          "y": 1,
          "yanchor": "bottom",
          "yref": "paper"
         },
         {
          "font": {
           "size": 16
          },
          "showarrow": false,
          "text": "Total shots",
          "x": 0.14444444444444446,
          "xanchor": "center",
          "xref": "paper",
          "y": 0.71875,
          "yanchor": "bottom",
          "yref": "paper"
         },
         {
          "font": {
           "size": 16
          },
          "showarrow": false,
          "text": "Goalkeeper saves",
          "x": 0.5,
          "xanchor": "center",
          "xref": "paper",
          "y": 0.71875,
          "yanchor": "bottom",
          "yref": "paper"
         },
         {
          "font": {
           "size": 16
          },
          "showarrow": false,
          "text": "Corner kicks",
          "x": 0.8555555555555556,
          "xanchor": "center",
          "xref": "paper",
          "y": 0.71875,
          "yanchor": "bottom",
          "yref": "paper"
         },
         {
          "font": {
           "size": 16
          },
          "showarrow": false,
          "text": "Fouls",
          "x": 0.14444444444444446,
          "xanchor": "center",
          "xref": "paper",
          "y": 0.4375,
          "yanchor": "bottom",
          "yref": "paper"
         },
         {
          "font": {
           "size": 16
          },
          "showarrow": false,
          "text": "Passes",
          "x": 0.5,
          "xanchor": "center",
          "xref": "paper",
          "y": 0.4375,
          "yanchor": "bottom",
          "yref": "paper"
         },
         {
          "font": {
           "size": 16
          },
          "showarrow": false,
          "text": "Tackles",
          "x": 0.8555555555555556,
          "xanchor": "center",
          "xref": "paper",
          "y": 0.4375,
          "yanchor": "bottom",
          "yref": "paper"
         },
         {
          "font": {
           "size": 16
          },
          "showarrow": false,
          "text": "Free kicks",
          "x": 0.14444444444444446,
          "xanchor": "center",
          "xref": "paper",
          "y": 0.15625,
          "yanchor": "bottom",
          "yref": "paper"
         },
         {
          "font": {
           "size": 16
          },
          "showarrow": false,
          "text": "Yellow cards",
          "x": 0.5,
          "xanchor": "center",
          "xref": "paper",
          "y": 0.15625,
          "yanchor": "bottom",
          "yref": "paper"
         },
         {
          "font": {
           "size": 16
          },
          "showarrow": false,
          "text": "Red cards",
          "x": 0.8555555555555556,
          "xanchor": "center",
          "xref": "paper",
          "y": 0.15625,
          "yanchor": "bottom",
          "yref": "paper"
         }
        ],
        "height": 1200,
        "showlegend": false,
        "template": {
         "data": {
          "bar": [
           {
            "error_x": {
             "color": "#2a3f5f"
            },
            "error_y": {
             "color": "#2a3f5f"
            },
            "marker": {
             "line": {
              "color": "#E5ECF6",
              "width": 0.5
             },
             "pattern": {
              "fillmode": "overlay",
              "size": 10,
              "solidity": 0.2
             }
            },
            "type": "bar"
           }
          ],
          "barpolar": [
           {
            "marker": {
             "line": {
              "color": "#E5ECF6",
              "width": 0.5
             },
             "pattern": {
              "fillmode": "overlay",
              "size": 10,
              "solidity": 0.2
             }
            },
            "type": "barpolar"
           }
          ],
          "carpet": [
           {
            "aaxis": {
             "endlinecolor": "#2a3f5f",
             "gridcolor": "white",
             "linecolor": "white",
             "minorgridcolor": "white",
             "startlinecolor": "#2a3f5f"
            },
            "baxis": {
             "endlinecolor": "#2a3f5f",
             "gridcolor": "white",
             "linecolor": "white",
             "minorgridcolor": "white",
             "startlinecolor": "#2a3f5f"
            },
            "type": "carpet"
           }
          ],
          "choropleth": [
           {
            "colorbar": {
             "outlinewidth": 0,
             "ticks": ""
            },
            "type": "choropleth"
           }
          ],
          "contour": [
           {
            "colorbar": {
             "outlinewidth": 0,
             "ticks": ""
            },
            "colorscale": [
             [
              0,
              "#0d0887"
             ],
             [
              0.1111111111111111,
              "#46039f"
             ],
             [
              0.2222222222222222,
              "#7201a8"
             ],
             [
              0.3333333333333333,
              "#9c179e"
             ],
             [
              0.4444444444444444,
              "#bd3786"
             ],
             [
              0.5555555555555556,
              "#d8576b"
             ],
             [
              0.6666666666666666,
              "#ed7953"
             ],
             [
              0.7777777777777778,
              "#fb9f3a"
             ],
             [
              0.8888888888888888,
              "#fdca26"
             ],
             [
              1,
              "#f0f921"
             ]
            ],
            "type": "contour"
           }
          ],
          "contourcarpet": [
           {
            "colorbar": {
             "outlinewidth": 0,
             "ticks": ""
            },
            "type": "contourcarpet"
           }
          ],
          "heatmap": [
           {
            "colorbar": {
             "outlinewidth": 0,
             "ticks": ""
            },
            "colorscale": [
             [
              0,
              "#0d0887"
             ],
             [
              0.1111111111111111,
              "#46039f"
             ],
             [
              0.2222222222222222,
              "#7201a8"
             ],
             [
              0.3333333333333333,
              "#9c179e"
             ],
             [
              0.4444444444444444,
              "#bd3786"
             ],
             [
              0.5555555555555556,
              "#d8576b"
             ],
             [
              0.6666666666666666,
              "#ed7953"
             ],
             [
              0.7777777777777778,
              "#fb9f3a"
             ],
             [
              0.8888888888888888,
              "#fdca26"
             ],
             [
              1,
              "#f0f921"
             ]
            ],
            "type": "heatmap"
           }
          ],
          "heatmapgl": [
           {
            "colorbar": {
             "outlinewidth": 0,
             "ticks": ""
            },
            "colorscale": [
             [
              0,
              "#0d0887"
             ],
             [
              0.1111111111111111,
              "#46039f"
             ],
             [
              0.2222222222222222,
              "#7201a8"
             ],
             [
              0.3333333333333333,
              "#9c179e"
             ],
             [
              0.4444444444444444,
              "#bd3786"
             ],
             [
              0.5555555555555556,
              "#d8576b"
             ],
             [
              0.6666666666666666,
              "#ed7953"
             ],
             [
              0.7777777777777778,
              "#fb9f3a"
             ],
             [
              0.8888888888888888,
              "#fdca26"
             ],
             [
              1,
              "#f0f921"
             ]
            ],
            "type": "heatmapgl"
           }
          ],
          "histogram": [
           {
            "marker": {
             "pattern": {
              "fillmode": "overlay",
              "size": 10,
              "solidity": 0.2
             }
            },
            "type": "histogram"
           }
          ],
          "histogram2d": [
           {
            "colorbar": {
             "outlinewidth": 0,
             "ticks": ""
            },
            "colorscale": [
             [
              0,
              "#0d0887"
             ],
             [
              0.1111111111111111,
              "#46039f"
             ],
             [
              0.2222222222222222,
              "#7201a8"
             ],
             [
              0.3333333333333333,
              "#9c179e"
             ],
             [
              0.4444444444444444,
              "#bd3786"
             ],
             [
              0.5555555555555556,
              "#d8576b"
             ],
             [
              0.6666666666666666,
              "#ed7953"
             ],
             [
              0.7777777777777778,
              "#fb9f3a"
             ],
             [
              0.8888888888888888,
              "#fdca26"
             ],
             [
              1,
              "#f0f921"
             ]
            ],
            "type": "histogram2d"
           }
          ],
          "histogram2dcontour": [
           {
            "colorbar": {
             "outlinewidth": 0,
             "ticks": ""
            },
            "colorscale": [
             [
              0,
              "#0d0887"
             ],
             [
              0.1111111111111111,
              "#46039f"
             ],
             [
              0.2222222222222222,
              "#7201a8"
             ],
             [
              0.3333333333333333,
              "#9c179e"
             ],
             [
              0.4444444444444444,
              "#bd3786"
             ],
             [
              0.5555555555555556,
              "#d8576b"
             ],
             [
              0.6666666666666666,
              "#ed7953"
             ],
             [
              0.7777777777777778,
              "#fb9f3a"
             ],
             [
              0.8888888888888888,
              "#fdca26"
             ],
             [
              1,
              "#f0f921"
             ]
            ],
            "type": "histogram2dcontour"
           }
          ],
          "mesh3d": [
           {
            "colorbar": {
             "outlinewidth": 0,
             "ticks": ""
            },
            "type": "mesh3d"
           }
          ],
          "parcoords": [
           {
            "line": {
             "colorbar": {
              "outlinewidth": 0,
              "ticks": ""
             }
            },
            "type": "parcoords"
           }
          ],
          "pie": [
           {
            "automargin": true,
            "type": "pie"
           }
          ],
          "scatter": [
           {
            "fillpattern": {
             "fillmode": "overlay",
             "size": 10,
             "solidity": 0.2
            },
            "type": "scatter"
           }
          ],
          "scatter3d": [
           {
            "line": {
             "colorbar": {
              "outlinewidth": 0,
              "ticks": ""
             }
            },
            "marker": {
             "colorbar": {
              "outlinewidth": 0,
              "ticks": ""
             }
            },
            "type": "scatter3d"
           }
          ],
          "scattercarpet": [
           {
            "marker": {
             "colorbar": {
              "outlinewidth": 0,
              "ticks": ""
             }
            },
            "type": "scattercarpet"
           }
          ],
          "scattergeo": [
           {
            "marker": {
             "colorbar": {
              "outlinewidth": 0,
              "ticks": ""
             }
            },
            "type": "scattergeo"
           }
          ],
          "scattergl": [
           {
            "marker": {
             "colorbar": {
              "outlinewidth": 0,
              "ticks": ""
             }
            },
            "type": "scattergl"
           }
          ],
          "scattermapbox": [
           {
            "marker": {
             "colorbar": {
              "outlinewidth": 0,
              "ticks": ""
             }
            },
            "type": "scattermapbox"
           }
          ],
          "scatterpolar": [
           {
            "marker": {
             "colorbar": {
              "outlinewidth": 0,
              "ticks": ""
             }
            },
            "type": "scatterpolar"
           }
          ],
          "scatterpolargl": [
           {
            "marker": {
             "colorbar": {
              "outlinewidth": 0,
              "ticks": ""
             }
            },
            "type": "scatterpolargl"
           }
          ],
          "scatterternary": [
           {
            "marker": {
             "colorbar": {
              "outlinewidth": 0,
              "ticks": ""
             }
            },
            "type": "scatterternary"
           }
          ],
          "surface": [
           {
            "colorbar": {
             "outlinewidth": 0,
             "ticks": ""
            },
            "colorscale": [
             [
              0,
              "#0d0887"
             ],
             [
              0.1111111111111111,
              "#46039f"
             ],
             [
              0.2222222222222222,
              "#7201a8"
             ],
             [
              0.3333333333333333,
              "#9c179e"
             ],
             [
              0.4444444444444444,
              "#bd3786"
             ],
             [
              0.5555555555555556,
              "#d8576b"
             ],
             [
              0.6666666666666666,
              "#ed7953"
             ],
             [
              0.7777777777777778,
              "#fb9f3a"
             ],
             [
              0.8888888888888888,
              "#fdca26"
             ],
             [
              1,
              "#f0f921"
             ]
            ],
            "type": "surface"
           }
          ],
          "table": [
           {
            "cells": {
             "fill": {
              "color": "#EBF0F8"
             },
             "line": {
              "color": "white"
             }
            },
            "header": {
             "fill": {
              "color": "#C8D4E3"
             },
             "line": {
              "color": "white"
             }
            },
            "type": "table"
           }
          ]
         },
         "layout": {
          "annotationdefaults": {
           "arrowcolor": "#2a3f5f",
           "arrowhead": 0,
           "arrowwidth": 1
          },
          "autotypenumbers": "strict",
          "coloraxis": {
           "colorbar": {
            "outlinewidth": 0,
            "ticks": ""
           }
          },
          "colorscale": {
           "diverging": [
            [
             0,
             "#8e0152"
            ],
            [
             0.1,
             "#c51b7d"
            ],
            [
             0.2,
             "#de77ae"
            ],
            [
             0.3,
             "#f1b6da"
            ],
            [
             0.4,
             "#fde0ef"
            ],
            [
             0.5,
             "#f7f7f7"
            ],
            [
             0.6,
             "#e6f5d0"
            ],
            [
             0.7,
             "#b8e186"
            ],
            [
             0.8,
             "#7fbc41"
            ],
            [
             0.9,
             "#4d9221"
            ],
            [
             1,
             "#276419"
            ]
           ],
           "sequential": [
            [
             0,
             "#0d0887"
            ],
            [
             0.1111111111111111,
             "#46039f"
            ],
            [
             0.2222222222222222,
             "#7201a8"
            ],
            [
             0.3333333333333333,
             "#9c179e"
            ],
            [
             0.4444444444444444,
             "#bd3786"
            ],
            [
             0.5555555555555556,
             "#d8576b"
            ],
            [
             0.6666666666666666,
             "#ed7953"
            ],
            [
             0.7777777777777778,
             "#fb9f3a"
            ],
            [
             0.8888888888888888,
             "#fdca26"
            ],
            [
             1,
             "#f0f921"
            ]
           ],
           "sequentialminus": [
            [
             0,
             "#0d0887"
            ],
            [
             0.1111111111111111,
             "#46039f"
            ],
            [
             0.2222222222222222,
             "#7201a8"
            ],
            [
             0.3333333333333333,
             "#9c179e"
            ],
            [
             0.4444444444444444,
             "#bd3786"
            ],
            [
             0.5555555555555556,
             "#d8576b"
            ],
            [
             0.6666666666666666,
             "#ed7953"
            ],
            [
             0.7777777777777778,
             "#fb9f3a"
            ],
            [
             0.8888888888888888,
             "#fdca26"
            ],
            [
             1,
             "#f0f921"
            ]
           ]
          },
          "colorway": [
           "#636efa",
           "#EF553B",
           "#00cc96",
           "#ab63fa",
           "#FFA15A",
           "#19d3f3",
           "#FF6692",
           "#B6E880",
           "#FF97FF",
           "#FECB52"
          ],
          "font": {
           "color": "#2a3f5f"
          },
          "geo": {
           "bgcolor": "white",
           "lakecolor": "white",
           "landcolor": "#E5ECF6",
           "showlakes": true,
           "showland": true,
           "subunitcolor": "white"
          },
          "hoverlabel": {
           "align": "left"
          },
          "hovermode": "closest",
          "mapbox": {
           "style": "light"
          },
          "paper_bgcolor": "white",
          "plot_bgcolor": "#E5ECF6",
          "polar": {
           "angularaxis": {
            "gridcolor": "white",
            "linecolor": "white",
            "ticks": ""
           },
           "bgcolor": "#E5ECF6",
           "radialaxis": {
            "gridcolor": "white",
            "linecolor": "white",
            "ticks": ""
           }
          },
          "scene": {
           "xaxis": {
            "backgroundcolor": "#E5ECF6",
            "gridcolor": "white",
            "gridwidth": 2,
            "linecolor": "white",
            "showbackground": true,
            "ticks": "",
            "zerolinecolor": "white"
           },
           "yaxis": {
            "backgroundcolor": "#E5ECF6",
            "gridcolor": "white",
            "gridwidth": 2,
            "linecolor": "white",
            "showbackground": true,
            "ticks": "",
            "zerolinecolor": "white"
           },
           "zaxis": {
            "backgroundcolor": "#E5ECF6",
            "gridcolor": "white",
            "gridwidth": 2,
            "linecolor": "white",
            "showbackground": true,
            "ticks": "",
            "zerolinecolor": "white"
           }
          },
          "shapedefaults": {
           "line": {
            "color": "#2a3f5f"
           }
          },
          "ternary": {
           "aaxis": {
            "gridcolor": "white",
            "linecolor": "white",
            "ticks": ""
           },
           "baxis": {
            "gridcolor": "white",
            "linecolor": "white",
            "ticks": ""
           },
           "bgcolor": "#E5ECF6",
           "caxis": {
            "gridcolor": "white",
            "linecolor": "white",
            "ticks": ""
           }
          },
          "title": {
           "x": 0.05
          },
          "xaxis": {
           "automargin": true,
           "gridcolor": "white",
           "linecolor": "white",
           "ticks": "",
           "title": {
            "standoff": 15
           },
           "zerolinecolor": "white",
           "zerolinewidth": 2
          },
          "yaxis": {
           "automargin": true,
           "gridcolor": "white",
           "linecolor": "white",
           "ticks": "",
           "title": {
            "standoff": 15
           },
           "zerolinecolor": "white",
           "zerolinewidth": 2
          }
         }
        },
        "title": {
         "text": "Comparação de Estatísticas (Atlético-MG vs Botafogo) - Match Overview"
        },
        "width": 900,
        "xaxis": {
         "anchor": "y",
         "domain": [
          0,
          0.2888888888888889
         ]
        },
        "xaxis10": {
         "anchor": "y10",
         "domain": [
          0,
          0.2888888888888889
         ]
        },
        "xaxis11": {
         "anchor": "y11",
         "domain": [
          0.35555555555555557,
          0.6444444444444445
         ]
        },
        "xaxis12": {
         "anchor": "y12",
         "domain": [
          0.7111111111111111,
          1
         ]
        },
        "xaxis2": {
         "anchor": "y2",
         "domain": [
          0.35555555555555557,
          0.6444444444444445
         ]
        },
        "xaxis3": {
         "anchor": "y3",
         "domain": [
          0.7111111111111111,
          1
         ]
        },
        "xaxis4": {
         "anchor": "y4",
         "domain": [
          0,
          0.2888888888888889
         ]
        },
        "xaxis5": {
         "anchor": "y5",
         "domain": [
          0.35555555555555557,
          0.6444444444444445
         ]
        },
        "xaxis6": {
         "anchor": "y6",
         "domain": [
          0.7111111111111111,
          1
         ]
        },
        "xaxis7": {
         "anchor": "y7",
         "domain": [
          0,
          0.2888888888888889
         ]
        },
        "xaxis8": {
         "anchor": "y8",
         "domain": [
          0.35555555555555557,
          0.6444444444444445
         ]
        },
        "xaxis9": {
         "anchor": "y9",
         "domain": [
          0.7111111111111111,
          1
         ]
        },
        "yaxis": {
         "anchor": "x",
         "domain": [
          0.84375,
          1
         ]
        },
        "yaxis10": {
         "anchor": "x10",
         "domain": [
          0,
          0.15625
         ]
        },
        "yaxis11": {
         "anchor": "x11",
         "domain": [
          0,
          0.15625
         ]
        },
        "yaxis12": {
         "anchor": "x12",
         "domain": [
          0,
          0.15625
         ]
        },
        "yaxis2": {
         "anchor": "x2",
         "domain": [
          0.84375,
          1
         ]
        },
        "yaxis3": {
         "anchor": "x3",
         "domain": [
          0.84375,
          1
         ]
        },
        "yaxis4": {
         "anchor": "x4",
         "domain": [
          0.5625,
          0.71875
         ]
        },
        "yaxis5": {
         "anchor": "x5",
         "domain": [
          0.5625,
          0.71875
         ]
        },
        "yaxis6": {
         "anchor": "x6",
         "domain": [
          0.5625,
          0.71875
         ]
        },
        "yaxis7": {
         "anchor": "x7",
         "domain": [
          0.28125,
          0.4375
         ]
        },
        "yaxis8": {
         "anchor": "x8",
         "domain": [
          0.28125,
          0.4375
         ]
        },
        "yaxis9": {
         "anchor": "x9",
         "domain": [
          0.28125,
          0.4375
         ]
        }
       }
      }
     },
     "metadata": {},
     "output_type": "display_data"
    },
    {
     "data": {
      "image/png": "[encoded data removed]",
      "text/plain": [
       "<IPython.core.display.Image object>"
      ]
     },
     "metadata": {},
     "output_type": "display_data"
    }
   ],
   "source": [
    "import plotly.graph_objects as go\n",
    "from plotly.subplots import make_subplots\n",
    "\n",
    "# Criando a função para gerar múltiplos gráficos em uma única figura interativa\n",
    "def create_comparative_bar_charts_single_image_plotly(df_tempo_completo_estatisticas_gerais):\n",
    "    # Filtrar apenas as linhas onde Group é 'Match overview'\n",
    "    filtered_df = df_tempo_completo_estatisticas_gerais[df_tempo_completo_estatisticas_gerais['Group'] == 'Match overview']\n",
    "\n",
    "    num_charts = len(filtered_df)\n",
    "    cols = 3  # Número de colunas na grade\n",
    "    rows = (num_charts + cols - 1) // cols  # Calcula o número de linhas necessário\n",
    "\n",
    "    # Criar subplots\n",
    "    fig = make_subplots(rows=rows, cols=cols, subplot_titles=filtered_df['Statistics'].tolist())\n",
    "\n",
    "    # Adicionar cada gráfico à grade de subplots\n",
    "    for i, (index, row) in enumerate(filtered_df.iterrows()):\n",
    "        col = (i % cols) + 1\n",
    "        row_idx = (i // cols) + 1\n",
    "\n",
    "        fig.add_trace(\n",
    "            go.Bar(\n",
    "                x=['Atlético-MG', 'Botafogo'], \n",
    "                y=[row['Home'], row['Away']],\n",
    "                marker_color=['black', 'gray'],\n",
    "                name=row['Statistics']\n",
    "            ),\n",
    "            row=row_idx,\n",
    "            col=col\n",
    "        )\n",
    "\n",
    "    # Atualizar layout\n",
    "    fig.update_layout(\n",
    "        height=rows * 300,  # Altura total ajustada ao número de linhas\n",
    "        width=900,  # Largura fixa\n",
    "        title_text=\"Comparação de Estatísticas (Atlético-MG vs Botafogo) - Match Overview\",\n",
    "        showlegend=False\n",
    "    )\n",
    "\n",
    "    # Exibir a figura\n",
    "    fig.show()\n",
    "    # Salvar o gráfico como imagem estática (PNG)\n",
    "    fig.write_image(\"graficos_estaticos1.png\")\n",
    "\n",
    "# Gerar os gráficos\n",
    "create_comparative_bar_charts_single_image_plotly(result)\n",
    "\n",
    "# Nome do arquivo da imagem\n",
    "image_path = \"graficos_estaticos1.png\"\n",
    "\n",
    "# Exibindo a imagem\n",
    "display(Image(filename=image_path))\n"
   ]
  },
  {
   "cell_type": "markdown",
   "metadata": {},
   "source": [
    "## Informações que podemos tirar dos gráficos:\n",
    "* O Botafogo entrou na partida como favorito, com uma expectativa de 1,81 gols, superando seu adversário em 0,09\n",
    "##### Mas o Atlético, apesar do não favoritismo, liderou a maioria das estatísticas. O que pode ter lavado a isso? Isso refletiu no placar?\n",
    "* Atlético liderou as estatísticas de Passe (547 x 141) ; Desarme (14 x 12) ; Posse de bola (80% x 20%) ; Finalizações (22 x 8) ; Escanteios (7 x 0)\n",
    "\n",
    "##### Um dos motivadores para esse cenário de jogo adverso as expectativas iniciais pode ser visto no gráfico de cartões vermelhos, onde o Botafogo ficou com menos um jogador desde o início da partida\n",
    "##### Toda essa vantagem não se traduziu no placar, como isso pode ser explicado?\n",
    "* É possível perceber que o número de chances perigosas ficou empatado em 3 x 3, o Botafogo se mostrou muito mais eficaz com a bola, uma vez que:\n",
    "* Precisou 4 vezes à menos de posse de bola em relação ao adversário para converter 3 gols\n",
    "* Teve uma precisão de 100% nas suas grandes chances, enquanto o Atlético teve um aproveitamento de cerca de 33,33%\n",
    "* E em relação do aproveitamento ao total de chutes, a diferença é ainda mais gritante, o aproveitamento do Botafogo foi de 37,5%, já o Atlético teve o número de 4,55%"
   ]
  },
  {
   "cell_type": "markdown",
   "metadata": {},
   "source": [
    "## Gráficos de ataque"
   ]
  },
  {
   "cell_type": "code",
   "execution_count": 63,
   "metadata": {},
   "outputs": [
    {
     "data": {
      "application/vnd.plotly.v1+json": {
       "config": {
        "plotlyServerURL": "https://plot.ly"
       },
       "data": [
        {
         "marker": {
          "color": [
           "black",
           "gray"
          ]
         },
         "name": "Total shots",
         "type": "bar",
         "x": [
          "Atlético-MG",
          "Botafogo"
         ],
         "xaxis": "x",
         "y": [
          22,
          8
         ],
         "yaxis": "y"
        },
        {
         "marker": {
          "color": [
           "black",
           "gray"
          ]
         },
         "name": "Shots on target",
         "type": "bar",
         "x": [
          "Atlético-MG",
          "Botafogo"
         ],
         "xaxis": "x2",
         "y": [
          4,
          3
         ],
         "yaxis": "y2"
        },
        {
         "marker": {
          "color": [
           "black",
           "gray"
          ]
         },
         "name": "Hit woodwork",
         "type": "bar",
         "x": [
          "Atlético-MG",
          "Botafogo"
         ],
         "xaxis": "x3",
         "y": [
          0,
          0
         ],
         "yaxis": "y3"
        },
        {
         "marker": {
          "color": [
           "black",
           "gray"
          ]
         },
         "name": "Shots off target",
         "type": "bar",
         "x": [
          "Atlético-MG",
          "Botafogo"
         ],
         "xaxis": "x4",
         "y": [
          11,
          3
         ],
         "yaxis": "y4"
        },
        {
         "marker": {
          "color": [
           "black",
           "gray"
          ]
         },
         "name": "Blocked shots",
         "type": "bar",
         "x": [
          "Atlético-MG",
          "Botafogo"
         ],
         "xaxis": "x5",
         "y": [
          7,
          2
         ],
         "yaxis": "y5"
        },
        {
         "marker": {
          "color": [
           "black",
           "gray"
          ]
         },
         "name": "Shots inside box",
         "type": "bar",
         "x": [
          "Atlético-MG",
          "Botafogo"
         ],
         "xaxis": "x6",
         "y": [
          15,
          6
         ],
         "yaxis": "y6"
        },
        {
         "marker": {
          "color": [
           "black",
           "gray"
          ]
         },
         "name": "Shots outside box",
         "type": "bar",
         "x": [
          "Atlético-MG",
          "Botafogo"
         ],
         "xaxis": "x7",
         "y": [
          7,
          2
         ],
         "yaxis": "y7"
        }
       ],
       "layout": {
        "annotations": [
         {
          "font": {
           "size": 16
          },
          "showarrow": false,
          "text": "Total shots",
          "x": 0.14444444444444446,
          "xanchor": "center",
          "xref": "paper",
          "y": 1,
          "yanchor": "bottom",
          "yref": "paper"
         },
         {
          "font": {
           "size": 16
          },
          "showarrow": false,
          "text": "Shots on target",
          "x": 0.5,
          "xanchor": "center",
          "xref": "paper",
          "y": 1,
          "yanchor": "bottom",
          "yref": "paper"
         },
         {
          "font": {
           "size": 16
          },
          "showarrow": false,
          "text": "Hit woodwork",
          "x": 0.8555555555555556,
          "xanchor": "center",
          "xref": "paper",
          "y": 1,
          "yanchor": "bottom",
          "yref": "paper"
         },
         {
          "font": {
           "size": 16
          },
          "showarrow": false,
          "text": "Shots off target",
          "x": 0.14444444444444446,
          "xanchor": "center",
          "xref": "paper",
          "y": 0.6111111111111112,
          "yanchor": "bottom",
          "yref": "paper"
         },
         {
          "font": {
           "size": 16
          },
          "showarrow": false,
          "text": "Blocked shots",
          "x": 0.5,
          "xanchor": "center",
          "xref": "paper",
          "y": 0.6111111111111112,
          "yanchor": "bottom",
          "yref": "paper"
         },
         {
          "font": {
           "size": 16
          },
          "showarrow": false,
          "text": "Shots inside box",
          "x": 0.8555555555555556,
          "xanchor": "center",
          "xref": "paper",
          "y": 0.6111111111111112,
          "yanchor": "bottom",
          "yref": "paper"
         },
         {
          "font": {
           "size": 16
          },
          "showarrow": false,
          "text": "Shots outside box",
          "x": 0.14444444444444446,
          "xanchor": "center",
          "xref": "paper",
          "y": 0.22222222222222224,
          "yanchor": "bottom",
          "yref": "paper"
         }
        ],
        "height": 900,
        "showlegend": false,
        "template": {
         "data": {
          "bar": [
           {
            "error_x": {
             "color": "#2a3f5f"
            },
            "error_y": {
             "color": "#2a3f5f"
            },
            "marker": {
             "line": {
              "color": "#E5ECF6",
              "width": 0.5
             },
             "pattern": {
              "fillmode": "overlay",
              "size": 10,
              "solidity": 0.2
             }
            },
            "type": "bar"
           }
          ],
          "barpolar": [
           {
            "marker": {
             "line": {
              "color": "#E5ECF6",
              "width": 0.5
             },
             "pattern": {
              "fillmode": "overlay",
              "size": 10,
              "solidity": 0.2
             }
            },
            "type": "barpolar"
           }
          ],
          "carpet": [
           {
            "aaxis": {
             "endlinecolor": "#2a3f5f",
             "gridcolor": "white",
             "linecolor": "white",
             "minorgridcolor": "white",
             "startlinecolor": "#2a3f5f"
            },
            "baxis": {
             "endlinecolor": "#2a3f5f",
             "gridcolor": "white",
             "linecolor": "white",
             "minorgridcolor": "white",
             "startlinecolor": "#2a3f5f"
            },
            "type": "carpet"
           }
          ],
          "choropleth": [
           {
            "colorbar": {
             "outlinewidth": 0,
             "ticks": ""
            },
            "type": "choropleth"
           }
          ],
          "contour": [
           {
            "colorbar": {
             "outlinewidth": 0,
             "ticks": ""
            },
            "colorscale": [
             [
              0,
              "#0d0887"
             ],
             [
              0.1111111111111111,
              "#46039f"
             ],
             [
              0.2222222222222222,
              "#7201a8"
             ],
             [
              0.3333333333333333,
              "#9c179e"
             ],
             [
              0.4444444444444444,
              "#bd3786"
             ],
             [
              0.5555555555555556,
              "#d8576b"
             ],
             [
              0.6666666666666666,
              "#ed7953"
             ],
             [
              0.7777777777777778,
              "#fb9f3a"
             ],
             [
              0.8888888888888888,
              "#fdca26"
             ],
             [
              1,
              "#f0f921"
             ]
            ],
            "type": "contour"
           }
          ],
          "contourcarpet": [
           {
            "colorbar": {
             "outlinewidth": 0,
             "ticks": ""
            },
            "type": "contourcarpet"
           }
          ],
          "heatmap": [
           {
            "colorbar": {
             "outlinewidth": 0,
             "ticks": ""
            },
            "colorscale": [
             [
              0,
              "#0d0887"
             ],
             [
              0.1111111111111111,
              "#46039f"
             ],
             [
              0.2222222222222222,
              "#7201a8"
             ],
             [
              0.3333333333333333,
              "#9c179e"
             ],
             [
              0.4444444444444444,
              "#bd3786"
             ],
             [
              0.5555555555555556,
              "#d8576b"
             ],
             [
              0.6666666666666666,
              "#ed7953"
             ],
             [
              0.7777777777777778,
              "#fb9f3a"
             ],
             [
              0.8888888888888888,
              "#fdca26"
             ],
             [
              1,
              "#f0f921"
             ]
            ],
            "type": "heatmap"
           }
          ],
          "heatmapgl": [
           {
            "colorbar": {
             "outlinewidth": 0,
             "ticks": ""
            },
            "colorscale": [
             [
              0,
              "#0d0887"
             ],
             [
              0.1111111111111111,
              "#46039f"
             ],
             [
              0.2222222222222222,
              "#7201a8"
             ],
             [
              0.3333333333333333,
              "#9c179e"
             ],
             [
              0.4444444444444444,
              "#bd3786"
             ],
             [
              0.5555555555555556,
              "#d8576b"
             ],
             [
              0.6666666666666666,
              "#ed7953"
             ],
             [
              0.7777777777777778,
              "#fb9f3a"
             ],
             [
              0.8888888888888888,
              "#fdca26"
             ],
             [
              1,
              "#f0f921"
             ]
            ],
            "type": "heatmapgl"
           }
          ],
          "histogram": [
           {
            "marker": {
             "pattern": {
              "fillmode": "overlay",
              "size": 10,
              "solidity": 0.2
             }
            },
            "type": "histogram"
           }
          ],
          "histogram2d": [
           {
            "colorbar": {
             "outlinewidth": 0,
             "ticks": ""
            },
            "colorscale": [
             [
              0,
              "#0d0887"
             ],
             [
              0.1111111111111111,
              "#46039f"
             ],
             [
              0.2222222222222222,
              "#7201a8"
             ],
             [
              0.3333333333333333,
              "#9c179e"
             ],
             [
              0.4444444444444444,
              "#bd3786"
             ],
             [
              0.5555555555555556,
              "#d8576b"
             ],
             [
              0.6666666666666666,
              "#ed7953"
             ],
             [
              0.7777777777777778,
              "#fb9f3a"
             ],
             [
              0.8888888888888888,
              "#fdca26"
             ],
             [
              1,
              "#f0f921"
             ]
            ],
            "type": "histogram2d"
           }
          ],
          "histogram2dcontour": [
           {
            "colorbar": {
             "outlinewidth": 0,
             "ticks": ""
            },
            "colorscale": [
             [
              0,
              "#0d0887"
             ],
             [
              0.1111111111111111,
              "#46039f"
             ],
             [
              0.2222222222222222,
              "#7201a8"
             ],
             [
              0.3333333333333333,
              "#9c179e"
             ],
             [
              0.4444444444444444,
              "#bd3786"
             ],
             [
              0.5555555555555556,
              "#d8576b"
             ],
             [
              0.6666666666666666,
              "#ed7953"
             ],
             [
              0.7777777777777778,
              "#fb9f3a"
             ],
             [
              0.8888888888888888,
              "#fdca26"
             ],
             [
              1,
              "#f0f921"
             ]
            ],
            "type": "histogram2dcontour"
           }
          ],
          "mesh3d": [
           {
            "colorbar": {
             "outlinewidth": 0,
             "ticks": ""
            },
            "type": "mesh3d"
           }
          ],
          "parcoords": [
           {
            "line": {
             "colorbar": {
              "outlinewidth": 0,
              "ticks": ""
             }
            },
            "type": "parcoords"
           }
          ],
          "pie": [
           {
            "automargin": true,
            "type": "pie"
           }
          ],
          "scatter": [
           {
            "fillpattern": {
             "fillmode": "overlay",
             "size": 10,
             "solidity": 0.2
            },
            "type": "scatter"
           }
          ],
          "scatter3d": [
           {
            "line": {
             "colorbar": {
              "outlinewidth": 0,
              "ticks": ""
             }
            },
            "marker": {
             "colorbar": {
              "outlinewidth": 0,
              "ticks": ""
             }
            },
            "type": "scatter3d"
           }
          ],
          "scattercarpet": [
           {
            "marker": {
             "colorbar": {
              "outlinewidth": 0,
              "ticks": ""
             }
            },
            "type": "scattercarpet"
           }
          ],
          "scattergeo": [
           {
            "marker": {
             "colorbar": {
              "outlinewidth": 0,
              "ticks": ""
             }
            },
            "type": "scattergeo"
           }
          ],
          "scattergl": [
           {
            "marker": {
             "colorbar": {
              "outlinewidth": 0,
              "ticks": ""
             }
            },
            "type": "scattergl"
           }
          ],
          "scattermapbox": [
           {
            "marker": {
             "colorbar": {
              "outlinewidth": 0,
              "ticks": ""
             }
            },
            "type": "scattermapbox"
           }
          ],
          "scatterpolar": [
           {
            "marker": {
             "colorbar": {
              "outlinewidth": 0,
              "ticks": ""
             }
            },
            "type": "scatterpolar"
           }
          ],
          "scatterpolargl": [
           {
            "marker": {
             "colorbar": {
              "outlinewidth": 0,
              "ticks": ""
             }
            },
            "type": "scatterpolargl"
           }
          ],
          "scatterternary": [
           {
            "marker": {
             "colorbar": {
              "outlinewidth": 0,
              "ticks": ""
             }
            },
            "type": "scatterternary"
           }
          ],
          "surface": [
           {
            "colorbar": {
             "outlinewidth": 0,
             "ticks": ""
            },
            "colorscale": [
             [
              0,
              "#0d0887"
             ],
             [
              0.1111111111111111,
              "#46039f"
             ],
             [
              0.2222222222222222,
              "#7201a8"
             ],
             [
              0.3333333333333333,
              "#9c179e"
             ],
             [
              0.4444444444444444,
              "#bd3786"
             ],
             [
              0.5555555555555556,
              "#d8576b"
             ],
             [
              0.6666666666666666,
              "#ed7953"
             ],
             [
              0.7777777777777778,
              "#fb9f3a"
             ],
             [
              0.8888888888888888,
              "#fdca26"
             ],
             [
              1,
              "#f0f921"
             ]
            ],
            "type": "surface"
           }
          ],
          "table": [
           {
            "cells": {
             "fill": {
              "color": "#EBF0F8"
             },
             "line": {
              "color": "white"
             }
            },
            "header": {
             "fill": {
              "color": "#C8D4E3"
             },
             "line": {
              "color": "white"
             }
            },
            "type": "table"
           }
          ]
         },
         "layout": {
          "annotationdefaults": {
           "arrowcolor": "#2a3f5f",
           "arrowhead": 0,
           "arrowwidth": 1
          },
          "autotypenumbers": "strict",
          "coloraxis": {
           "colorbar": {
            "outlinewidth": 0,
            "ticks": ""
           }
          },
          "colorscale": {
           "diverging": [
            [
             0,
             "#8e0152"
            ],
            [
             0.1,
             "#c51b7d"
            ],
            [
             0.2,
             "#de77ae"
            ],
            [
             0.3,
             "#f1b6da"
            ],
            [
             0.4,
             "#fde0ef"
            ],
            [
             0.5,
             "#f7f7f7"
            ],
            [
             0.6,
             "#e6f5d0"
            ],
            [
             0.7,
             "#b8e186"
            ],
            [
             0.8,
             "#7fbc41"
            ],
            [
             0.9,
             "#4d9221"
            ],
            [
             1,
             "#276419"
            ]
           ],
           "sequential": [
            [
             0,
             "#0d0887"
            ],
            [
             0.1111111111111111,
             "#46039f"
            ],
            [
             0.2222222222222222,
             "#7201a8"
            ],
            [
             0.3333333333333333,
             "#9c179e"
            ],
            [
             0.4444444444444444,
             "#bd3786"
            ],
            [
             0.5555555555555556,
             "#d8576b"
            ],
            [
             0.6666666666666666,
             "#ed7953"
            ],
            [
             0.7777777777777778,
             "#fb9f3a"
            ],
            [
             0.8888888888888888,
             "#fdca26"
            ],
            [
             1,
             "#f0f921"
            ]
           ],
           "sequentialminus": [
            [
             0,
             "#0d0887"
            ],
            [
             0.1111111111111111,
             "#46039f"
            ],
            [
             0.2222222222222222,
             "#7201a8"
            ],
            [
             0.3333333333333333,
             "#9c179e"
            ],
            [
             0.4444444444444444,
             "#bd3786"
            ],
            [
             0.5555555555555556,
             "#d8576b"
            ],
            [
             0.6666666666666666,
             "#ed7953"
            ],
            [
             0.7777777777777778,
             "#fb9f3a"
            ],
            [
             0.8888888888888888,
             "#fdca26"
            ],
            [
             1,
             "#f0f921"
            ]
           ]
          },
          "colorway": [
           "#636efa",
           "#EF553B",
           "#00cc96",
           "#ab63fa",
           "#FFA15A",
           "#19d3f3",
           "#FF6692",
           "#B6E880",
           "#FF97FF",
           "#FECB52"
          ],
          "font": {
           "color": "#2a3f5f"
          },
          "geo": {
           "bgcolor": "white",
           "lakecolor": "white",
           "landcolor": "#E5ECF6",
           "showlakes": true,
           "showland": true,
           "subunitcolor": "white"
          },
          "hoverlabel": {
           "align": "left"
          },
          "hovermode": "closest",
          "mapbox": {
           "style": "light"
          },
          "paper_bgcolor": "white",
          "plot_bgcolor": "#E5ECF6",
          "polar": {
           "angularaxis": {
            "gridcolor": "white",
            "linecolor": "white",
            "ticks": ""
           },
           "bgcolor": "#E5ECF6",
           "radialaxis": {
            "gridcolor": "white",
            "linecolor": "white",
            "ticks": ""
           }
          },
          "scene": {
           "xaxis": {
            "backgroundcolor": "#E5ECF6",
            "gridcolor": "white",
            "gridwidth": 2,
            "linecolor": "white",
            "showbackground": true,
            "ticks": "",
            "zerolinecolor": "white"
           },
           "yaxis": {
            "backgroundcolor": "#E5ECF6",
            "gridcolor": "white",
            "gridwidth": 2,
            "linecolor": "white",
            "showbackground": true,
            "ticks": "",
            "zerolinecolor": "white"
           },
           "zaxis": {
            "backgroundcolor": "#E5ECF6",
            "gridcolor": "white",
            "gridwidth": 2,
            "linecolor": "white",
            "showbackground": true,
            "ticks": "",
            "zerolinecolor": "white"
           }
          },
          "shapedefaults": {
           "line": {
            "color": "#2a3f5f"
           }
          },
          "ternary": {
           "aaxis": {
            "gridcolor": "white",
            "linecolor": "white",
            "ticks": ""
           },
           "baxis": {
            "gridcolor": "white",
            "linecolor": "white",
            "ticks": ""
           },
           "bgcolor": "#E5ECF6",
           "caxis": {
            "gridcolor": "white",
            "linecolor": "white",
            "ticks": ""
           }
          },
          "title": {
           "x": 0.05
          },
          "xaxis": {
           "automargin": true,
           "gridcolor": "white",
           "linecolor": "white",
           "ticks": "",
           "title": {
            "standoff": 15
           },
           "zerolinecolor": "white",
           "zerolinewidth": 2
          },
          "yaxis": {
           "automargin": true,
           "gridcolor": "white",
           "linecolor": "white",
           "ticks": "",
           "title": {
            "standoff": 15
           },
           "zerolinecolor": "white",
           "zerolinewidth": 2
          }
         }
        },
        "title": {
         "text": "Comparação de Estatísticas (Atlético-MG vs Botafogo)  - Shots"
        },
        "width": 900,
        "xaxis": {
         "anchor": "y",
         "domain": [
          0,
          0.2888888888888889
         ]
        },
        "xaxis2": {
         "anchor": "y2",
         "domain": [
          0.35555555555555557,
          0.6444444444444445
         ]
        },
        "xaxis3": {
         "anchor": "y3",
         "domain": [
          0.7111111111111111,
          1
         ]
        },
        "xaxis4": {
         "anchor": "y4",
         "domain": [
          0,
          0.2888888888888889
         ]
        },
        "xaxis5": {
         "anchor": "y5",
         "domain": [
          0.35555555555555557,
          0.6444444444444445
         ]
        },
        "xaxis6": {
         "anchor": "y6",
         "domain": [
          0.7111111111111111,
          1
         ]
        },
        "xaxis7": {
         "anchor": "y7",
         "domain": [
          0,
          0.2888888888888889
         ]
        },
        "xaxis8": {
         "anchor": "y8",
         "domain": [
          0.35555555555555557,
          0.6444444444444445
         ]
        },
        "xaxis9": {
         "anchor": "y9",
         "domain": [
          0.7111111111111111,
          1
         ]
        },
        "yaxis": {
         "anchor": "x",
         "domain": [
          0.7777777777777778,
          1
         ]
        },
        "yaxis2": {
         "anchor": "x2",
         "domain": [
          0.7777777777777778,
          1
         ]
        },
        "yaxis3": {
         "anchor": "x3",
         "domain": [
          0.7777777777777778,
          1
         ]
        },
        "yaxis4": {
         "anchor": "x4",
         "domain": [
          0.3888888888888889,
          0.6111111111111112
         ]
        },
        "yaxis5": {
         "anchor": "x5",
         "domain": [
          0.3888888888888889,
          0.6111111111111112
         ]
        },
        "yaxis6": {
         "anchor": "x6",
         "domain": [
          0.3888888888888889,
          0.6111111111111112
         ]
        },
        "yaxis7": {
         "anchor": "x7",
         "domain": [
          0,
          0.22222222222222224
         ]
        },
        "yaxis8": {
         "anchor": "x8",
         "domain": [
          0,
          0.22222222222222224
         ]
        },
        "yaxis9": {
         "anchor": "x9",
         "domain": [
          0,
          0.22222222222222224
         ]
        }
       }
      }
     },
     "metadata": {},
     "output_type": "display_data"
    },
    {
     "data": {
      "image/png": "[encoded data removed]",
      "text/plain": [
       "<IPython.core.display.Image object>"
      ]
     },
     "metadata": {},
     "output_type": "display_data"
    }
   ],
   "source": [
    "import plotly.graph_objects as go\n",
    "from plotly.subplots import make_subplots\n",
    "\n",
    "# Criando a função para gerar múltiplos gráficos em uma única figura interativa\n",
    "def create_comparative_bar_charts_single_image_plotly(df_tempo_completo_estatisticas_gerais):\n",
    "    # Filtrar apenas as linhas onde Group é 'Shots'\n",
    "    filtered_df = df_tempo_completo_estatisticas_gerais[df_tempo_completo_estatisticas_gerais['Group'] == 'Shots']\n",
    "\n",
    "    num_charts = len(filtered_df)\n",
    "    cols = 3  # Número de colunas na grade\n",
    "    rows = (num_charts + cols - 1) // cols  # Calcula o número de linhas necessário\n",
    "\n",
    "    # Criar subplots\n",
    "    fig = make_subplots(rows=rows, cols=cols, subplot_titles=filtered_df['Statistics'].tolist())\n",
    "\n",
    "    # Adicionar cada gráfico à grade de subplots\n",
    "    for i, (index, row) in enumerate(filtered_df.iterrows()):\n",
    "        col = (i % cols) + 1\n",
    "        row_idx = (i // cols) + 1\n",
    "\n",
    "        fig.add_trace(\n",
    "            go.Bar(\n",
    "                x=['Atlético-MG', 'Botafogo'],\n",
    "                y=[row['Home'], row['Away']],\n",
    "                marker_color=['black', 'gray'],\n",
    "                name=row['Statistics']\n",
    "            ),\n",
    "            row=row_idx,\n",
    "            col=col\n",
    "        )\n",
    "\n",
    "    # Atualizar layout\n",
    "    fig.update_layout(\n",
    "        height=rows * 300,  # Altura total ajustada ao número de linhas\n",
    "        width=900,  # Largura fixa\n",
    "        title_text=\"Comparação de Estatísticas (Atlético-MG vs Botafogo)  - Shots\",\n",
    "        showlegend=False\n",
    "    )\n",
    "\n",
    "    # Exibir a figura\n",
    "    fig.show()\n",
    "    # Salvar o gráfico como imagem estática (PNG)\n",
    "    fig.write_image(\"graficos_estaticos2.png\")\n",
    "\n",
    "# Gerar os gráficos\n",
    "create_comparative_bar_charts_single_image_plotly(result)\n",
    "\n",
    "# Nome do arquivo da imagem\n",
    "image_path = \"graficos_estaticos2.png\"\n",
    "\n",
    "# Exibindo a imagem\n",
    "display(Image(filename=image_path))\n"
   ]
  },
  {
   "cell_type": "markdown",
   "metadata": {},
   "source": [
    "## Informações sobre chutes\n",
    "* Essas informações complementam o aproveitamento precário de 4,55 % do Atlético em chutes convertido em gols.\n",
    "* Apenas 18,18% dos chutes do Atlético conseguiram alcançar o alvo\n",
    "* Quase 70%(68,18%) dos chutes do Atlético foram realizados dentro da área, e mesmo estando próximos a meta adversária, não foram convertidos de maneira eficaz. O que demostrou falta de qualidade na conclusão\n",
    "* Apesar do volume de finalizações do Atlético, equipe mineira teve apenas 1 chute a mais, em relação a equipe Rio de Janeiro\n",
    "* Cerca de 40%(37,5%) das finalizações do Botafogo chegaram na meta atleticana, demostrando a sua superioridade em objetividade\n",
    "* A defesa do Botafogo neutralizou 31,81% dos chutes, já a do Atlético 25%"
   ]
  },
  {
   "cell_type": "code",
   "execution_count": 55,
   "metadata": {},
   "outputs": [
    {
     "data": {
      "application/vnd.plotly.v1+json": {
       "config": {
        "plotlyServerURL": "https://plot.ly"
       },
       "data": [
        {
         "marker": {
          "color": [
           "black",
           "gray"
          ]
         },
         "name": "Big chances scored",
         "type": "bar",
         "x": [
          "Atlético-MG",
          "Botafogo"
         ],
         "xaxis": "x",
         "y": [
          0,
          3
         ],
         "yaxis": "y"
        },
        {
         "marker": {
          "color": [
           "black",
           "gray"
          ]
         },
         "name": "Big chances missed",
         "type": "bar",
         "x": [
          "Atlético-MG",
          "Botafogo"
         ],
         "xaxis": "x2",
         "y": [
          3,
          0
         ],
         "yaxis": "y2"
        },
        {
         "marker": {
          "color": [
           "black",
           "gray"
          ]
         },
         "name": "Through balls",
         "type": "bar",
         "x": [
          "Atlético-MG",
          "Botafogo"
         ],
         "xaxis": "x3",
         "y": [
          1,
          0
         ],
         "yaxis": "y3"
        },
        {
         "marker": {
          "color": [
           "black",
           "gray"
          ]
         },
         "name": "Touches in penalty area",
         "type": "bar",
         "x": [
          "Atlético-MG",
          "Botafogo"
         ],
         "xaxis": "x4",
         "y": [
          29,
          12
         ],
         "yaxis": "y4"
        },
        {
         "marker": {
          "color": [
           "black",
           "gray"
          ]
         },
         "name": "Fouled in final third",
         "type": "bar",
         "x": [
          "Atlético-MG",
          "Botafogo"
         ],
         "xaxis": "x5",
         "y": [
          1,
          3
         ],
         "yaxis": "y5"
        },
        {
         "marker": {
          "color": [
           "black",
           "gray"
          ]
         },
         "name": "Offsides",
         "type": "bar",
         "x": [
          "Atlético-MG",
          "Botafogo"
         ],
         "xaxis": "x6",
         "y": [
          2,
          0
         ],
         "yaxis": "y6"
        }
       ],
       "layout": {
        "annotations": [
         {
          "font": {
           "size": 16
          },
          "showarrow": false,
          "text": "Big chances scored",
          "x": 0.14444444444444446,
          "xanchor": "center",
          "xref": "paper",
          "y": 1,
          "yanchor": "bottom",
          "yref": "paper"
         },
         {
          "font": {
           "size": 16
          },
          "showarrow": false,
          "text": "Big chances missed",
          "x": 0.5,
          "xanchor": "center",
          "xref": "paper",
          "y": 1,
          "yanchor": "bottom",
          "yref": "paper"
         },
         {
          "font": {
           "size": 16
          },
          "showarrow": false,
          "text": "Through balls",
          "x": 0.8555555555555556,
          "xanchor": "center",
          "xref": "paper",
          "y": 1,
          "yanchor": "bottom",
          "yref": "paper"
         },
         {
          "font": {
           "size": 16
          },
          "showarrow": false,
          "text": "Touches in penalty area",
          "x": 0.14444444444444446,
          "xanchor": "center",
          "xref": "paper",
          "y": 0.375,
          "yanchor": "bottom",
          "yref": "paper"
         },
         {
          "font": {
           "size": 16
          },
          "showarrow": false,
          "text": "Fouled in final third",
          "x": 0.5,
          "xanchor": "center",
          "xref": "paper",
          "y": 0.375,
          "yanchor": "bottom",
          "yref": "paper"
         },
         {
          "font": {
           "size": 16
          },
          "showarrow": false,
          "text": "Offsides",
          "x": 0.8555555555555556,
          "xanchor": "center",
          "xref": "paper",
          "y": 0.375,
          "yanchor": "bottom",
          "yref": "paper"
         }
        ],
        "height": 600,
        "showlegend": false,
        "template": {
         "data": {
          "bar": [
           {
            "error_x": {
             "color": "#2a3f5f"
            },
            "error_y": {
             "color": "#2a3f5f"
            },
            "marker": {
             "line": {
              "color": "#E5ECF6",
              "width": 0.5
             },
             "pattern": {
              "fillmode": "overlay",
              "size": 10,
              "solidity": 0.2
             }
            },
            "type": "bar"
           }
          ],
          "barpolar": [
           {
            "marker": {
             "line": {
              "color": "#E5ECF6",
              "width": 0.5
             },
             "pattern": {
              "fillmode": "overlay",
              "size": 10,
              "solidity": 0.2
             }
            },
            "type": "barpolar"
           }
          ],
          "carpet": [
           {
            "aaxis": {
             "endlinecolor": "#2a3f5f",
             "gridcolor": "white",
             "linecolor": "white",
             "minorgridcolor": "white",
             "startlinecolor": "#2a3f5f"
            },
            "baxis": {
             "endlinecolor": "#2a3f5f",
             "gridcolor": "white",
             "linecolor": "white",
             "minorgridcolor": "white",
             "startlinecolor": "#2a3f5f"
            },
            "type": "carpet"
           }
          ],
          "choropleth": [
           {
            "colorbar": {
             "outlinewidth": 0,
             "ticks": ""
            },
            "type": "choropleth"
           }
          ],
          "contour": [
           {
            "colorbar": {
             "outlinewidth": 0,
             "ticks": ""
            },
            "colorscale": [
             [
              0,
              "#0d0887"
             ],
             [
              0.1111111111111111,
              "#46039f"
             ],
             [
              0.2222222222222222,
              "#7201a8"
             ],
             [
              0.3333333333333333,
              "#9c179e"
             ],
             [
              0.4444444444444444,
              "#bd3786"
             ],
             [
              0.5555555555555556,
              "#d8576b"
             ],
             [
              0.6666666666666666,
              "#ed7953"
             ],
             [
              0.7777777777777778,
              "#fb9f3a"
             ],
             [
              0.8888888888888888,
              "#fdca26"
             ],
             [
              1,
              "#f0f921"
             ]
            ],
            "type": "contour"
           }
          ],
          "contourcarpet": [
           {
            "colorbar": {
             "outlinewidth": 0,
             "ticks": ""
            },
            "type": "contourcarpet"
           }
          ],
          "heatmap": [
           {
            "colorbar": {
             "outlinewidth": 0,
             "ticks": ""
            },
            "colorscale": [
             [
              0,
              "#0d0887"
             ],
             [
              0.1111111111111111,
              "#46039f"
             ],
             [
              0.2222222222222222,
              "#7201a8"
             ],
             [
              0.3333333333333333,
              "#9c179e"
             ],
             [
              0.4444444444444444,
              "#bd3786"
             ],
             [
              0.5555555555555556,
              "#d8576b"
             ],
             [
              0.6666666666666666,
              "#ed7953"
             ],
             [
              0.7777777777777778,
              "#fb9f3a"
             ],
             [
              0.8888888888888888,
              "#fdca26"
             ],
             [
              1,
              "#f0f921"
             ]
            ],
            "type": "heatmap"
           }
          ],
          "heatmapgl": [
           {
            "colorbar": {
             "outlinewidth": 0,
             "ticks": ""
            },
            "colorscale": [
             [
              0,
              "#0d0887"
             ],
             [
              0.1111111111111111,
              "#46039f"
             ],
             [
              0.2222222222222222,
              "#7201a8"
             ],
             [
              0.3333333333333333,
              "#9c179e"
             ],
             [
              0.4444444444444444,
              "#bd3786"
             ],
             [
              0.5555555555555556,
              "#d8576b"
             ],
             [
              0.6666666666666666,
              "#ed7953"
             ],
             [
              0.7777777777777778,
              "#fb9f3a"
             ],
             [
              0.8888888888888888,
              "#fdca26"
             ],
             [
              1,
              "#f0f921"
             ]
            ],
            "type": "heatmapgl"
           }
          ],
          "histogram": [
           {
            "marker": {
             "pattern": {
              "fillmode": "overlay",
              "size": 10,
              "solidity": 0.2
             }
            },
            "type": "histogram"
           }
          ],
          "histogram2d": [
           {
            "colorbar": {
             "outlinewidth": 0,
             "ticks": ""
            },
            "colorscale": [
             [
              0,
              "#0d0887"
             ],
             [
              0.1111111111111111,
              "#46039f"
             ],
             [
              0.2222222222222222,
              "#7201a8"
             ],
             [
              0.3333333333333333,
              "#9c179e"
             ],
             [
              0.4444444444444444,
              "#bd3786"
             ],
             [
              0.5555555555555556,
              "#d8576b"
             ],
             [
              0.6666666666666666,
              "#ed7953"
             ],
             [
              0.7777777777777778,
              "#fb9f3a"
             ],
             [
              0.8888888888888888,
              "#fdca26"
             ],
             [
              1,
              "#f0f921"
             ]
            ],
            "type": "histogram2d"
           }
          ],
          "histogram2dcontour": [
           {
            "colorbar": {
             "outlinewidth": 0,
             "ticks": ""
            },
            "colorscale": [
             [
              0,
              "#0d0887"
             ],
             [
              0.1111111111111111,
              "#46039f"
             ],
             [
              0.2222222222222222,
              "#7201a8"
             ],
             [
              0.3333333333333333,
              "#9c179e"
             ],
             [
              0.4444444444444444,
              "#bd3786"
             ],
             [
              0.5555555555555556,
              "#d8576b"
             ],
             [
              0.6666666666666666,
              "#ed7953"
             ],
             [
              0.7777777777777778,
              "#fb9f3a"
             ],
             [
              0.8888888888888888,
              "#fdca26"
             ],
             [
              1,
              "#f0f921"
             ]
            ],
            "type": "histogram2dcontour"
           }
          ],
          "mesh3d": [
           {
            "colorbar": {
             "outlinewidth": 0,
             "ticks": ""
            },
            "type": "mesh3d"
           }
          ],
          "parcoords": [
           {
            "line": {
             "colorbar": {
              "outlinewidth": 0,
              "ticks": ""
             }
            },
            "type": "parcoords"
           }
          ],
          "pie": [
           {
            "automargin": true,
            "type": "pie"
           }
          ],
          "scatter": [
           {
            "fillpattern": {
             "fillmode": "overlay",
             "size": 10,
             "solidity": 0.2
            },
            "type": "scatter"
           }
          ],
          "scatter3d": [
           {
            "line": {
             "colorbar": {
              "outlinewidth": 0,
              "ticks": ""
             }
            },
            "marker": {
             "colorbar": {
              "outlinewidth": 0,
              "ticks": ""
             }
            },
            "type": "scatter3d"
           }
          ],
          "scattercarpet": [
           {
            "marker": {
             "colorbar": {
              "outlinewidth": 0,
              "ticks": ""
             }
            },
            "type": "scattercarpet"
           }
          ],
          "scattergeo": [
           {
            "marker": {
             "colorbar": {
              "outlinewidth": 0,
              "ticks": ""
             }
            },
            "type": "scattergeo"
           }
          ],
          "scattergl": [
           {
            "marker": {
             "colorbar": {
              "outlinewidth": 0,
              "ticks": ""
             }
            },
            "type": "scattergl"
           }
          ],
          "scattermapbox": [
           {
            "marker": {
             "colorbar": {
              "outlinewidth": 0,
              "ticks": ""
             }
            },
            "type": "scattermapbox"
           }
          ],
          "scatterpolar": [
           {
            "marker": {
             "colorbar": {
              "outlinewidth": 0,
              "ticks": ""
             }
            },
            "type": "scatterpolar"
           }
          ],
          "scatterpolargl": [
           {
            "marker": {
             "colorbar": {
              "outlinewidth": 0,
              "ticks": ""
             }
            },
            "type": "scatterpolargl"
           }
          ],
          "scatterternary": [
           {
            "marker": {
             "colorbar": {
              "outlinewidth": 0,
              "ticks": ""
             }
            },
            "type": "scatterternary"
           }
          ],
          "surface": [
           {
            "colorbar": {
             "outlinewidth": 0,
             "ticks": ""
            },
            "colorscale": [
             [
              0,
              "#0d0887"
             ],
             [
              0.1111111111111111,
              "#46039f"
             ],
             [
              0.2222222222222222,
              "#7201a8"
             ],
             [
              0.3333333333333333,
              "#9c179e"
             ],
             [
              0.4444444444444444,
              "#bd3786"
             ],
             [
              0.5555555555555556,
              "#d8576b"
             ],
             [
              0.6666666666666666,
              "#ed7953"
             ],
             [
              0.7777777777777778,
              "#fb9f3a"
             ],
             [
              0.8888888888888888,
              "#fdca26"
             ],
             [
              1,
              "#f0f921"
             ]
            ],
            "type": "surface"
           }
          ],
          "table": [
           {
            "cells": {
             "fill": {
              "color": "#EBF0F8"
             },
             "line": {
              "color": "white"
             }
            },
            "header": {
             "fill": {
              "color": "#C8D4E3"
             },
             "line": {
              "color": "white"
             }
            },
            "type": "table"
           }
          ]
         },
         "layout": {
          "annotationdefaults": {
           "arrowcolor": "#2a3f5f",
           "arrowhead": 0,
           "arrowwidth": 1
          },
          "autotypenumbers": "strict",
          "coloraxis": {
           "colorbar": {
            "outlinewidth": 0,
            "ticks": ""
           }
          },
          "colorscale": {
           "diverging": [
            [
             0,
             "#8e0152"
            ],
            [
             0.1,
             "#c51b7d"
            ],
            [
             0.2,
             "#de77ae"
            ],
            [
             0.3,
             "#f1b6da"
            ],
            [
             0.4,
             "#fde0ef"
            ],
            [
             0.5,
             "#f7f7f7"
            ],
            [
             0.6,
             "#e6f5d0"
            ],
            [
             0.7,
             "#b8e186"
            ],
            [
             0.8,
             "#7fbc41"
            ],
            [
             0.9,
             "#4d9221"
            ],
            [
             1,
             "#276419"
            ]
           ],
           "sequential": [
            [
             0,
             "#0d0887"
            ],
            [
             0.1111111111111111,
             "#46039f"
            ],
            [
             0.2222222222222222,
             "#7201a8"
            ],
            [
             0.3333333333333333,
             "#9c179e"
            ],
            [
             0.4444444444444444,
             "#bd3786"
            ],
            [
             0.5555555555555556,
             "#d8576b"
            ],
            [
             0.6666666666666666,
             "#ed7953"
            ],
            [
             0.7777777777777778,
             "#fb9f3a"
            ],
            [
             0.8888888888888888,
             "#fdca26"
            ],
            [
             1,
             "#f0f921"
            ]
           ],
           "sequentialminus": [
            [
             0,
             "#0d0887"
            ],
            [
             0.1111111111111111,
             "#46039f"
            ],
            [
             0.2222222222222222,
             "#7201a8"
            ],
            [
             0.3333333333333333,
             "#9c179e"
            ],
            [
             0.4444444444444444,
             "#bd3786"
            ],
            [
             0.5555555555555556,
             "#d8576b"
            ],
            [
             0.6666666666666666,
             "#ed7953"
            ],
            [
             0.7777777777777778,
             "#fb9f3a"
            ],
            [
             0.8888888888888888,
             "#fdca26"
            ],
            [
             1,
             "#f0f921"
            ]
           ]
          },
          "colorway": [
           "#636efa",
           "#EF553B",
           "#00cc96",
           "#ab63fa",
           "#FFA15A",
           "#19d3f3",
           "#FF6692",
           "#B6E880",
           "#FF97FF",
           "#FECB52"
          ],
          "font": {
           "color": "#2a3f5f"
          },
          "geo": {
           "bgcolor": "white",
           "lakecolor": "white",
           "landcolor": "#E5ECF6",
           "showlakes": true,
           "showland": true,
           "subunitcolor": "white"
          },
          "hoverlabel": {
           "align": "left"
          },
          "hovermode": "closest",
          "mapbox": {
           "style": "light"
          },
          "paper_bgcolor": "white",
          "plot_bgcolor": "#E5ECF6",
          "polar": {
           "angularaxis": {
            "gridcolor": "white",
            "linecolor": "white",
            "ticks": ""
           },
           "bgcolor": "#E5ECF6",
           "radialaxis": {
            "gridcolor": "white",
            "linecolor": "white",
            "ticks": ""
           }
          },
          "scene": {
           "xaxis": {
            "backgroundcolor": "#E5ECF6",
            "gridcolor": "white",
            "gridwidth": 2,
            "linecolor": "white",
            "showbackground": true,
            "ticks": "",
            "zerolinecolor": "white"
           },
           "yaxis": {
            "backgroundcolor": "#E5ECF6",
            "gridcolor": "white",
            "gridwidth": 2,
            "linecolor": "white",
            "showbackground": true,
            "ticks": "",
            "zerolinecolor": "white"
           },
           "zaxis": {
            "backgroundcolor": "#E5ECF6",
            "gridcolor": "white",
            "gridwidth": 2,
            "linecolor": "white",
            "showbackground": true,
            "ticks": "",
            "zerolinecolor": "white"
           }
          },
          "shapedefaults": {
           "line": {
            "color": "#2a3f5f"
           }
          },
          "ternary": {
           "aaxis": {
            "gridcolor": "white",
            "linecolor": "white",
            "ticks": ""
           },
           "baxis": {
            "gridcolor": "white",
            "linecolor": "white",
            "ticks": ""
           },
           "bgcolor": "#E5ECF6",
           "caxis": {
            "gridcolor": "white",
            "linecolor": "white",
            "ticks": ""
           }
          },
          "title": {
           "x": 0.05
          },
          "xaxis": {
           "automargin": true,
           "gridcolor": "white",
           "linecolor": "white",
           "ticks": "",
           "title": {
            "standoff": 15
           },
           "zerolinecolor": "white",
           "zerolinewidth": 2
          },
          "yaxis": {
           "automargin": true,
           "gridcolor": "white",
           "linecolor": "white",
           "ticks": "",
           "title": {
            "standoff": 15
           },
           "zerolinecolor": "white",
           "zerolinewidth": 2
          }
         }
        },
        "title": {
         "text": "Comparação de Estatísticas (Atlético-MG vs Botafogo)  - Attacks"
        },
        "width": 900,
        "xaxis": {
         "anchor": "y",
         "domain": [
          0,
          0.2888888888888889
         ]
        },
        "xaxis2": {
         "anchor": "y2",
         "domain": [
          0.35555555555555557,
          0.6444444444444445
         ]
        },
        "xaxis3": {
         "anchor": "y3",
         "domain": [
          0.7111111111111111,
          1
         ]
        },
        "xaxis4": {
         "anchor": "y4",
         "domain": [
          0,
          0.2888888888888889
         ]
        },
        "xaxis5": {
         "anchor": "y5",
         "domain": [
          0.35555555555555557,
          0.6444444444444445
         ]
        },
        "xaxis6": {
         "anchor": "y6",
         "domain": [
          0.7111111111111111,
          1
         ]
        },
        "yaxis": {
         "anchor": "x",
         "domain": [
          0.625,
          1
         ]
        },
        "yaxis2": {
         "anchor": "x2",
         "domain": [
          0.625,
          1
         ]
        },
        "yaxis3": {
         "anchor": "x3",
         "domain": [
          0.625,
          1
         ]
        },
        "yaxis4": {
         "anchor": "x4",
         "domain": [
          0,
          0.375
         ]
        },
        "yaxis5": {
         "anchor": "x5",
         "domain": [
          0,
          0.375
         ]
        },
        "yaxis6": {
         "anchor": "x6",
         "domain": [
          0,
          0.375
         ]
        }
       }
      }
     },
     "metadata": {},
     "output_type": "display_data"
    },
    {
     "data": {
      "image/png": "[encoded data removed]",
      "text/plain": [
       "<IPython.core.display.Image object>"
      ]
     },
     "metadata": {},
     "output_type": "display_data"
    }
   ],
   "source": [
    "import plotly.graph_objects as go\n",
    "from plotly.subplots import make_subplots\n",
    "\n",
    "# Criando a função para gerar múltiplos gráficos em uma única figura interativa\n",
    "def create_comparative_bar_charts_single_image_plotly(df_tempo_completo_estatisticas_gerais):\n",
    "    # Filtrar apenas as linhas onde Group é 'Attack'\n",
    "    filtered_df = df_tempo_completo_estatisticas_gerais[df_tempo_completo_estatisticas_gerais['Group'] == 'Attack']\n",
    "\n",
    "    num_charts = len(filtered_df)\n",
    "    cols = 3  # Número de colunas na grade\n",
    "    rows = (num_charts + cols - 1) // cols  # Calcula o número de linhas necessário\n",
    "\n",
    "    # Criar subplots\n",
    "    fig = make_subplots(rows=rows, cols=cols, subplot_titles=filtered_df['Statistics'].tolist())\n",
    "\n",
    "    # Adicionar cada gráfico à grade de subplots\n",
    "    for i, (index, row) in enumerate(filtered_df.iterrows()):\n",
    "        col = (i % cols) + 1\n",
    "        row_idx = (i // cols) + 1\n",
    "\n",
    "        fig.add_trace(\n",
    "            go.Bar(\n",
    "                x=['Atlético-MG', 'Botafogo'],\n",
    "                y=[row['Home'], row['Away']],\n",
    "                marker_color=['black', 'gray'],\n",
    "                name=row['Statistics']\n",
    "            ),\n",
    "            row=row_idx,\n",
    "            col=col\n",
    "        )\n",
    "\n",
    "    # Atualizar layout\n",
    "    fig.update_layout(\n",
    "        height=rows * 300,  # Altura total ajustada ao número de linhas\n",
    "        width=900,  # Largura fixa\n",
    "        title_text=\"Comparação de Estatísticas (Atlético-MG vs Botafogo)  - Attacks\",\n",
    "        showlegend=False\n",
    "    )\n",
    "\n",
    "    # Exibir a figura\n",
    "    fig.show()\n",
    "    # Salvar o gráfico como imagem estática (PNG)\n",
    "    fig.write_image(\"graficos_estaticos3.png\")\n",
    "\n",
    "# Gerar os gráficos\n",
    "create_comparative_bar_charts_single_image_plotly(result)\n",
    "\n",
    "# Nome do arquivo da imagem\n",
    "image_path = \"graficos_estaticos3.png\"\n",
    "\n",
    "# Exibindo a imagem\n",
    "display(Image(filename=image_path))\n"
   ]
  },
  {
   "cell_type": "markdown",
   "metadata": {},
   "source": [
    "## Informações úteis sobre ataques\n",
    "* Destaque novamente para eficiência do botafogo, marcando 3 gols em 3 grandes chances criadas\n",
    "* Destaque negativo para as 3 grandes oportunidades perdidas pelo Atlético\n",
    "* Mais um destaque do domínio ofensivo ineficente do Atlético na partida foram os 29 toques da equipe Mineira na grande área do Botafogo, sendo mais que o dobro da equipe carioca, que precisou de apenas 12 toques na área adversária para conversão de 3 gols"
   ]
  },
  {
   "cell_type": "markdown",
   "metadata": {},
   "source": [
    "## Gráficos de passes"
   ]
  },
  {
   "cell_type": "code",
   "execution_count": 56,
   "metadata": {},
   "outputs": [
    {
     "data": {
      "application/vnd.plotly.v1+json": {
       "config": {
        "plotlyServerURL": "https://plot.ly"
       },
       "data": [
        {
         "marker": {
          "color": [
           "black",
           "gray"
          ]
         },
         "name": "Accurate passes",
         "type": "bar",
         "x": [
          "Atlético-MG",
          "Botafogo"
         ],
         "xaxis": "x",
         "y": [
          485,
          80
         ],
         "yaxis": "y"
        },
        {
         "marker": {
          "color": [
           "black",
           "gray"
          ]
         },
         "name": "Throw-ins",
         "type": "bar",
         "x": [
          "Atlético-MG",
          "Botafogo"
         ],
         "xaxis": "x2",
         "y": [
          16,
          11
         ],
         "yaxis": "y2"
        },
        {
         "marker": {
          "color": [
           "black",
           "gray"
          ]
         },
         "name": "Final third entries",
         "type": "bar",
         "x": [
          "Atlético-MG",
          "Botafogo"
         ],
         "xaxis": "x3",
         "y": [
          81,
          46
         ],
         "yaxis": "y3"
        },
        {
         "marker": {
          "color": [
           "black",
           "gray"
          ]
         },
         "name": "Final third phase",
         "type": "bar",
         "x": [
          "Atlético-MG",
          "Botafogo"
         ],
         "xaxis": "x4",
         "y": [
          0.81,
          0.4
         ],
         "yaxis": "y4"
        },
        {
         "marker": {
          "color": [
           "black",
           "gray"
          ]
         },
         "name": "Long balls",
         "type": "bar",
         "x": [
          "Atlético-MG",
          "Botafogo"
         ],
         "xaxis": "x5",
         "y": [
          0.52,
          0.28
         ],
         "yaxis": "y5"
        },
        {
         "marker": {
          "color": [
           "black",
           "gray"
          ]
         },
         "name": "Crosses",
         "type": "bar",
         "x": [
          "Atlético-MG",
          "Botafogo"
         ],
         "xaxis": "x6",
         "y": [
          0.29,
          0
         ],
         "yaxis": "y6"
        }
       ],
       "layout": {
        "annotations": [
         {
          "font": {
           "size": 16
          },
          "showarrow": false,
          "text": "Accurate passes",
          "x": 0.14444444444444446,
          "xanchor": "center",
          "xref": "paper",
          "y": 1,
          "yanchor": "bottom",
          "yref": "paper"
         },
         {
          "font": {
           "size": 16
          },
          "showarrow": false,
          "text": "Throw-ins",
          "x": 0.5,
          "xanchor": "center",
          "xref": "paper",
          "y": 1,
          "yanchor": "bottom",
          "yref": "paper"
         },
         {
          "font": {
           "size": 16
          },
          "showarrow": false,
          "text": "Final third entries",
          "x": 0.8555555555555556,
          "xanchor": "center",
          "xref": "paper",
          "y": 1,
          "yanchor": "bottom",
          "yref": "paper"
         },
         {
          "font": {
           "size": 16
          },
          "showarrow": false,
          "text": "Final third phase",
          "x": 0.14444444444444446,
          "xanchor": "center",
          "xref": "paper",
          "y": 0.375,
          "yanchor": "bottom",
          "yref": "paper"
         },
         {
          "font": {
           "size": 16
          },
          "showarrow": false,
          "text": "Long balls",
          "x": 0.5,
          "xanchor": "center",
          "xref": "paper",
          "y": 0.375,
          "yanchor": "bottom",
          "yref": "paper"
         },
         {
          "font": {
           "size": 16
          },
          "showarrow": false,
          "text": "Crosses",
          "x": 0.8555555555555556,
          "xanchor": "center",
          "xref": "paper",
          "y": 0.375,
          "yanchor": "bottom",
          "yref": "paper"
         }
        ],
        "height": 600,
        "showlegend": false,
        "template": {
         "data": {
          "bar": [
           {
            "error_x": {
             "color": "#2a3f5f"
            },
            "error_y": {
             "color": "#2a3f5f"
            },
            "marker": {
             "line": {
              "color": "#E5ECF6",
              "width": 0.5
             },
             "pattern": {
              "fillmode": "overlay",
              "size": 10,
              "solidity": 0.2
             }
            },
            "type": "bar"
           }
          ],
          "barpolar": [
           {
            "marker": {
             "line": {
              "color": "#E5ECF6",
              "width": 0.5
             },
             "pattern": {
              "fillmode": "overlay",
              "size": 10,
              "solidity": 0.2
             }
            },
            "type": "barpolar"
           }
          ],
          "carpet": [
           {
            "aaxis": {
             "endlinecolor": "#2a3f5f",
             "gridcolor": "white",
             "linecolor": "white",
             "minorgridcolor": "white",
             "startlinecolor": "#2a3f5f"
            },
            "baxis": {
             "endlinecolor": "#2a3f5f",
             "gridcolor": "white",
             "linecolor": "white",
             "minorgridcolor": "white",
             "startlinecolor": "#2a3f5f"
            },
            "type": "carpet"
           }
          ],
          "choropleth": [
           {
            "colorbar": {
             "outlinewidth": 0,
             "ticks": ""
            },
            "type": "choropleth"
           }
          ],
          "contour": [
           {
            "colorbar": {
             "outlinewidth": 0,
             "ticks": ""
            },
            "colorscale": [
             [
              0,
              "#0d0887"
             ],
             [
              0.1111111111111111,
              "#46039f"
             ],
             [
              0.2222222222222222,
              "#7201a8"
             ],
             [
              0.3333333333333333,
              "#9c179e"
             ],
             [
              0.4444444444444444,
              "#bd3786"
             ],
             [
              0.5555555555555556,
              "#d8576b"
             ],
             [
              0.6666666666666666,
              "#ed7953"
             ],
             [
              0.7777777777777778,
              "#fb9f3a"
             ],
             [
              0.8888888888888888,
              "#fdca26"
             ],
             [
              1,
              "#f0f921"
             ]
            ],
            "type": "contour"
           }
          ],
          "contourcarpet": [
           {
            "colorbar": {
             "outlinewidth": 0,
             "ticks": ""
            },
            "type": "contourcarpet"
           }
          ],
          "heatmap": [
           {
            "colorbar": {
             "outlinewidth": 0,
             "ticks": ""
            },
            "colorscale": [
             [
              0,
              "#0d0887"
             ],
             [
              0.1111111111111111,
              "#46039f"
             ],
             [
              0.2222222222222222,
              "#7201a8"
             ],
             [
              0.3333333333333333,
              "#9c179e"
             ],
             [
              0.4444444444444444,
              "#bd3786"
             ],
             [
              0.5555555555555556,
              "#d8576b"
             ],
             [
              0.6666666666666666,
              "#ed7953"
             ],
             [
              0.7777777777777778,
              "#fb9f3a"
             ],
             [
              0.8888888888888888,
              "#fdca26"
             ],
             [
              1,
              "#f0f921"
             ]
            ],
            "type": "heatmap"
           }
          ],
          "heatmapgl": [
           {
            "colorbar": {
             "outlinewidth": 0,
             "ticks": ""
            },
            "colorscale": [
             [
              0,
              "#0d0887"
             ],
             [
              0.1111111111111111,
              "#46039f"
             ],
             [
              0.2222222222222222,
              "#7201a8"
             ],
             [
              0.3333333333333333,
              "#9c179e"
             ],
             [
              0.4444444444444444,
              "#bd3786"
             ],
             [
              0.5555555555555556,
              "#d8576b"
             ],
             [
              0.6666666666666666,
              "#ed7953"
             ],
             [
              0.7777777777777778,
              "#fb9f3a"
             ],
             [
              0.8888888888888888,
              "#fdca26"
             ],
             [
              1,
              "#f0f921"
             ]
            ],
            "type": "heatmapgl"
           }
          ],
          "histogram": [
           {
            "marker": {
             "pattern": {
              "fillmode": "overlay",
              "size": 10,
              "solidity": 0.2
             }
            },
            "type": "histogram"
           }
          ],
          "histogram2d": [
           {
            "colorbar": {
             "outlinewidth": 0,
             "ticks": ""
            },
            "colorscale": [
             [
              0,
              "#0d0887"
             ],
             [
              0.1111111111111111,
              "#46039f"
             ],
             [
              0.2222222222222222,
              "#7201a8"
             ],
             [
              0.3333333333333333,
              "#9c179e"
             ],
             [
              0.4444444444444444,
              "#bd3786"
             ],
             [
              0.5555555555555556,
              "#d8576b"
             ],
             [
              0.6666666666666666,
              "#ed7953"
             ],
             [
              0.7777777777777778,
              "#fb9f3a"
             ],
             [
              0.8888888888888888,
              "#fdca26"
             ],
             [
              1,
              "#f0f921"
             ]
            ],
            "type": "histogram2d"
           }
          ],
          "histogram2dcontour": [
           {
            "colorbar": {
             "outlinewidth": 0,
             "ticks": ""
            },
            "colorscale": [
             [
              0,
              "#0d0887"
             ],
             [
              0.1111111111111111,
              "#46039f"
             ],
             [
              0.2222222222222222,
              "#7201a8"
             ],
             [
              0.3333333333333333,
              "#9c179e"
             ],
             [
              0.4444444444444444,
              "#bd3786"
             ],
             [
              0.5555555555555556,
              "#d8576b"
             ],
             [
              0.6666666666666666,
              "#ed7953"
             ],
             [
              0.7777777777777778,
              "#fb9f3a"
             ],
             [
              0.8888888888888888,
              "#fdca26"
             ],
             [
              1,
              "#f0f921"
             ]
            ],
            "type": "histogram2dcontour"
           }
          ],
          "mesh3d": [
           {
            "colorbar": {
             "outlinewidth": 0,
             "ticks": ""
            },
            "type": "mesh3d"
           }
          ],
          "parcoords": [
           {
            "line": {
             "colorbar": {
              "outlinewidth": 0,
              "ticks": ""
             }
            },
            "type": "parcoords"
           }
          ],
          "pie": [
           {
            "automargin": true,
            "type": "pie"
           }
          ],
          "scatter": [
           {
            "fillpattern": {
             "fillmode": "overlay",
             "size": 10,
             "solidity": 0.2
            },
            "type": "scatter"
           }
          ],
          "scatter3d": [
           {
            "line": {
             "colorbar": {
              "outlinewidth": 0,
              "ticks": ""
             }
            },
            "marker": {
             "colorbar": {
              "outlinewidth": 0,
              "ticks": ""
             }
            },
            "type": "scatter3d"
           }
          ],
          "scattercarpet": [
           {
            "marker": {
             "colorbar": {
              "outlinewidth": 0,
              "ticks": ""
             }
            },
            "type": "scattercarpet"
           }
          ],
          "scattergeo": [
           {
            "marker": {
             "colorbar": {
              "outlinewidth": 0,
              "ticks": ""
             }
            },
            "type": "scattergeo"
           }
          ],
          "scattergl": [
           {
            "marker": {
             "colorbar": {
              "outlinewidth": 0,
              "ticks": ""
             }
            },
            "type": "scattergl"
           }
          ],
          "scattermapbox": [
           {
            "marker": {
             "colorbar": {
              "outlinewidth": 0,
              "ticks": ""
             }
            },
            "type": "scattermapbox"
           }
          ],
          "scatterpolar": [
           {
            "marker": {
             "colorbar": {
              "outlinewidth": 0,
              "ticks": ""
             }
            },
            "type": "scatterpolar"
           }
          ],
          "scatterpolargl": [
           {
            "marker": {
             "colorbar": {
              "outlinewidth": 0,
              "ticks": ""
             }
            },
            "type": "scatterpolargl"
           }
          ],
          "scatterternary": [
           {
            "marker": {
             "colorbar": {
              "outlinewidth": 0,
              "ticks": ""
             }
            },
            "type": "scatterternary"
           }
          ],
          "surface": [
           {
            "colorbar": {
             "outlinewidth": 0,
             "ticks": ""
            },
            "colorscale": [
             [
              0,
              "#0d0887"
             ],
             [
              0.1111111111111111,
              "#46039f"
             ],
             [
              0.2222222222222222,
              "#7201a8"
             ],
             [
              0.3333333333333333,
              "#9c179e"
             ],
             [
              0.4444444444444444,
              "#bd3786"
             ],
             [
              0.5555555555555556,
              "#d8576b"
             ],
             [
              0.6666666666666666,
              "#ed7953"
             ],
             [
              0.7777777777777778,
              "#fb9f3a"
             ],
             [
              0.8888888888888888,
              "#fdca26"
             ],
             [
              1,
              "#f0f921"
             ]
            ],
            "type": "surface"
           }
          ],
          "table": [
           {
            "cells": {
             "fill": {
              "color": "#EBF0F8"
             },
             "line": {
              "color": "white"
             }
            },
            "header": {
             "fill": {
              "color": "#C8D4E3"
             },
             "line": {
              "color": "white"
             }
            },
            "type": "table"
           }
          ]
         },
         "layout": {
          "annotationdefaults": {
           "arrowcolor": "#2a3f5f",
           "arrowhead": 0,
           "arrowwidth": 1
          },
          "autotypenumbers": "strict",
          "coloraxis": {
           "colorbar": {
            "outlinewidth": 0,
            "ticks": ""
           }
          },
          "colorscale": {
           "diverging": [
            [
             0,
             "#8e0152"
            ],
            [
             0.1,
             "#c51b7d"
            ],
            [
             0.2,
             "#de77ae"
            ],
            [
             0.3,
             "#f1b6da"
            ],
            [
             0.4,
             "#fde0ef"
            ],
            [
             0.5,
             "#f7f7f7"
            ],
            [
             0.6,
             "#e6f5d0"
            ],
            [
             0.7,
             "#b8e186"
            ],
            [
             0.8,
             "#7fbc41"
            ],
            [
             0.9,
             "#4d9221"
            ],
            [
             1,
             "#276419"
            ]
           ],
           "sequential": [
            [
             0,
             "#0d0887"
            ],
            [
             0.1111111111111111,
             "#46039f"
            ],
            [
             0.2222222222222222,
             "#7201a8"
            ],
            [
             0.3333333333333333,
             "#9c179e"
            ],
            [
             0.4444444444444444,
             "#bd3786"
            ],
            [
             0.5555555555555556,
             "#d8576b"
            ],
            [
             0.6666666666666666,
             "#ed7953"
            ],
            [
             0.7777777777777778,
             "#fb9f3a"
            ],
            [
             0.8888888888888888,
             "#fdca26"
            ],
            [
             1,
             "#f0f921"
            ]
           ],
           "sequentialminus": [
            [
             0,
             "#0d0887"
            ],
            [
             0.1111111111111111,
             "#46039f"
            ],
            [
             0.2222222222222222,
             "#7201a8"
            ],
            [
             0.3333333333333333,
             "#9c179e"
            ],
            [
             0.4444444444444444,
             "#bd3786"
            ],
            [
             0.5555555555555556,
             "#d8576b"
            ],
            [
             0.6666666666666666,
             "#ed7953"
            ],
            [
             0.7777777777777778,
             "#fb9f3a"
            ],
            [
             0.8888888888888888,
             "#fdca26"
            ],
            [
             1,
             "#f0f921"
            ]
           ]
          },
          "colorway": [
           "#636efa",
           "#EF553B",
           "#00cc96",
           "#ab63fa",
           "#FFA15A",
           "#19d3f3",
           "#FF6692",
           "#B6E880",
           "#FF97FF",
           "#FECB52"
          ],
          "font": {
           "color": "#2a3f5f"
          },
          "geo": {
           "bgcolor": "white",
           "lakecolor": "white",
           "landcolor": "#E5ECF6",
           "showlakes": true,
           "showland": true,
           "subunitcolor": "white"
          },
          "hoverlabel": {
           "align": "left"
          },
          "hovermode": "closest",
          "mapbox": {
           "style": "light"
          },
          "paper_bgcolor": "white",
          "plot_bgcolor": "#E5ECF6",
          "polar": {
           "angularaxis": {
            "gridcolor": "white",
            "linecolor": "white",
            "ticks": ""
           },
           "bgcolor": "#E5ECF6",
           "radialaxis": {
            "gridcolor": "white",
            "linecolor": "white",
            "ticks": ""
           }
          },
          "scene": {
           "xaxis": {
            "backgroundcolor": "#E5ECF6",
            "gridcolor": "white",
            "gridwidth": 2,
            "linecolor": "white",
            "showbackground": true,
            "ticks": "",
            "zerolinecolor": "white"
           },
           "yaxis": {
            "backgroundcolor": "#E5ECF6",
            "gridcolor": "white",
            "gridwidth": 2,
            "linecolor": "white",
            "showbackground": true,
            "ticks": "",
            "zerolinecolor": "white"
           },
           "zaxis": {
            "backgroundcolor": "#E5ECF6",
            "gridcolor": "white",
            "gridwidth": 2,
            "linecolor": "white",
            "showbackground": true,
            "ticks": "",
            "zerolinecolor": "white"
           }
          },
          "shapedefaults": {
           "line": {
            "color": "#2a3f5f"
           }
          },
          "ternary": {
           "aaxis": {
            "gridcolor": "white",
            "linecolor": "white",
            "ticks": ""
           },
           "baxis": {
            "gridcolor": "white",
            "linecolor": "white",
            "ticks": ""
           },
           "bgcolor": "#E5ECF6",
           "caxis": {
            "gridcolor": "white",
            "linecolor": "white",
            "ticks": ""
           }
          },
          "title": {
           "x": 0.05
          },
          "xaxis": {
           "automargin": true,
           "gridcolor": "white",
           "linecolor": "white",
           "ticks": "",
           "title": {
            "standoff": 15
           },
           "zerolinecolor": "white",
           "zerolinewidth": 2
          },
          "yaxis": {
           "automargin": true,
           "gridcolor": "white",
           "linecolor": "white",
           "ticks": "",
           "title": {
            "standoff": 15
           },
           "zerolinecolor": "white",
           "zerolinewidth": 2
          }
         }
        },
        "title": {
         "text": "Comparação de Estatísticas (Atlético-MG vs Botafogo)  - Passes"
        },
        "width": 900,
        "xaxis": {
         "anchor": "y",
         "domain": [
          0,
          0.2888888888888889
         ]
        },
        "xaxis2": {
         "anchor": "y2",
         "domain": [
          0.35555555555555557,
          0.6444444444444445
         ]
        },
        "xaxis3": {
         "anchor": "y3",
         "domain": [
          0.7111111111111111,
          1
         ]
        },
        "xaxis4": {
         "anchor": "y4",
         "domain": [
          0,
          0.2888888888888889
         ]
        },
        "xaxis5": {
         "anchor": "y5",
         "domain": [
          0.35555555555555557,
          0.6444444444444445
         ]
        },
        "xaxis6": {
         "anchor": "y6",
         "domain": [
          0.7111111111111111,
          1
         ]
        },
        "yaxis": {
         "anchor": "x",
         "domain": [
          0.625,
          1
         ]
        },
        "yaxis2": {
         "anchor": "x2",
         "domain": [
          0.625,
          1
         ]
        },
        "yaxis3": {
         "anchor": "x3",
         "domain": [
          0.625,
          1
         ]
        },
        "yaxis4": {
         "anchor": "x4",
         "domain": [
          0,
          0.375
         ]
        },
        "yaxis5": {
         "anchor": "x5",
         "domain": [
          0,
          0.375
         ]
        },
        "yaxis6": {
         "anchor": "x6",
         "domain": [
          0,
          0.375
         ]
        }
       }
      }
     },
     "metadata": {},
     "output_type": "display_data"
    },
    {
     "data": {
      "image/png": "[encoded data removed]",
      "text/plain": [
       "<IPython.core.display.Image object>"
      ]
     },
     "metadata": {},
     "output_type": "display_data"
    }
   ],
   "source": [
    "import plotly.graph_objects as go\n",
    "from plotly.subplots import make_subplots\n",
    "\n",
    "# Criando a função para gerar múltiplos gráficos em uma única figura interativa\n",
    "def create_comparative_bar_charts_single_image_plotly(df_tempo_completo_estatisticas_gerais):\n",
    "    # Filtrar apenas as linhas onde Group é 'Passes'\n",
    "    filtered_df = df_tempo_completo_estatisticas_gerais[df_tempo_completo_estatisticas_gerais['Group'] == 'Passes']\n",
    "\n",
    "    num_charts = len(filtered_df)\n",
    "    cols = 3  # Número de colunas na grade\n",
    "    rows = (num_charts + cols - 1) // cols  # Calcula o número de linhas necessário\n",
    "\n",
    "    # Criar subplots\n",
    "    fig = make_subplots(rows=rows, cols=cols, subplot_titles=filtered_df['Statistics'].tolist())\n",
    "\n",
    "    # Adicionar cada gráfico à grade de subplots\n",
    "    for i, (index, row) in enumerate(filtered_df.iterrows()):\n",
    "        col = (i % cols) + 1\n",
    "        row_idx = (i // cols) + 1\n",
    "\n",
    "        fig.add_trace(\n",
    "            go.Bar(\n",
    "                x=['Atlético-MG', 'Botafogo'],\n",
    "                y=[row['Home'], row['Away']],\n",
    "                marker_color=['black', 'gray'],\n",
    "                name=row['Statistics']\n",
    "            ),\n",
    "            row=row_idx,\n",
    "            col=col\n",
    "        )\n",
    "\n",
    "    # Atualizar layout\n",
    "    fig.update_layout(\n",
    "        height=rows * 300,  # Altura total ajustada ao número de linhas\n",
    "        width=900,  # Largura fixa\n",
    "        title_text=\"Comparação de Estatísticas (Atlético-MG vs Botafogo)  - Passes\",\n",
    "        showlegend=False\n",
    "    )\n",
    "\n",
    "    # Exibir a figura\n",
    "    fig.show()\n",
    "    # Salvar o gráfico como imagem estática (PNG)\n",
    "    fig.write_image(\"graficos_estaticos4.png\")\n",
    "\n",
    "# Gerar os gráficos\n",
    "create_comparative_bar_charts_single_image_plotly(result)\n",
    "\n",
    "# Nome do arquivo da imagem\n",
    "image_path = \"graficos_estaticos4.png\"\n",
    "\n",
    "# Exibindo a imagem\n",
    "display(Image(filename=image_path))\n"
   ]
  },
  {
   "cell_type": "markdown",
   "metadata": {},
   "source": [
    "# Informações úteis\n",
    "\n",
    "* Atlético teve um total de 485 passes certos, contra 80 do Botafogo. O que já era esperado pelos números da posse de bola vistos anteriormente\n",
    "* O Atlético entrou 81 vezes no último terço do campo, enquando o Botafogo entrou apenas 46\n",
    "* Apenas 28% dos passes longos do Botafogo foram concluídos, demonstrando que o time em muitos momentos ficou limitado em apenas se defender, se desfazendo da posse de bola\n",
    "* O Botafogo teve sucesso em apenas 40% dos seus passes no último terço de campo, enquanto o Atlético teve o sucesso em 81% deles. O que se pode tirar disso: é o diferencial no potencial de conclusão da equipe carioca foi um desequilibrador da partida, já que conseguiu superar os indicadores da ineficência de passes"
   ]
  },
  {
   "cell_type": "markdown",
   "metadata": {},
   "source": [
    "## Gráficos de duelos"
   ]
  },
  {
   "cell_type": "code",
   "execution_count": 57,
   "metadata": {},
   "outputs": [
    {
     "data": {
      "application/vnd.plotly.v1+json": {
       "config": {
        "plotlyServerURL": "https://plot.ly"
       },
       "data": [
        {
         "marker": {
          "color": [
           "black",
           "gray"
          ]
         },
         "name": "Duels",
         "type": "bar",
         "x": [
          "Atlético-MG",
          "Botafogo"
         ],
         "xaxis": "x",
         "y": [
          0.51,
          0.49
         ],
         "yaxis": "y"
        },
        {
         "marker": {
          "color": [
           "black",
           "gray"
          ]
         },
         "name": "Dispossessed",
         "type": "bar",
         "x": [
          "Atlético-MG",
          "Botafogo"
         ],
         "xaxis": "x2",
         "y": [
          6,
          7
         ],
         "yaxis": "y2"
        },
        {
         "marker": {
          "color": [
           "black",
           "gray"
          ]
         },
         "name": "Ground duels",
         "type": "bar",
         "x": [
          "Atlético-MG",
          "Botafogo"
         ],
         "xaxis": "x3",
         "y": [
          0.47,
          0.53
         ],
         "yaxis": "y3"
        },
        {
         "marker": {
          "color": [
           "black",
           "gray"
          ]
         },
         "name": "Aerial duels",
         "type": "bar",
         "x": [
          "Atlético-MG",
          "Botafogo"
         ],
         "xaxis": "x4",
         "y": [
          0.59,
          0.41
         ],
         "yaxis": "y4"
        },
        {
         "marker": {
          "color": [
           "black",
           "gray"
          ]
         },
         "name": "Dribbles",
         "type": "bar",
         "x": [
          "Atlético-MG",
          "Botafogo"
         ],
         "xaxis": "x5",
         "y": [
          0.4,
          0.46
         ],
         "yaxis": "y5"
        }
       ],
       "layout": {
        "annotations": [
         {
          "font": {
           "size": 16
          },
          "showarrow": false,
          "text": "Duels",
          "x": 0.14444444444444446,
          "xanchor": "center",
          "xref": "paper",
          "y": 1,
          "yanchor": "bottom",
          "yref": "paper"
         },
         {
          "font": {
           "size": 16
          },
          "showarrow": false,
          "text": "Dispossessed",
          "x": 0.5,
          "xanchor": "center",
          "xref": "paper",
          "y": 1,
          "yanchor": "bottom",
          "yref": "paper"
         },
         {
          "font": {
           "size": 16
          },
          "showarrow": false,
          "text": "Ground duels",
          "x": 0.8555555555555556,
          "xanchor": "center",
          "xref": "paper",
          "y": 1,
          "yanchor": "bottom",
          "yref": "paper"
         },
         {
          "font": {
           "size": 16
          },
          "showarrow": false,
          "text": "Aerial duels",
          "x": 0.14444444444444446,
          "xanchor": "center",
          "xref": "paper",
          "y": 0.375,
          "yanchor": "bottom",
          "yref": "paper"
         },
         {
          "font": {
           "size": 16
          },
          "showarrow": false,
          "text": "Dribbles",
          "x": 0.5,
          "xanchor": "center",
          "xref": "paper",
          "y": 0.375,
          "yanchor": "bottom",
          "yref": "paper"
         }
        ],
        "height": 600,
        "showlegend": false,
        "template": {
         "data": {
          "bar": [
           {
            "error_x": {
             "color": "#2a3f5f"
            },
            "error_y": {
             "color": "#2a3f5f"
            },
            "marker": {
             "line": {
              "color": "#E5ECF6",
              "width": 0.5
             },
             "pattern": {
              "fillmode": "overlay",
              "size": 10,
              "solidity": 0.2
             }
            },
            "type": "bar"
           }
          ],
          "barpolar": [
           {
            "marker": {
             "line": {
              "color": "#E5ECF6",
              "width": 0.5
             },
             "pattern": {
              "fillmode": "overlay",
              "size": 10,
              "solidity": 0.2
             }
            },
            "type": "barpolar"
           }
          ],
          "carpet": [
           {
            "aaxis": {
             "endlinecolor": "#2a3f5f",
             "gridcolor": "white",
             "linecolor": "white",
             "minorgridcolor": "white",
             "startlinecolor": "#2a3f5f"
            },
            "baxis": {
             "endlinecolor": "#2a3f5f",
             "gridcolor": "white",
             "linecolor": "white",
             "minorgridcolor": "white",
             "startlinecolor": "#2a3f5f"
            },
            "type": "carpet"
           }
          ],
          "choropleth": [
           {
            "colorbar": {
             "outlinewidth": 0,
             "ticks": ""
            },
            "type": "choropleth"
           }
          ],
          "contour": [
           {
            "colorbar": {
             "outlinewidth": 0,
             "ticks": ""
            },
            "colorscale": [
             [
              0,
              "#0d0887"
             ],
             [
              0.1111111111111111,
              "#46039f"
             ],
             [
              0.2222222222222222,
              "#7201a8"
             ],
             [
              0.3333333333333333,
              "#9c179e"
             ],
             [
              0.4444444444444444,
              "#bd3786"
             ],
             [
              0.5555555555555556,
              "#d8576b"
             ],
             [
              0.6666666666666666,
              "#ed7953"
             ],
             [
              0.7777777777777778,
              "#fb9f3a"
             ],
             [
              0.8888888888888888,
              "#fdca26"
             ],
             [
              1,
              "#f0f921"
             ]
            ],
            "type": "contour"
           }
          ],
          "contourcarpet": [
           {
            "colorbar": {
             "outlinewidth": 0,
             "ticks": ""
            },
            "type": "contourcarpet"
           }
          ],
          "heatmap": [
           {
            "colorbar": {
             "outlinewidth": 0,
             "ticks": ""
            },
            "colorscale": [
             [
              0,
              "#0d0887"
             ],
             [
              0.1111111111111111,
              "#46039f"
             ],
             [
              0.2222222222222222,
              "#7201a8"
             ],
             [
              0.3333333333333333,
              "#9c179e"
             ],
             [
              0.4444444444444444,
              "#bd3786"
             ],
             [
              0.5555555555555556,
              "#d8576b"
             ],
             [
              0.6666666666666666,
              "#ed7953"
             ],
             [
              0.7777777777777778,
              "#fb9f3a"
             ],
             [
              0.8888888888888888,
              "#fdca26"
             ],
             [
              1,
              "#f0f921"
             ]
            ],
            "type": "heatmap"
           }
          ],
          "heatmapgl": [
           {
            "colorbar": {
             "outlinewidth": 0,
             "ticks": ""
            },
            "colorscale": [
             [
              0,
              "#0d0887"
             ],
             [
              0.1111111111111111,
              "#46039f"
             ],
             [
              0.2222222222222222,
              "#7201a8"
             ],
             [
              0.3333333333333333,
              "#9c179e"
             ],
             [
              0.4444444444444444,
              "#bd3786"
             ],
             [
              0.5555555555555556,
              "#d8576b"
             ],
             [
              0.6666666666666666,
              "#ed7953"
             ],
             [
              0.7777777777777778,
              "#fb9f3a"
             ],
             [
              0.8888888888888888,
              "#fdca26"
             ],
             [
              1,
              "#f0f921"
             ]
            ],
            "type": "heatmapgl"
           }
          ],
          "histogram": [
           {
            "marker": {
             "pattern": {
              "fillmode": "overlay",
              "size": 10,
              "solidity": 0.2
             }
            },
            "type": "histogram"
           }
          ],
          "histogram2d": [
           {
            "colorbar": {
             "outlinewidth": 0,
             "ticks": ""
            },
            "colorscale": [
             [
              0,
              "#0d0887"
             ],
             [
              0.1111111111111111,
              "#46039f"
             ],
             [
              0.2222222222222222,
              "#7201a8"
             ],
             [
              0.3333333333333333,
              "#9c179e"
             ],
             [
              0.4444444444444444,
              "#bd3786"
             ],
             [
              0.5555555555555556,
              "#d8576b"
             ],
             [
              0.6666666666666666,
              "#ed7953"
             ],
             [
              0.7777777777777778,
              "#fb9f3a"
             ],
             [
              0.8888888888888888,
              "#fdca26"
             ],
             [
              1,
              "#f0f921"
             ]
            ],
            "type": "histogram2d"
           }
          ],
          "histogram2dcontour": [
           {
            "colorbar": {
             "outlinewidth": 0,
             "ticks": ""
            },
            "colorscale": [
             [
              0,
              "#0d0887"
             ],
             [
              0.1111111111111111,
              "#46039f"
             ],
             [
              0.2222222222222222,
              "#7201a8"
             ],
             [
              0.3333333333333333,
              "#9c179e"
             ],
             [
              0.4444444444444444,
              "#bd3786"
             ],
             [
              0.5555555555555556,
              "#d8576b"
             ],
             [
              0.6666666666666666,
              "#ed7953"
             ],
             [
              0.7777777777777778,
              "#fb9f3a"
             ],
             [
              0.8888888888888888,
              "#fdca26"
             ],
             [
              1,
              "#f0f921"
             ]
            ],
            "type": "histogram2dcontour"
           }
          ],
          "mesh3d": [
           {
            "colorbar": {
             "outlinewidth": 0,
             "ticks": ""
            },
            "type": "mesh3d"
           }
          ],
          "parcoords": [
           {
            "line": {
             "colorbar": {
              "outlinewidth": 0,
              "ticks": ""
             }
            },
            "type": "parcoords"
           }
          ],
          "pie": [
           {
            "automargin": true,
            "type": "pie"
           }
          ],
          "scatter": [
           {
            "fillpattern": {
             "fillmode": "overlay",
             "size": 10,
             "solidity": 0.2
            },
            "type": "scatter"
           }
          ],
          "scatter3d": [
           {
            "line": {
             "colorbar": {
              "outlinewidth": 0,
              "ticks": ""
             }
            },
            "marker": {
             "colorbar": {
              "outlinewidth": 0,
              "ticks": ""
             }
            },
            "type": "scatter3d"
           }
          ],
          "scattercarpet": [
           {
            "marker": {
             "colorbar": {
              "outlinewidth": 0,
              "ticks": ""
             }
            },
            "type": "scattercarpet"
           }
          ],
          "scattergeo": [
           {
            "marker": {
             "colorbar": {
              "outlinewidth": 0,
              "ticks": ""
             }
            },
            "type": "scattergeo"
           }
          ],
          "scattergl": [
           {
            "marker": {
             "colorbar": {
              "outlinewidth": 0,
              "ticks": ""
             }
            },
            "type": "scattergl"
           }
          ],
          "scattermapbox": [
           {
            "marker": {
             "colorbar": {
              "outlinewidth": 0,
              "ticks": ""
             }
            },
            "type": "scattermapbox"
           }
          ],
          "scatterpolar": [
           {
            "marker": {
             "colorbar": {
              "outlinewidth": 0,
              "ticks": ""
             }
            },
            "type": "scatterpolar"
           }
          ],
          "scatterpolargl": [
           {
            "marker": {
             "colorbar": {
              "outlinewidth": 0,
              "ticks": ""
             }
            },
            "type": "scatterpolargl"
           }
          ],
          "scatterternary": [
           {
            "marker": {
             "colorbar": {
              "outlinewidth": 0,
              "ticks": ""
             }
            },
            "type": "scatterternary"
           }
          ],
          "surface": [
           {
            "colorbar": {
             "outlinewidth": 0,
             "ticks": ""
            },
            "colorscale": [
             [
              0,
              "#0d0887"
             ],
             [
              0.1111111111111111,
              "#46039f"
             ],
             [
              0.2222222222222222,
              "#7201a8"
             ],
             [
              0.3333333333333333,
              "#9c179e"
             ],
             [
              0.4444444444444444,
              "#bd3786"
             ],
             [
              0.5555555555555556,
              "#d8576b"
             ],
             [
              0.6666666666666666,
              "#ed7953"
             ],
             [
              0.7777777777777778,
              "#fb9f3a"
             ],
             [
              0.8888888888888888,
              "#fdca26"
             ],
             [
              1,
              "#f0f921"
             ]
            ],
            "type": "surface"
           }
          ],
          "table": [
           {
            "cells": {
             "fill": {
              "color": "#EBF0F8"
             },
             "line": {
              "color": "white"
             }
            },
            "header": {
             "fill": {
              "color": "#C8D4E3"
             },
             "line": {
              "color": "white"
             }
            },
            "type": "table"
           }
          ]
         },
         "layout": {
          "annotationdefaults": {
           "arrowcolor": "#2a3f5f",
           "arrowhead": 0,
           "arrowwidth": 1
          },
          "autotypenumbers": "strict",
          "coloraxis": {
           "colorbar": {
            "outlinewidth": 0,
            "ticks": ""
           }
          },
          "colorscale": {
           "diverging": [
            [
             0,
             "#8e0152"
            ],
            [
             0.1,
             "#c51b7d"
            ],
            [
             0.2,
             "#de77ae"
            ],
            [
             0.3,
             "#f1b6da"
            ],
            [
             0.4,
             "#fde0ef"
            ],
            [
             0.5,
             "#f7f7f7"
            ],
            [
             0.6,
             "#e6f5d0"
            ],
            [
             0.7,
             "#b8e186"
            ],
            [
             0.8,
             "#7fbc41"
            ],
            [
             0.9,
             "#4d9221"
            ],
            [
             1,
             "#276419"
            ]
           ],
           "sequential": [
            [
             0,
             "#0d0887"
            ],
            [
             0.1111111111111111,
             "#46039f"
            ],
            [
             0.2222222222222222,
             "#7201a8"
            ],
            [
             0.3333333333333333,
             "#9c179e"
            ],
            [
             0.4444444444444444,
             "#bd3786"
            ],
            [
             0.5555555555555556,
             "#d8576b"
            ],
            [
             0.6666666666666666,
             "#ed7953"
            ],
            [
             0.7777777777777778,
             "#fb9f3a"
            ],
            [
             0.8888888888888888,
             "#fdca26"
            ],
            [
             1,
             "#f0f921"
            ]
           ],
           "sequentialminus": [
            [
             0,
             "#0d0887"
            ],
            [
             0.1111111111111111,
             "#46039f"
            ],
            [
             0.2222222222222222,
             "#7201a8"
            ],
            [
             0.3333333333333333,
             "#9c179e"
            ],
            [
             0.4444444444444444,
             "#bd3786"
            ],
            [
             0.5555555555555556,
             "#d8576b"
            ],
            [
             0.6666666666666666,
             "#ed7953"
            ],
            [
             0.7777777777777778,
             "#fb9f3a"
            ],
            [
             0.8888888888888888,
             "#fdca26"
            ],
            [
             1,
             "#f0f921"
            ]
           ]
          },
          "colorway": [
           "#636efa",
           "#EF553B",
           "#00cc96",
           "#ab63fa",
           "#FFA15A",
           "#19d3f3",
           "#FF6692",
           "#B6E880",
           "#FF97FF",
           "#FECB52"
          ],
          "font": {
           "color": "#2a3f5f"
          },
          "geo": {
           "bgcolor": "white",
           "lakecolor": "white",
           "landcolor": "#E5ECF6",
           "showlakes": true,
           "showland": true,
           "subunitcolor": "white"
          },
          "hoverlabel": {
           "align": "left"
          },
          "hovermode": "closest",
          "mapbox": {
           "style": "light"
          },
          "paper_bgcolor": "white",
          "plot_bgcolor": "#E5ECF6",
          "polar": {
           "angularaxis": {
            "gridcolor": "white",
            "linecolor": "white",
            "ticks": ""
           },
           "bgcolor": "#E5ECF6",
           "radialaxis": {
            "gridcolor": "white",
            "linecolor": "white",
            "ticks": ""
           }
          },
          "scene": {
           "xaxis": {
            "backgroundcolor": "#E5ECF6",
            "gridcolor": "white",
            "gridwidth": 2,
            "linecolor": "white",
            "showbackground": true,
            "ticks": "",
            "zerolinecolor": "white"
           },
           "yaxis": {
            "backgroundcolor": "#E5ECF6",
            "gridcolor": "white",
            "gridwidth": 2,
            "linecolor": "white",
            "showbackground": true,
            "ticks": "",
            "zerolinecolor": "white"
           },
           "zaxis": {
            "backgroundcolor": "#E5ECF6",
            "gridcolor": "white",
            "gridwidth": 2,
            "linecolor": "white",
            "showbackground": true,
            "ticks": "",
            "zerolinecolor": "white"
           }
          },
          "shapedefaults": {
           "line": {
            "color": "#2a3f5f"
           }
          },
          "ternary": {
           "aaxis": {
            "gridcolor": "white",
            "linecolor": "white",
            "ticks": ""
           },
           "baxis": {
            "gridcolor": "white",
            "linecolor": "white",
            "ticks": ""
           },
           "bgcolor": "#E5ECF6",
           "caxis": {
            "gridcolor": "white",
            "linecolor": "white",
            "ticks": ""
           }
          },
          "title": {
           "x": 0.05
          },
          "xaxis": {
           "automargin": true,
           "gridcolor": "white",
           "linecolor": "white",
           "ticks": "",
           "title": {
            "standoff": 15
           },
           "zerolinecolor": "white",
           "zerolinewidth": 2
          },
          "yaxis": {
           "automargin": true,
           "gridcolor": "white",
           "linecolor": "white",
           "ticks": "",
           "title": {
            "standoff": 15
           },
           "zerolinecolor": "white",
           "zerolinewidth": 2
          }
         }
        },
        "title": {
         "text": "Comparação de Estatísticas (Atlético-MG vs Botafogo) - Duels"
        },
        "width": 900,
        "xaxis": {
         "anchor": "y",
         "domain": [
          0,
          0.2888888888888889
         ]
        },
        "xaxis2": {
         "anchor": "y2",
         "domain": [
          0.35555555555555557,
          0.6444444444444445
         ]
        },
        "xaxis3": {
         "anchor": "y3",
         "domain": [
          0.7111111111111111,
          1
         ]
        },
        "xaxis4": {
         "anchor": "y4",
         "domain": [
          0,
          0.2888888888888889
         ]
        },
        "xaxis5": {
         "anchor": "y5",
         "domain": [
          0.35555555555555557,
          0.6444444444444445
         ]
        },
        "xaxis6": {
         "anchor": "y6",
         "domain": [
          0.7111111111111111,
          1
         ]
        },
        "yaxis": {
         "anchor": "x",
         "domain": [
          0.625,
          1
         ]
        },
        "yaxis2": {
         "anchor": "x2",
         "domain": [
          0.625,
          1
         ]
        },
        "yaxis3": {
         "anchor": "x3",
         "domain": [
          0.625,
          1
         ]
        },
        "yaxis4": {
         "anchor": "x4",
         "domain": [
          0,
          0.375
         ]
        },
        "yaxis5": {
         "anchor": "x5",
         "domain": [
          0,
          0.375
         ]
        },
        "yaxis6": {
         "anchor": "x6",
         "domain": [
          0,
          0.375
         ]
        }
       }
      }
     },
     "metadata": {},
     "output_type": "display_data"
    },
    {
     "data": {
      "image/png": "[encoded data removed]",
      "text/plain": [
       "<IPython.core.display.Image object>"
      ]
     },
     "metadata": {},
     "output_type": "display_data"
    }
   ],
   "source": [
    "import plotly.graph_objects as go\n",
    "from plotly.subplots import make_subplots\n",
    "\n",
    "# Criando a função para gerar múltiplos gráficos em uma única figura interativa\n",
    "def create_comparative_bar_charts_single_image_plotly(df_tempo_completo_estatisticas_gerais):\n",
    "    # Filtrar apenas as linhas onde Group é 'Duels'\n",
    "    filtered_df = df_tempo_completo_estatisticas_gerais[df_tempo_completo_estatisticas_gerais['Group'] == 'Duels']\n",
    "\n",
    "    num_charts = len(filtered_df)\n",
    "    cols = 3  # Número de colunas na grade\n",
    "    rows = (num_charts + cols - 1) // cols  # Calcula o número de linhas necessário\n",
    "\n",
    "    # Criar subplots\n",
    "    fig = make_subplots(rows=rows, cols=cols, subplot_titles=filtered_df['Statistics'].tolist())\n",
    "\n",
    "    # Adicionar cada gráfico à grade de subplots\n",
    "    for i, (index, row) in enumerate(filtered_df.iterrows()):\n",
    "        col = (i % cols) + 1\n",
    "        row_idx = (i // cols) + 1\n",
    "\n",
    "        fig.add_trace(\n",
    "            go.Bar(\n",
    "                x=['Atlético-MG', 'Botafogo'],\n",
    "                y=[row['Home'], row['Away']],\n",
    "                marker_color=['black', 'gray'],\n",
    "                name=row['Statistics']\n",
    "            ),\n",
    "            row=row_idx,\n",
    "            col=col\n",
    "        )\n",
    "\n",
    "    # Atualizar layout\n",
    "    fig.update_layout(\n",
    "        height=rows * 300,  # Altura total ajustada ao número de linhas\n",
    "        width=900,  # Largura fixa\n",
    "        title_text=\"Comparação de Estatísticas (Atlético-MG vs Botafogo) - Duels\",\n",
    "        showlegend=False\n",
    "    )\n",
    "\n",
    "    # Exibir a figura\n",
    "    fig.show()\n",
    "    # Salvar o gráfico como imagem estática (PNG)\n",
    "    fig.write_image(\"graficos_estaticos5.png\")\n",
    "\n",
    "# Gerar os gráficos\n",
    "create_comparative_bar_charts_single_image_plotly(result)\n",
    "\n",
    "# Nome do arquivo da imagem\n",
    "image_path = \"graficos_estaticos5.png\"\n",
    "\n",
    "# Exibindo a imagem\n",
    "display(Image(filename=image_path))\n"
   ]
  },
  {
   "cell_type": "markdown",
   "metadata": {},
   "source": [
    "## Informações sobre duelos no campo\n",
    "\n",
    "* Um dos fatores que deu poder de combatitividade ao Botafogo na partida mesmo com um homem à menos, foi o equilíbrio nos duelos em campo\n",
    "* Nos duelos houve a vantagem de apenas 1% para o Atlético, mesmo com 1 homem a mais\n",
    "* Nos duelos terrestres, Botafogo teve a pequena vantagem de 3%, mas que com 1 homem à menos, fez muita diferença\n",
    "* Nos duelos áereos, o Atlético se sobressaiu em 9%\n",
    "* Além disso, também vemos números semelhantes na efetividade de dribles e nas percas de bola, mais uma vez, demontrando o equilíbrio em embates, apesar da diferença numérica em campo"
   ]
  },
  {
   "cell_type": "markdown",
   "metadata": {},
   "source": [
    "## Gráficos defensivos"
   ]
  },
  {
   "cell_type": "code",
   "execution_count": 58,
   "metadata": {},
   "outputs": [
    {
     "data": {
      "application/vnd.plotly.v1+json": {
       "config": {
        "plotlyServerURL": "https://plot.ly"
       },
       "data": [
        {
         "marker": {
          "color": [
           "black",
           "gray"
          ]
         },
         "name": "Tackles won",
         "type": "bar",
         "x": [
          "Atlético-MG",
          "Botafogo"
         ],
         "xaxis": "x",
         "y": [
          0.71,
          0.42
         ],
         "yaxis": "y"
        },
        {
         "marker": {
          "color": [
           "black",
           "gray"
          ]
         },
         "name": "Total tackles",
         "type": "bar",
         "x": [
          "Atlético-MG",
          "Botafogo"
         ],
         "xaxis": "x2",
         "y": [
          14,
          12
         ],
         "yaxis": "y2"
        },
        {
         "marker": {
          "color": [
           "black",
           "gray"
          ]
         },
         "name": "Interceptions",
         "type": "bar",
         "x": [
          "Atlético-MG",
          "Botafogo"
         ],
         "xaxis": "x3",
         "y": [
          3,
          3
         ],
         "yaxis": "y3"
        },
        {
         "marker": {
          "color": [
           "black",
           "gray"
          ]
         },
         "name": "Recoveries",
         "type": "bar",
         "x": [
          "Atlético-MG",
          "Botafogo"
         ],
         "xaxis": "x4",
         "y": [
          34,
          29
         ],
         "yaxis": "y4"
        },
        {
         "marker": {
          "color": [
           "black",
           "gray"
          ]
         },
         "name": "Clearances",
         "type": "bar",
         "x": [
          "Atlético-MG",
          "Botafogo"
         ],
         "xaxis": "x5",
         "y": [
          15,
          27
         ],
         "yaxis": "y5"
        },
        {
         "marker": {
          "color": [
           "black",
           "gray"
          ]
         },
         "name": "Errors lead to a shot",
         "type": "bar",
         "x": [
          "Atlético-MG",
          "Botafogo"
         ],
         "xaxis": "x6",
         "y": [
          0,
          1
         ],
         "yaxis": "y6"
        }
       ],
       "layout": {
        "annotations": [
         {
          "font": {
           "size": 16
          },
          "showarrow": false,
          "text": "Tackles won",
          "x": 0.14444444444444446,
          "xanchor": "center",
          "xref": "paper",
          "y": 1,
          "yanchor": "bottom",
          "yref": "paper"
         },
         {
          "font": {
           "size": 16
          },
          "showarrow": false,
          "text": "Total tackles",
          "x": 0.5,
          "xanchor": "center",
          "xref": "paper",
          "y": 1,
          "yanchor": "bottom",
          "yref": "paper"
         },
         {
          "font": {
           "size": 16
          },
          "showarrow": false,
          "text": "Interceptions",
          "x": 0.8555555555555556,
          "xanchor": "center",
          "xref": "paper",
          "y": 1,
          "yanchor": "bottom",
          "yref": "paper"
         },
         {
          "font": {
           "size": 16
          },
          "showarrow": false,
          "text": "Recoveries",
          "x": 0.14444444444444446,
          "xanchor": "center",
          "xref": "paper",
          "y": 0.375,
          "yanchor": "bottom",
          "yref": "paper"
         },
         {
          "font": {
           "size": 16
          },
          "showarrow": false,
          "text": "Clearances",
          "x": 0.5,
          "xanchor": "center",
          "xref": "paper",
          "y": 0.375,
          "yanchor": "bottom",
          "yref": "paper"
         },
         {
          "font": {
           "size": 16
          },
          "showarrow": false,
          "text": "Errors lead to a shot",
          "x": 0.8555555555555556,
          "xanchor": "center",
          "xref": "paper",
          "y": 0.375,
          "yanchor": "bottom",
          "yref": "paper"
         }
        ],
        "height": 600,
        "showlegend": false,
        "template": {
         "data": {
          "bar": [
           {
            "error_x": {
             "color": "#2a3f5f"
            },
            "error_y": {
             "color": "#2a3f5f"
            },
            "marker": {
             "line": {
              "color": "#E5ECF6",
              "width": 0.5
             },
             "pattern": {
              "fillmode": "overlay",
              "size": 10,
              "solidity": 0.2
             }
            },
            "type": "bar"
           }
          ],
          "barpolar": [
           {
            "marker": {
             "line": {
              "color": "#E5ECF6",
              "width": 0.5
             },
             "pattern": {
              "fillmode": "overlay",
              "size": 10,
              "solidity": 0.2
             }
            },
            "type": "barpolar"
           }
          ],
          "carpet": [
           {
            "aaxis": {
             "endlinecolor": "#2a3f5f",
             "gridcolor": "white",
             "linecolor": "white",
             "minorgridcolor": "white",
             "startlinecolor": "#2a3f5f"
            },
            "baxis": {
             "endlinecolor": "#2a3f5f",
             "gridcolor": "white",
             "linecolor": "white",
             "minorgridcolor": "white",
             "startlinecolor": "#2a3f5f"
            },
            "type": "carpet"
           }
          ],
          "choropleth": [
           {
            "colorbar": {
             "outlinewidth": 0,
             "ticks": ""
            },
            "type": "choropleth"
           }
          ],
          "contour": [
           {
            "colorbar": {
             "outlinewidth": 0,
             "ticks": ""
            },
            "colorscale": [
             [
              0,
              "#0d0887"
             ],
             [
              0.1111111111111111,
              "#46039f"
             ],
             [
              0.2222222222222222,
              "#7201a8"
             ],
             [
              0.3333333333333333,
              "#9c179e"
             ],
             [
              0.4444444444444444,
              "#bd3786"
             ],
             [
              0.5555555555555556,
              "#d8576b"
             ],
             [
              0.6666666666666666,
              "#ed7953"
             ],
             [
              0.7777777777777778,
              "#fb9f3a"
             ],
             [
              0.8888888888888888,
              "#fdca26"
             ],
             [
              1,
              "#f0f921"
             ]
            ],
            "type": "contour"
           }
          ],
          "contourcarpet": [
           {
            "colorbar": {
             "outlinewidth": 0,
             "ticks": ""
            },
            "type": "contourcarpet"
           }
          ],
          "heatmap": [
           {
            "colorbar": {
             "outlinewidth": 0,
             "ticks": ""
            },
            "colorscale": [
             [
              0,
              "#0d0887"
             ],
             [
              0.1111111111111111,
              "#46039f"
             ],
             [
              0.2222222222222222,
              "#7201a8"
             ],
             [
              0.3333333333333333,
              "#9c179e"
             ],
             [
              0.4444444444444444,
              "#bd3786"
             ],
             [
              0.5555555555555556,
              "#d8576b"
             ],
             [
              0.6666666666666666,
              "#ed7953"
             ],
             [
              0.7777777777777778,
              "#fb9f3a"
             ],
             [
              0.8888888888888888,
              "#fdca26"
             ],
             [
              1,
              "#f0f921"
             ]
            ],
            "type": "heatmap"
           }
          ],
          "heatmapgl": [
           {
            "colorbar": {
             "outlinewidth": 0,
             "ticks": ""
            },
            "colorscale": [
             [
              0,
              "#0d0887"
             ],
             [
              0.1111111111111111,
              "#46039f"
             ],
             [
              0.2222222222222222,
              "#7201a8"
             ],
             [
              0.3333333333333333,
              "#9c179e"
             ],
             [
              0.4444444444444444,
              "#bd3786"
             ],
             [
              0.5555555555555556,
              "#d8576b"
             ],
             [
              0.6666666666666666,
              "#ed7953"
             ],
             [
              0.7777777777777778,
              "#fb9f3a"
             ],
             [
              0.8888888888888888,
              "#fdca26"
             ],
             [
              1,
              "#f0f921"
             ]
            ],
            "type": "heatmapgl"
           }
          ],
          "histogram": [
           {
            "marker": {
             "pattern": {
              "fillmode": "overlay",
              "size": 10,
              "solidity": 0.2
             }
            },
            "type": "histogram"
           }
          ],
          "histogram2d": [
           {
            "colorbar": {
             "outlinewidth": 0,
             "ticks": ""
            },
            "colorscale": [
             [
              0,
              "#0d0887"
             ],
             [
              0.1111111111111111,
              "#46039f"
             ],
             [
              0.2222222222222222,
              "#7201a8"
             ],
             [
              0.3333333333333333,
              "#9c179e"
             ],
             [
              0.4444444444444444,
              "#bd3786"
             ],
             [
              0.5555555555555556,
              "#d8576b"
             ],
             [
              0.6666666666666666,
              "#ed7953"
             ],
             [
              0.7777777777777778,
              "#fb9f3a"
             ],
             [
              0.8888888888888888,
              "#fdca26"
             ],
             [
              1,
              "#f0f921"
             ]
            ],
            "type": "histogram2d"
           }
          ],
          "histogram2dcontour": [
           {
            "colorbar": {
             "outlinewidth": 0,
             "ticks": ""
            },
            "colorscale": [
             [
              0,
              "#0d0887"
             ],
             [
              0.1111111111111111,
              "#46039f"
             ],
             [
              0.2222222222222222,
              "#7201a8"
             ],
             [
              0.3333333333333333,
              "#9c179e"
             ],
             [
              0.4444444444444444,
              "#bd3786"
             ],
             [
              0.5555555555555556,
              "#d8576b"
             ],
             [
              0.6666666666666666,
              "#ed7953"
             ],
             [
              0.7777777777777778,
              "#fb9f3a"
             ],
             [
              0.8888888888888888,
              "#fdca26"
             ],
             [
              1,
              "#f0f921"
             ]
            ],
            "type": "histogram2dcontour"
           }
          ],
          "mesh3d": [
           {
            "colorbar": {
             "outlinewidth": 0,
             "ticks": ""
            },
            "type": "mesh3d"
           }
          ],
          "parcoords": [
           {
            "line": {
             "colorbar": {
              "outlinewidth": 0,
              "ticks": ""
             }
            },
            "type": "parcoords"
           }
          ],
          "pie": [
           {
            "automargin": true,
            "type": "pie"
           }
          ],
          "scatter": [
           {
            "fillpattern": {
             "fillmode": "overlay",
             "size": 10,
             "solidity": 0.2
            },
            "type": "scatter"
           }
          ],
          "scatter3d": [
           {
            "line": {
             "colorbar": {
              "outlinewidth": 0,
              "ticks": ""
             }
            },
            "marker": {
             "colorbar": {
              "outlinewidth": 0,
              "ticks": ""
             }
            },
            "type": "scatter3d"
           }
          ],
          "scattercarpet": [
           {
            "marker": {
             "colorbar": {
              "outlinewidth": 0,
              "ticks": ""
             }
            },
            "type": "scattercarpet"
           }
          ],
          "scattergeo": [
           {
            "marker": {
             "colorbar": {
              "outlinewidth": 0,
              "ticks": ""
             }
            },
            "type": "scattergeo"
           }
          ],
          "scattergl": [
           {
            "marker": {
             "colorbar": {
              "outlinewidth": 0,
              "ticks": ""
             }
            },
            "type": "scattergl"
           }
          ],
          "scattermapbox": [
           {
            "marker": {
             "colorbar": {
              "outlinewidth": 0,
              "ticks": ""
             }
            },
            "type": "scattermapbox"
           }
          ],
          "scatterpolar": [
           {
            "marker": {
             "colorbar": {
              "outlinewidth": 0,
              "ticks": ""
             }
            },
            "type": "scatterpolar"
           }
          ],
          "scatterpolargl": [
           {
            "marker": {
             "colorbar": {
              "outlinewidth": 0,
              "ticks": ""
             }
            },
            "type": "scatterpolargl"
           }
          ],
          "scatterternary": [
           {
            "marker": {
             "colorbar": {
              "outlinewidth": 0,
              "ticks": ""
             }
            },
            "type": "scatterternary"
           }
          ],
          "surface": [
           {
            "colorbar": {
             "outlinewidth": 0,
             "ticks": ""
            },
            "colorscale": [
             [
              0,
              "#0d0887"
             ],
             [
              0.1111111111111111,
              "#46039f"
             ],
             [
              0.2222222222222222,
              "#7201a8"
             ],
             [
              0.3333333333333333,
              "#9c179e"
             ],
             [
              0.4444444444444444,
              "#bd3786"
             ],
             [
              0.5555555555555556,
              "#d8576b"
             ],
             [
              0.6666666666666666,
              "#ed7953"
             ],
             [
              0.7777777777777778,
              "#fb9f3a"
             ],
             [
              0.8888888888888888,
              "#fdca26"
             ],
             [
              1,
              "#f0f921"
             ]
            ],
            "type": "surface"
           }
          ],
          "table": [
           {
            "cells": {
             "fill": {
              "color": "#EBF0F8"
             },
             "line": {
              "color": "white"
             }
            },
            "header": {
             "fill": {
              "color": "#C8D4E3"
             },
             "line": {
              "color": "white"
             }
            },
            "type": "table"
           }
          ]
         },
         "layout": {
          "annotationdefaults": {
           "arrowcolor": "#2a3f5f",
           "arrowhead": 0,
           "arrowwidth": 1
          },
          "autotypenumbers": "strict",
          "coloraxis": {
           "colorbar": {
            "outlinewidth": 0,
            "ticks": ""
           }
          },
          "colorscale": {
           "diverging": [
            [
             0,
             "#8e0152"
            ],
            [
             0.1,
             "#c51b7d"
            ],
            [
             0.2,
             "#de77ae"
            ],
            [
             0.3,
             "#f1b6da"
            ],
            [
             0.4,
             "#fde0ef"
            ],
            [
             0.5,
             "#f7f7f7"
            ],
            [
             0.6,
             "#e6f5d0"
            ],
            [
             0.7,
             "#b8e186"
            ],
            [
             0.8,
             "#7fbc41"
            ],
            [
             0.9,
             "#4d9221"
            ],
            [
             1,
             "#276419"
            ]
           ],
           "sequential": [
            [
             0,
             "#0d0887"
            ],
            [
             0.1111111111111111,
             "#46039f"
            ],
            [
             0.2222222222222222,
             "#7201a8"
            ],
            [
             0.3333333333333333,
             "#9c179e"
            ],
            [
             0.4444444444444444,
             "#bd3786"
            ],
            [
             0.5555555555555556,
             "#d8576b"
            ],
            [
             0.6666666666666666,
             "#ed7953"
            ],
            [
             0.7777777777777778,
             "#fb9f3a"
            ],
            [
             0.8888888888888888,
             "#fdca26"
            ],
            [
             1,
             "#f0f921"
            ]
           ],
           "sequentialminus": [
            [
             0,
             "#0d0887"
            ],
            [
             0.1111111111111111,
             "#46039f"
            ],
            [
             0.2222222222222222,
             "#7201a8"
            ],
            [
             0.3333333333333333,
             "#9c179e"
            ],
            [
             0.4444444444444444,
             "#bd3786"
            ],
            [
             0.5555555555555556,
             "#d8576b"
            ],
            [
             0.6666666666666666,
             "#ed7953"
            ],
            [
             0.7777777777777778,
             "#fb9f3a"
            ],
            [
             0.8888888888888888,
             "#fdca26"
            ],
            [
             1,
             "#f0f921"
            ]
           ]
          },
          "colorway": [
           "#636efa",
           "#EF553B",
           "#00cc96",
           "#ab63fa",
           "#FFA15A",
           "#19d3f3",
           "#FF6692",
           "#B6E880",
           "#FF97FF",
           "#FECB52"
          ],
          "font": {
           "color": "#2a3f5f"
          },
          "geo": {
           "bgcolor": "white",
           "lakecolor": "white",
           "landcolor": "#E5ECF6",
           "showlakes": true,
           "showland": true,
           "subunitcolor": "white"
          },
          "hoverlabel": {
           "align": "left"
          },
          "hovermode": "closest",
          "mapbox": {
           "style": "light"
          },
          "paper_bgcolor": "white",
          "plot_bgcolor": "#E5ECF6",
          "polar": {
           "angularaxis": {
            "gridcolor": "white",
            "linecolor": "white",
            "ticks": ""
           },
           "bgcolor": "#E5ECF6",
           "radialaxis": {
            "gridcolor": "white",
            "linecolor": "white",
            "ticks": ""
           }
          },
          "scene": {
           "xaxis": {
            "backgroundcolor": "#E5ECF6",
            "gridcolor": "white",
            "gridwidth": 2,
            "linecolor": "white",
            "showbackground": true,
            "ticks": "",
            "zerolinecolor": "white"
           },
           "yaxis": {
            "backgroundcolor": "#E5ECF6",
            "gridcolor": "white",
            "gridwidth": 2,
            "linecolor": "white",
            "showbackground": true,
            "ticks": "",
            "zerolinecolor": "white"
           },
           "zaxis": {
            "backgroundcolor": "#E5ECF6",
            "gridcolor": "white",
            "gridwidth": 2,
            "linecolor": "white",
            "showbackground": true,
            "ticks": "",
            "zerolinecolor": "white"
           }
          },
          "shapedefaults": {
           "line": {
            "color": "#2a3f5f"
           }
          },
          "ternary": {
           "aaxis": {
            "gridcolor": "white",
            "linecolor": "white",
            "ticks": ""
           },
           "baxis": {
            "gridcolor": "white",
            "linecolor": "white",
            "ticks": ""
           },
           "bgcolor": "#E5ECF6",
           "caxis": {
            "gridcolor": "white",
            "linecolor": "white",
            "ticks": ""
           }
          },
          "title": {
           "x": 0.05
          },
          "xaxis": {
           "automargin": true,
           "gridcolor": "white",
           "linecolor": "white",
           "ticks": "",
           "title": {
            "standoff": 15
           },
           "zerolinecolor": "white",
           "zerolinewidth": 2
          },
          "yaxis": {
           "automargin": true,
           "gridcolor": "white",
           "linecolor": "white",
           "ticks": "",
           "title": {
            "standoff": 15
           },
           "zerolinecolor": "white",
           "zerolinewidth": 2
          }
         }
        },
        "title": {
         "text": "Comparação de Estatísticas (Atlético-MG vs Botafogo) - Defending"
        },
        "width": 900,
        "xaxis": {
         "anchor": "y",
         "domain": [
          0,
          0.2888888888888889
         ]
        },
        "xaxis2": {
         "anchor": "y2",
         "domain": [
          0.35555555555555557,
          0.6444444444444445
         ]
        },
        "xaxis3": {
         "anchor": "y3",
         "domain": [
          0.7111111111111111,
          1
         ]
        },
        "xaxis4": {
         "anchor": "y4",
         "domain": [
          0,
          0.2888888888888889
         ]
        },
        "xaxis5": {
         "anchor": "y5",
         "domain": [
          0.35555555555555557,
          0.6444444444444445
         ]
        },
        "xaxis6": {
         "anchor": "y6",
         "domain": [
          0.7111111111111111,
          1
         ]
        },
        "yaxis": {
         "anchor": "x",
         "domain": [
          0.625,
          1
         ]
        },
        "yaxis2": {
         "anchor": "x2",
         "domain": [
          0.625,
          1
         ]
        },
        "yaxis3": {
         "anchor": "x3",
         "domain": [
          0.625,
          1
         ]
        },
        "yaxis4": {
         "anchor": "x4",
         "domain": [
          0,
          0.375
         ]
        },
        "yaxis5": {
         "anchor": "x5",
         "domain": [
          0,
          0.375
         ]
        },
        "yaxis6": {
         "anchor": "x6",
         "domain": [
          0,
          0.375
         ]
        }
       }
      }
     },
     "metadata": {},
     "output_type": "display_data"
    },
    {
     "data": {
      "image/png": "[encoded data removed]",
      "text/plain": [
       "<IPython.core.display.Image object>"
      ]
     },
     "metadata": {},
     "output_type": "display_data"
    }
   ],
   "source": [
    "import plotly.graph_objects as go\n",
    "from plotly.subplots import make_subplots\n",
    "\n",
    "# Criando a função para gerar múltiplos gráficos em uma única figura interativa\n",
    "def create_comparative_bar_charts_single_image_plotly(df_tempo_completo_estatisticas_gerais):\n",
    "    # Filtrar apenas as linhas onde Group é 'Defending'\n",
    "    filtered_df = df_tempo_completo_estatisticas_gerais[df_tempo_completo_estatisticas_gerais['Group'] == 'Defending']\n",
    "\n",
    "    num_charts = len(filtered_df)\n",
    "    cols = 3  # Número de colunas na grade\n",
    "    rows = (num_charts + cols - 1) // cols  # Calcula o número de linhas necessário\n",
    "\n",
    "    # Criar subplots\n",
    "    fig = make_subplots(rows=rows, cols=cols, subplot_titles=filtered_df['Statistics'].tolist())\n",
    "\n",
    "    # Adicionar cada gráfico à grade de subplots\n",
    "    for i, (index, row) in enumerate(filtered_df.iterrows()):\n",
    "        col = (i % cols) + 1\n",
    "        row_idx = (i // cols) + 1\n",
    "\n",
    "        fig.add_trace(\n",
    "            go.Bar(\n",
    "                x=['Atlético-MG', 'Botafogo'],\n",
    "                y=[row['Home'], row['Away']],\n",
    "                marker_color=['black', 'gray'],\n",
    "                name=row['Statistics']\n",
    "            ),\n",
    "            row=row_idx,\n",
    "            col=col\n",
    "        )\n",
    "\n",
    "    # Atualizar layout\n",
    "    fig.update_layout(\n",
    "        height=rows * 300,  # Altura total ajustada ao número de linhas\n",
    "        width=900,  # Largura fixa\n",
    "        title_text=\"Comparação de Estatísticas (Atlético-MG vs Botafogo) - Defending\",\n",
    "        showlegend=False\n",
    "    )\n",
    "\n",
    "    # Exibir a figura\n",
    "    fig.show()\n",
    "    # Salvar o gráfico como imagem estática (PNG)\n",
    "    fig.write_image(\"graficos_estaticos6.png\")\n",
    "\n",
    "# Gerar os gráficos\n",
    "create_comparative_bar_charts_single_image_plotly(result)\n",
    "\n",
    "# Nome do arquivo da imagem\n",
    "image_path = \"graficos_estaticos6.png\"\n",
    "\n",
    "# Exibindo a imagem\n",
    "display(Image(filename=image_path))\n"
   ]
  },
  {
   "cell_type": "markdown",
   "metadata": {},
   "source": [
    "# Informações sobre desarmes, interceptações, rebatidas e erros\n",
    "\n",
    "* As duas equipes, mais uma vez, tiverem números parecidos nesses embates\n",
    "* O total de desarmes, interceptações e recuperações foram muito semelhantes. Destaque para o mesmo número de inteceptações para ambos os lados\n",
    "* Atlético teve como destaque a eficiência nos seus desarmes, sendo cerca de 40% mais mais efetivo que o Botafogo\n",
    "* Botafogo teve 12 rebatidas a mais que o Atlético, situação que era esperada pelas diferenças de volume ofensivo\n",
    "* Aconteceu apenas um erro na partida que ocasionou uma finalização, e foi por parte do Botafogo"
   ]
  },
  {
   "cell_type": "markdown",
   "metadata": {},
   "source": [
    "## Gráficos de goleiros e últimos recursos defensivos"
   ]
  },
  {
   "cell_type": "code",
   "execution_count": 59,
   "metadata": {},
   "outputs": [
    {
     "data": {
      "application/vnd.plotly.v1+json": {
       "config": {
        "plotlyServerURL": "https://plot.ly"
       },
       "data": [
        {
         "marker": {
          "color": [
           "black",
           "gray"
          ]
         },
         "name": "Total saves",
         "type": "bar",
         "x": [
          "Atlético-MG",
          "Botafogo"
         ],
         "xaxis": "x",
         "y": [
          1,
          3
         ],
         "yaxis": "y"
        },
        {
         "marker": {
          "color": [
           "black",
           "gray"
          ]
         },
         "name": "Goals prevented",
         "type": "bar",
         "x": [
          "Atlético-MG",
          "Botafogo"
         ],
         "xaxis": "x2",
         "y": [
          -0.99,
          0.05
         ],
         "yaxis": "y2"
        },
        {
         "marker": {
          "color": [
           "black",
           "gray"
          ]
         },
         "name": "Big saves",
         "type": "bar",
         "x": [
          "Atlético-MG",
          "Botafogo"
         ],
         "xaxis": "x3",
         "y": [
          0,
          1
         ],
         "yaxis": "y3"
        },
        {
         "marker": {
          "color": [
           "black",
           "gray"
          ]
         },
         "name": "High claims",
         "type": "bar",
         "x": [
          "Atlético-MG",
          "Botafogo"
         ],
         "xaxis": "x4",
         "y": [
          0,
          1
         ],
         "yaxis": "y4"
        },
        {
         "marker": {
          "color": [
           "black",
           "gray"
          ]
         },
         "name": "Punches",
         "type": "bar",
         "x": [
          "Atlético-MG",
          "Botafogo"
         ],
         "xaxis": "x5",
         "y": [
          0,
          1
         ],
         "yaxis": "y5"
        },
        {
         "marker": {
          "color": [
           "black",
           "gray"
          ]
         },
         "name": "Goal kicks",
         "type": "bar",
         "x": [
          "Atlético-MG",
          "Botafogo"
         ],
         "xaxis": "x6",
         "y": [
          6,
          19
         ],
         "yaxis": "y6"
        }
       ],
       "layout": {
        "annotations": [
         {
          "font": {
           "size": 16
          },
          "showarrow": false,
          "text": "Total saves",
          "x": 0.14444444444444446,
          "xanchor": "center",
          "xref": "paper",
          "y": 1,
          "yanchor": "bottom",
          "yref": "paper"
         },
         {
          "font": {
           "size": 16
          },
          "showarrow": false,
          "text": "Goals prevented",
          "x": 0.5,
          "xanchor": "center",
          "xref": "paper",
          "y": 1,
          "yanchor": "bottom",
          "yref": "paper"
         },
         {
          "font": {
           "size": 16
          },
          "showarrow": false,
          "text": "Big saves",
          "x": 0.8555555555555556,
          "xanchor": "center",
          "xref": "paper",
          "y": 1,
          "yanchor": "bottom",
          "yref": "paper"
         },
         {
          "font": {
           "size": 16
          },
          "showarrow": false,
          "text": "High claims",
          "x": 0.14444444444444446,
          "xanchor": "center",
          "xref": "paper",
          "y": 0.375,
          "yanchor": "bottom",
          "yref": "paper"
         },
         {
          "font": {
           "size": 16
          },
          "showarrow": false,
          "text": "Punches",
          "x": 0.5,
          "xanchor": "center",
          "xref": "paper",
          "y": 0.375,
          "yanchor": "bottom",
          "yref": "paper"
         },
         {
          "font": {
           "size": 16
          },
          "showarrow": false,
          "text": "Goal kicks",
          "x": 0.8555555555555556,
          "xanchor": "center",
          "xref": "paper",
          "y": 0.375,
          "yanchor": "bottom",
          "yref": "paper"
         }
        ],
        "height": 600,
        "showlegend": false,
        "template": {
         "data": {
          "bar": [
           {
            "error_x": {
             "color": "#2a3f5f"
            },
            "error_y": {
             "color": "#2a3f5f"
            },
            "marker": {
             "line": {
              "color": "#E5ECF6",
              "width": 0.5
             },
             "pattern": {
              "fillmode": "overlay",
              "size": 10,
              "solidity": 0.2
             }
            },
            "type": "bar"
           }
          ],
          "barpolar": [
           {
            "marker": {
             "line": {
              "color": "#E5ECF6",
              "width": 0.5
             },
             "pattern": {
              "fillmode": "overlay",
              "size": 10,
              "solidity": 0.2
             }
            },
            "type": "barpolar"
           }
          ],
          "carpet": [
           {
            "aaxis": {
             "endlinecolor": "#2a3f5f",
             "gridcolor": "white",
             "linecolor": "white",
             "minorgridcolor": "white",
             "startlinecolor": "#2a3f5f"
            },
            "baxis": {
             "endlinecolor": "#2a3f5f",
             "gridcolor": "white",
             "linecolor": "white",
             "minorgridcolor": "white",
             "startlinecolor": "#2a3f5f"
            },
            "type": "carpet"
           }
          ],
          "choropleth": [
           {
            "colorbar": {
             "outlinewidth": 0,
             "ticks": ""
            },
            "type": "choropleth"
           }
          ],
          "contour": [
           {
            "colorbar": {
             "outlinewidth": 0,
             "ticks": ""
            },
            "colorscale": [
             [
              0,
              "#0d0887"
             ],
             [
              0.1111111111111111,
              "#46039f"
             ],
             [
              0.2222222222222222,
              "#7201a8"
             ],
             [
              0.3333333333333333,
              "#9c179e"
             ],
             [
              0.4444444444444444,
              "#bd3786"
             ],
             [
              0.5555555555555556,
              "#d8576b"
             ],
             [
              0.6666666666666666,
              "#ed7953"
             ],
             [
              0.7777777777777778,
              "#fb9f3a"
             ],
             [
              0.8888888888888888,
              "#fdca26"
             ],
             [
              1,
              "#f0f921"
             ]
            ],
            "type": "contour"
           }
          ],
          "contourcarpet": [
           {
            "colorbar": {
             "outlinewidth": 0,
             "ticks": ""
            },
            "type": "contourcarpet"
           }
          ],
          "heatmap": [
           {
            "colorbar": {
             "outlinewidth": 0,
             "ticks": ""
            },
            "colorscale": [
             [
              0,
              "#0d0887"
             ],
             [
              0.1111111111111111,
              "#46039f"
             ],
             [
              0.2222222222222222,
              "#7201a8"
             ],
             [
              0.3333333333333333,
              "#9c179e"
             ],
             [
              0.4444444444444444,
              "#bd3786"
             ],
             [
              0.5555555555555556,
              "#d8576b"
             ],
             [
              0.6666666666666666,
              "#ed7953"
             ],
             [
              0.7777777777777778,
              "#fb9f3a"
             ],
             [
              0.8888888888888888,
              "#fdca26"
             ],
             [
              1,
              "#f0f921"
             ]
            ],
            "type": "heatmap"
           }
          ],
          "heatmapgl": [
           {
            "colorbar": {
             "outlinewidth": 0,
             "ticks": ""
            },
            "colorscale": [
             [
              0,
              "#0d0887"
             ],
             [
              0.1111111111111111,
              "#46039f"
             ],
             [
              0.2222222222222222,
              "#7201a8"
             ],
             [
              0.3333333333333333,
              "#9c179e"
             ],
             [
              0.4444444444444444,
              "#bd3786"
             ],
             [
              0.5555555555555556,
              "#d8576b"
             ],
             [
              0.6666666666666666,
              "#ed7953"
             ],
             [
              0.7777777777777778,
              "#fb9f3a"
             ],
             [
              0.8888888888888888,
              "#fdca26"
             ],
             [
              1,
              "#f0f921"
             ]
            ],
            "type": "heatmapgl"
           }
          ],
          "histogram": [
           {
            "marker": {
             "pattern": {
              "fillmode": "overlay",
              "size": 10,
              "solidity": 0.2
             }
            },
            "type": "histogram"
           }
          ],
          "histogram2d": [
           {
            "colorbar": {
             "outlinewidth": 0,
             "ticks": ""
            },
            "colorscale": [
             [
              0,
              "#0d0887"
             ],
             [
              0.1111111111111111,
              "#46039f"
             ],
             [
              0.2222222222222222,
              "#7201a8"
             ],
             [
              0.3333333333333333,
              "#9c179e"
             ],
             [
              0.4444444444444444,
              "#bd3786"
             ],
             [
              0.5555555555555556,
              "#d8576b"
             ],
             [
              0.6666666666666666,
              "#ed7953"
             ],
             [
              0.7777777777777778,
              "#fb9f3a"
             ],
             [
              0.8888888888888888,
              "#fdca26"
             ],
             [
              1,
              "#f0f921"
             ]
            ],
            "type": "histogram2d"
           }
          ],
          "histogram2dcontour": [
           {
            "colorbar": {
             "outlinewidth": 0,
             "ticks": ""
            },
            "colorscale": [
             [
              0,
              "#0d0887"
             ],
             [
              0.1111111111111111,
              "#46039f"
             ],
             [
              0.2222222222222222,
              "#7201a8"
             ],
             [
              0.3333333333333333,
              "#9c179e"
             ],
             [
              0.4444444444444444,
              "#bd3786"
             ],
             [
              0.5555555555555556,
              "#d8576b"
             ],
             [
              0.6666666666666666,
              "#ed7953"
             ],
             [
              0.7777777777777778,
              "#fb9f3a"
             ],
             [
              0.8888888888888888,
              "#fdca26"
             ],
             [
              1,
              "#f0f921"
             ]
            ],
            "type": "histogram2dcontour"
           }
          ],
          "mesh3d": [
           {
            "colorbar": {
             "outlinewidth": 0,
             "ticks": ""
            },
            "type": "mesh3d"
           }
          ],
          "parcoords": [
           {
            "line": {
             "colorbar": {
              "outlinewidth": 0,
              "ticks": ""
             }
            },
            "type": "parcoords"
           }
          ],
          "pie": [
           {
            "automargin": true,
            "type": "pie"
           }
          ],
          "scatter": [
           {
            "fillpattern": {
             "fillmode": "overlay",
             "size": 10,
             "solidity": 0.2
            },
            "type": "scatter"
           }
          ],
          "scatter3d": [
           {
            "line": {
             "colorbar": {
              "outlinewidth": 0,
              "ticks": ""
             }
            },
            "marker": {
             "colorbar": {
              "outlinewidth": 0,
              "ticks": ""
             }
            },
            "type": "scatter3d"
           }
          ],
          "scattercarpet": [
           {
            "marker": {
             "colorbar": {
              "outlinewidth": 0,
              "ticks": ""
             }
            },
            "type": "scattercarpet"
           }
          ],
          "scattergeo": [
           {
            "marker": {
             "colorbar": {
              "outlinewidth": 0,
              "ticks": ""
             }
            },
            "type": "scattergeo"
           }
          ],
          "scattergl": [
           {
            "marker": {
             "colorbar": {
              "outlinewidth": 0,
              "ticks": ""
             }
            },
            "type": "scattergl"
           }
          ],
          "scattermapbox": [
           {
            "marker": {
             "colorbar": {
              "outlinewidth": 0,
              "ticks": ""
             }
            },
            "type": "scattermapbox"
           }
          ],
          "scatterpolar": [
           {
            "marker": {
             "colorbar": {
              "outlinewidth": 0,
              "ticks": ""
             }
            },
            "type": "scatterpolar"
           }
          ],
          "scatterpolargl": [
           {
            "marker": {
             "colorbar": {
              "outlinewidth": 0,
              "ticks": ""
             }
            },
            "type": "scatterpolargl"
           }
          ],
          "scatterternary": [
           {
            "marker": {
             "colorbar": {
              "outlinewidth": 0,
              "ticks": ""
             }
            },
            "type": "scatterternary"
           }
          ],
          "surface": [
           {
            "colorbar": {
             "outlinewidth": 0,
             "ticks": ""
            },
            "colorscale": [
             [
              0,
              "#0d0887"
             ],
             [
              0.1111111111111111,
              "#46039f"
             ],
             [
              0.2222222222222222,
              "#7201a8"
             ],
             [
              0.3333333333333333,
              "#9c179e"
             ],
             [
              0.4444444444444444,
              "#bd3786"
             ],
             [
              0.5555555555555556,
              "#d8576b"
             ],
             [
              0.6666666666666666,
              "#ed7953"
             ],
             [
              0.7777777777777778,
              "#fb9f3a"
             ],
             [
              0.8888888888888888,
              "#fdca26"
             ],
             [
              1,
              "#f0f921"
             ]
            ],
            "type": "surface"
           }
          ],
          "table": [
           {
            "cells": {
             "fill": {
              "color": "#EBF0F8"
             },
             "line": {
              "color": "white"
             }
            },
            "header": {
             "fill": {
              "color": "#C8D4E3"
             },
             "line": {
              "color": "white"
             }
            },
            "type": "table"
           }
          ]
         },
         "layout": {
          "annotationdefaults": {
           "arrowcolor": "#2a3f5f",
           "arrowhead": 0,
           "arrowwidth": 1
          },
          "autotypenumbers": "strict",
          "coloraxis": {
           "colorbar": {
            "outlinewidth": 0,
            "ticks": ""
           }
          },
          "colorscale": {
           "diverging": [
            [
             0,
             "#8e0152"
            ],
            [
             0.1,
             "#c51b7d"
            ],
            [
             0.2,
             "#de77ae"
            ],
            [
             0.3,
             "#f1b6da"
            ],
            [
             0.4,
             "#fde0ef"
            ],
            [
             0.5,
             "#f7f7f7"
            ],
            [
             0.6,
             "#e6f5d0"
            ],
            [
             0.7,
             "#b8e186"
            ],
            [
             0.8,
             "#7fbc41"
            ],
            [
             0.9,
             "#4d9221"
            ],
            [
             1,
             "#276419"
            ]
           ],
           "sequential": [
            [
             0,
             "#0d0887"
            ],
            [
             0.1111111111111111,
             "#46039f"
            ],
            [
             0.2222222222222222,
             "#7201a8"
            ],
            [
             0.3333333333333333,
             "#9c179e"
            ],
            [
             0.4444444444444444,
             "#bd3786"
            ],
            [
             0.5555555555555556,
             "#d8576b"
            ],
            [
             0.6666666666666666,
             "#ed7953"
            ],
            [
             0.7777777777777778,
             "#fb9f3a"
            ],
            [
             0.8888888888888888,
             "#fdca26"
            ],
            [
             1,
             "#f0f921"
            ]
           ],
           "sequentialminus": [
            [
             0,
             "#0d0887"
            ],
            [
             0.1111111111111111,
             "#46039f"
            ],
            [
             0.2222222222222222,
             "#7201a8"
            ],
            [
             0.3333333333333333,
             "#9c179e"
            ],
            [
             0.4444444444444444,
             "#bd3786"
            ],
            [
             0.5555555555555556,
             "#d8576b"
            ],
            [
             0.6666666666666666,
             "#ed7953"
            ],
            [
             0.7777777777777778,
             "#fb9f3a"
            ],
            [
             0.8888888888888888,
             "#fdca26"
            ],
            [
             1,
             "#f0f921"
            ]
           ]
          },
          "colorway": [
           "#636efa",
           "#EF553B",
           "#00cc96",
           "#ab63fa",
           "#FFA15A",
           "#19d3f3",
           "#FF6692",
           "#B6E880",
           "#FF97FF",
           "#FECB52"
          ],
          "font": {
           "color": "#2a3f5f"
          },
          "geo": {
           "bgcolor": "white",
           "lakecolor": "white",
           "landcolor": "#E5ECF6",
           "showlakes": true,
           "showland": true,
           "subunitcolor": "white"
          },
          "hoverlabel": {
           "align": "left"
          },
          "hovermode": "closest",
          "mapbox": {
           "style": "light"
          },
          "paper_bgcolor": "white",
          "plot_bgcolor": "#E5ECF6",
          "polar": {
           "angularaxis": {
            "gridcolor": "white",
            "linecolor": "white",
            "ticks": ""
           },
           "bgcolor": "#E5ECF6",
           "radialaxis": {
            "gridcolor": "white",
            "linecolor": "white",
            "ticks": ""
           }
          },
          "scene": {
           "xaxis": {
            "backgroundcolor": "#E5ECF6",
            "gridcolor": "white",
            "gridwidth": 2,
            "linecolor": "white",
            "showbackground": true,
            "ticks": "",
            "zerolinecolor": "white"
           },
           "yaxis": {
            "backgroundcolor": "#E5ECF6",
            "gridcolor": "white",
            "gridwidth": 2,
            "linecolor": "white",
            "showbackground": true,
            "ticks": "",
            "zerolinecolor": "white"
           },
           "zaxis": {
            "backgroundcolor": "#E5ECF6",
            "gridcolor": "white",
            "gridwidth": 2,
            "linecolor": "white",
            "showbackground": true,
            "ticks": "",
            "zerolinecolor": "white"
           }
          },
          "shapedefaults": {
           "line": {
            "color": "#2a3f5f"
           }
          },
          "ternary": {
           "aaxis": {
            "gridcolor": "white",
            "linecolor": "white",
            "ticks": ""
           },
           "baxis": {
            "gridcolor": "white",
            "linecolor": "white",
            "ticks": ""
           },
           "bgcolor": "#E5ECF6",
           "caxis": {
            "gridcolor": "white",
            "linecolor": "white",
            "ticks": ""
           }
          },
          "title": {
           "x": 0.05
          },
          "xaxis": {
           "automargin": true,
           "gridcolor": "white",
           "linecolor": "white",
           "ticks": "",
           "title": {
            "standoff": 15
           },
           "zerolinecolor": "white",
           "zerolinewidth": 2
          },
          "yaxis": {
           "automargin": true,
           "gridcolor": "white",
           "linecolor": "white",
           "ticks": "",
           "title": {
            "standoff": 15
           },
           "zerolinecolor": "white",
           "zerolinewidth": 2
          }
         }
        },
        "title": {
         "text": "Comparação de Estatísticas (Atlético-MG vs Botafogo) - Goalkeeping"
        },
        "width": 900,
        "xaxis": {
         "anchor": "y",
         "domain": [
          0,
          0.2888888888888889
         ]
        },
        "xaxis2": {
         "anchor": "y2",
         "domain": [
          0.35555555555555557,
          0.6444444444444445
         ]
        },
        "xaxis3": {
         "anchor": "y3",
         "domain": [
          0.7111111111111111,
          1
         ]
        },
        "xaxis4": {
         "anchor": "y4",
         "domain": [
          0,
          0.2888888888888889
         ]
        },
        "xaxis5": {
         "anchor": "y5",
         "domain": [
          0.35555555555555557,
          0.6444444444444445
         ]
        },
        "xaxis6": {
         "anchor": "y6",
         "domain": [
          0.7111111111111111,
          1
         ]
        },
        "yaxis": {
         "anchor": "x",
         "domain": [
          0.625,
          1
         ]
        },
        "yaxis2": {
         "anchor": "x2",
         "domain": [
          0.625,
          1
         ]
        },
        "yaxis3": {
         "anchor": "x3",
         "domain": [
          0.625,
          1
         ]
        },
        "yaxis4": {
         "anchor": "x4",
         "domain": [
          0,
          0.375
         ]
        },
        "yaxis5": {
         "anchor": "x5",
         "domain": [
          0,
          0.375
         ]
        },
        "yaxis6": {
         "anchor": "x6",
         "domain": [
          0,
          0.375
         ]
        }
       }
      }
     },
     "metadata": {},
     "output_type": "display_data"
    },
    {
     "data": {
      "image/png": "[encoded data removed]",
      "text/plain": [
       "<IPython.core.display.Image object>"
      ]
     },
     "metadata": {},
     "output_type": "display_data"
    }
   ],
   "source": [
    "import plotly.graph_objects as go\n",
    "from plotly.subplots import make_subplots\n",
    "from IPython.display import Image, display\n",
    "\n",
    "# Criando a função para gerar múltiplos gráficos em uma única figura interativa\n",
    "def create_comparative_bar_charts_single_image_plotly(df_tempo_completo_estatisticas_gerais):\n",
    "    # Filtrar apenas as linhas onde Group é 'Goalkeeping'\n",
    "    filtered_df = df_tempo_completo_estatisticas_gerais[df_tempo_completo_estatisticas_gerais['Group'] == 'Goalkeeping']\n",
    "\n",
    "    num_charts = len(filtered_df)\n",
    "    cols = 3  # Número de colunas na grade\n",
    "    rows = (num_charts + cols - 1) // cols  # Calcula o número de linhas necessário\n",
    "\n",
    "    # Criar subplots\n",
    "    fig = make_subplots(rows=rows, cols=cols, subplot_titles=filtered_df['Statistics'].tolist())\n",
    "\n",
    "    # Adicionar cada gráfico à grade de subplots\n",
    "    for i, (index, row) in enumerate(filtered_df.iterrows()):\n",
    "        col = (i % cols) + 1\n",
    "        row_idx = (i // cols) + 1\n",
    "\n",
    "        fig.add_trace(\n",
    "            go.Bar(\n",
    "                x=['Atlético-MG', 'Botafogo'],\n",
    "                y=[row['Home'], row['Away']],\n",
    "                marker_color=['black', 'gray'],\n",
    "                name=row['Statistics']\n",
    "            ),\n",
    "            row=row_idx,\n",
    "            col=col\n",
    "        )\n",
    "\n",
    "    # Atualizar layout\n",
    "    fig.update_layout(\n",
    "        height=rows * 300,  # Altura total ajustada ao número de linhas\n",
    "        width=900,  # Largura fixa\n",
    "        title_text=\"Comparação de Estatísticas (Atlético-MG vs Botafogo) - Goalkeeping\",\n",
    "        showlegend=False\n",
    "    )\n",
    "\n",
    "    # Exibir a figura\n",
    "    fig.show()\n",
    "    # Salvar o gráfico como imagem estática (PNG)\n",
    "    fig.write_image(\"graficos_estaticos7.png\")\n",
    "\n",
    "# Gerar os gráficos\n",
    "create_comparative_bar_charts_single_image_plotly(result)\n",
    "\n",
    "# Nome do arquivo da imagem\n",
    "image_path = \"graficos_estaticos7.png\"\n",
    "\n",
    "# Exibindo a imagem\n",
    "display(Image(filename=image_path))\n"
   ]
  },
  {
   "cell_type": "markdown",
   "metadata": {},
   "source": [
    "# Informações interessantes sobre últimos recursos defensivos\n",
    "\n",
    "* O goleiro do Botafogo fez 3 defesas, enquanto o do Atlético fez apenas uma\n",
    "* O goleiro botafoguense conseguiu realizar 1 defesa difícil, evitando uma possível mudança na partida. Já o do Atlético não realizou nenhuma\n",
    "* Botafogo teve 19 tiros de meta, 13 a mais que o clube mineiro, mostrando a ineficência do ataque do Atlético em acertar a meta adversária\n"
   ]
  },
  {
   "cell_type": "markdown",
   "metadata": {},
   "source": [
    "# Mapa de chutes\n",
    "\n",
    "Através desse mapa é possível visualizar quais foram os padrões de ataque, posicionamento das finalizações bem sucedidas para gol, o comportamento tático, rendimento individual(Permite avaliar o desempenho de jogadores específicos, analisando sua precisão, frequência de finalizações e localização preferida para chutar), deficiências defensivas do adversário e etc.\n",
    "\n",
    "Analisar um mapa de chutes permite melhorar tanto a abordagem ofensiva quanto a defensiva. Com base nos dados, treinadores podem ajustar treinos para explorar as áreas de maior sucesso ou corrigir comportamentos ineficientes.\n",
    "\n",
    "Em resumo, o mapa de chutes é uma ferramenta estratégica que vai além da simples contagem de finalizações, possibilitando uma análise profunda de desempenho e ajudando a embasar decisões para o aprimoramento da equipe."
   ]
  },
  {
   "cell_type": "code",
   "execution_count": 60,
   "metadata": {},
   "outputs": [
    {
     "data": {
      "image/png": "[encoded data removed]",
      "text/plain": [
       "<Figure size 2000x1400 with 1 Axes>"
      ]
     },
     "metadata": {},
     "output_type": "display_data"
    }
   ],
   "source": [
    "import json\n",
    "import matplotlib.pyplot as plt\n",
    "from mplsoccer import Pitch\n",
    "\n",
    "# Carregar os dados do JSON\n",
    "with open(\"shotmap.json\", \"r\") as file:\n",
    "    data = json.load(file)[\"shotmap\"]\n",
    "\n",
    "# Criar o campo de futebol\n",
    "pitch = Pitch(pitch_color=\"#aabb97\", line_color=\"#ffffff\")\n",
    "fig, ax = pitch.draw(figsize=(20, 14))\n",
    "\n",
    "# Extrair coordenadas dos chutes e nomes dos jogadores\n",
    "player_coords = [(shot[\"playerCoordinates\"][\"x\"], shot[\"playerCoordinates\"][\"y\"]) for shot in data]\n",
    "player_names = [shot[\"player\"][\"name\"] for shot in data]\n",
    "shot_types = [shot[\"shotType\"] for shot in data]\n",
    "\n",
    "# Inverter as coordenadas Y em relação à linha central\n",
    "pitch_height = 80  # Altura total do campo\n",
    "center_line = pitch_height / 2\n",
    "player_coords = [(x, 2 * center_line - y) for x, y in player_coords]\n",
    "\n",
    "# Separar os chutes por tipo\n",
    "goal_shots = [(coord, name) for coord, name, shot in zip(player_coords, player_names, shot_types) if shot == \"goal\"]\n",
    "miss_shots = [(coord, name) for coord, name, shot in zip(player_coords, player_names, shot_types) if shot != \"goal\"]\n",
    "\n",
    "# Fator de ajuste no eixo Y\n",
    "y_adjustment = +10\n",
    "\n",
    "# Adicionar os chutes de \"Goal\" no campo com ajuste\n",
    "if goal_shots:\n",
    "    for (x, y), name in goal_shots:\n",
    "        y_adjusted = y + y_adjustment\n",
    "        pitch.scatter([x], [y_adjusted], ax=ax, color='blue', edgecolors='black', s=100, label=\"Goal\", zorder=3)\n",
    "        ax.text(x, y_adjusted + 1, name, color='white', fontsize=10, ha='center')  # Nome do jogador\n",
    "\n",
    "# Adicionar os chutes de \"Miss\" no campo com ajuste\n",
    "if miss_shots:\n",
    "    for (x, y), name in miss_shots:\n",
    "        y_adjusted = y + y_adjustment\n",
    "        pitch.scatter([x], [y_adjusted], ax=ax, color='red', edgecolors='black', s=100, label=\"Miss\", zorder=3)\n",
    "        ax.text(x, y_adjusted + 1, name, color='white', fontsize=10, ha='center')  # Nome do jogador\n",
    "\n",
    "# Ajustar limites para cortar metade da imagem\n",
    "ax.set_xlim(0, 60)  # Cortar metade direita (campo de 0 a 50 no eixo X)\n",
    "\n",
    "# Adicionar título e legenda\n",
    "ax.set_title(\"Shotmap de Futebol\", fontsize=18, color='white')\n",
    "# Criar uma legenda única\n",
    "legend_elements = [\n",
    "    plt.Line2D([0], [0], marker='o', color='w', label='Goal', markersize=10, markerfacecolor='blue', markeredgecolor='black'),\n",
    "    plt.Line2D([0], [0], marker='o', color='w', label='Miss', markersize=10, markerfacecolor='red', markeredgecolor='black'),\n",
    "]\n",
    "ax.legend(handles=legend_elements, loc='upper left', fontsize=10)\n",
    "\n",
    "# Mostrar o gráfico\n",
    "plt.show()\n"
   ]
  },
  {
   "cell_type": "markdown",
   "metadata": {},
   "source": [
    "## Informações do Mapa de chutes\n",
    "\n",
    "Através do mapa de chutes, podemos visualizar claramente o comportamento desorganizado do Atlético em busca do gol. A equipe disparou uma quantidade considerável de finalizações, muitas delas com menos precisão, refletindo a tentativa de reagir ao placar adverso. Os 4 gols no total da partida (somando as duas equipes) surgiram dentro da grande área, com 3 deles sendo do Botafogo e 1 do Atlético, todos em posições próximas à meta do goleiro. Isso mostra que, apesar da pressão do Atlético, chutando de praticamente todas as partes do ataque, foi dentro da área que as chances mais claras de gol surgiram para ambas as equipes.\n",
    "\n",
    "Em contraste, o Botafogo teve um número bem mais reduzido de chutes, alinhando-se com a postura mais cautelosa adotada durante a partida, especialmente após conseguir a vantagem no placar. As equipes se organizaram ofensivamente de formas distintas: enquanto o Atlético buscava a reação com intensidade e uma quantidade maior de finalizações, o Botafogo manteve um estilo de jogo mais controlado, com uma defesa sólida e poucas incursões no ataque.\n",
    "\n",
    "Essas dinâmicas são refletidas nas estatísticas e gráficos anteriores, que mostram um Atlético mais agressivo e o Botafogo priorizando contra-ataques rápidos e a organização defensiva. A análise dos dados confirma a tentativa do Atlético de pressionar, mas também destaca a eficácia do Botafogo em limitar o número de oportunidades e minimizar os riscos."
   ]
  },
  {
   "cell_type": "markdown",
   "metadata": {},
   "source": [
    "# Heatmap dos principais destaques ofensivos das equipes na partida\n",
    "## Luiz Henrique(Botafogo) x Hulk(Atlético-MG)\n",
    "\n",
    "Na semana que antecedeu a final da Libertadores, os atletas Luiz Henrique e Hulk se envolveram em uma confusão durante a partida anterior, um episódio que intensificou ainda mais a rivalidade entre os dois times. Ambos, destaques absolutos de suas equipes ao longo da temporada, carregaram essa rivalidade para a decisão, onde novamente brilharam.\n",
    "\n",
    "Assim como no restante do ano, Luiz Henrique e Hulk mostraram por que são considerados os pilares de seus times. Na final, ambos tiveram as maiores notas entre os atacantes, consolidando suas atuações como fundamentais para os rumos da partida. Suas performances foram marcadas por movimentações intensas, jogadas decisivas e uma constante ameaça às defesas adversárias.\n",
    "\n",
    "Para entender melhor o impacto de cada um no jogo decisivo, vamos analisar o mapa de calor de Luiz Henrique e Hulk, explorando seu comportamento tático e técnico ao longo da partida."
   ]
  },
  {
   "cell_type": "markdown",
   "metadata": {},
   "source": [
    "## Heatmap Luiz Henrique"
   ]
  },
  {
   "cell_type": "code",
   "execution_count": 61,
   "metadata": {},
   "outputs": [
    {
     "data": {
      "image/png": "[encoded data removed]",
      "text/plain": [
       "<Figure size 1000x700 with 1 Axes>"
      ]
     },
     "metadata": {},
     "output_type": "display_data"
    }
   ],
   "source": [
    "import requests\n",
    "import numpy as np\n",
    "import matplotlib.pyplot as plt\n",
    "from scipy.stats import gaussian_kde\n",
    "from mplsoccer import Pitch\n",
    "\n",
    "# URL do heatmap de um jogador\n",
    "url = \"https://www.sofascore.com/api/v1/event/12375366/player/1035995/heatmap\"\n",
    "\n",
    "# Header simulando um navegador\n",
    "header = {\n",
    "    \"User-Agent\": \"Mozilla/5.0 (Windows NT 10.0; Win64; x64; rv:134.0) Gecko/20100101 Firefox/134.0\"\n",
    "}\n",
    "\n",
    "response = requests.get(url, headers=header)\n",
    "\n",
    "if response.status_code == 200:\n",
    "    data = response.json()\n",
    "    heatmap_positions = data.get(\"heatmap\", [])\n",
    "    if heatmap_positions:\n",
    "        x = [pos[\"x\"] for pos in heatmap_positions]\n",
    "        y = [pos[\"y\"] for pos in heatmap_positions]\n",
    "\n",
    "       # Ajuste no eixo Y\n",
    "        y_adjust = -3\n",
    "        y_adjust_above_mid = -6\n",
    "        campo_largura = 90  # Largura máxima do campo (eixo Y)\n",
    "\n",
    "        y = [coord + y_adjust + y_adjust_above_mid if coord > campo_largura / 2 else coord + y_adjust for coord in y]\n",
    "\n",
    "        # Ajuste no eixo X\n",
    "        x_adjust = 20\n",
    "        campo_comprimento = 110  # Comprimento máximo do campo\n",
    "        x = [coord + x_adjust if coord > campo_comprimento / 2  else coord for coord in x]\n",
    "\n",
    "\n",
    "        # Inverter os pontos no eixo Y\n",
    "        campo_largura = 90  # Largura máxima do campo\n",
    "        y = [campo_largura - coord for coord in y]\n",
    "\n",
    "        if len(x) > 1 and len(y) > 1:\n",
    "            # Gerar heatmap\n",
    "            kde = gaussian_kde([x, y], bw_method=0.1)\n",
    "            xx, yy = np.mgrid[0:120:120j, 0:90:90j]  # Grid ajustado para 110x90\n",
    "            zz = kde(np.vstack([xx.ravel(), yy.ravel()])).reshape(xx.shape)\n",
    "\n",
    "            # Criar a figura e o campo usando o Pitch do mplsoccer\n",
    "            pitch = Pitch(\n",
    "                pitch_type='statsbomb',\n",
    "                pitch_color='green',\n",
    "                line_color='white',\n",
    "                stripe= True,\n",
    "                stripe_color= 'lightgreen'\n",
    "            )\n",
    "            fig, ax = plt.subplots(figsize=(10, 7))  # Tamanho da figura ajustado aqui\n",
    "            pitch.draw(ax=ax)\n",
    "\n",
    "            # Adicionando o heatmap ao campo\n",
    "            pcm = ax.imshow(\n",
    "                zz.T,\n",
    "                extent=(0, 120, 0, 80),  # Ajuste para 110x90\n",
    "                origin='lower',\n",
    "                cmap='hot',\n",
    "                alpha=0.6,\n",
    "                zorder=2  # Aparece abaixo das linhas do campo\n",
    "            )\n",
    "            # Título\n",
    "            ax.set_title(\"Heatmap do Luiz Henrique\", fontsize=18, color='black')\n",
    "            ax.text(campo_comprimento - 47, campo_largura - 3, 'Direção em que o time ataca -->',\n",
    "            fontsize=12, color='black', ha='center')\n",
    "            plt.show()\n",
    "        else:\n",
    "            print(\"Dados insuficientes para criar o mapa de calor.\")\n",
    "    else:\n",
    "        print(\"Nenhuma posição encontrada no JSON.\")\n",
    "else:\n",
    "    print(f\"Erro na requisição: {response.status_code}\")\n"
   ]
  },
  {
   "cell_type": "markdown",
   "metadata": {},
   "source": [
    "# Informações retiradas do mapa de calor\n",
    "\n",
    "As ações do ponta-direita Luiz Henrique na final da Libertadores ficaram concentradas principalmente no lado direito defensivo do campo, embora seja possível identificar algumas participações em outras áreas do gramado. Essa distribuição reflete diretamente as porcentagens de posse de bola da partida, entradas no último terço do campo, além do número de passes e finalizações realizadas pelas equipes.\n",
    "\n",
    "Esse padrão de comportamento pode ser explicado por dois fatores principais. Primeiro, uma expulsão precoce obrigou Luiz Henrique a adotar uma postura mais defensiva, dando suporte ao seu lateral-direito e priorizando o equilíbrio tático da equipe. Segundo, a vantagem no placar também influenciou diretamente em seu posicionamento, já que o time buscava administrar o jogo e proteger sua defesa.\n",
    "\n",
    "Apesar disso, Luiz Henrique não abandonou suas características ofensivas. Em um dos poucos momentos em que escapou pelo lado esquerdo do campo ofensivo, conseguiu transformar essa jogada em um gol crucial, evidenciando sua capacidade de adaptação e eficiência mesmo em situações adversas.\n",
    "\n",
    "A análise do mapa de calor e das estatísticas demonstra como o jogador desempenhou um papel estratégico ao alternar entre funções defensivas e ofensivas, traduzindo a abordagem tática da equipe com inteligência e resultados."
   ]
  },
  {
   "cell_type": "markdown",
   "metadata": {},
   "source": [
    "## Heatmap Hulk"
   ]
  },
  {
   "cell_type": "code",
   "execution_count": 62,
   "metadata": {},
   "outputs": [
    {
     "data": {
      "image/png": "[encoded data removed]",
      "text/plain": [
       "<Figure size 1000x700 with 1 Axes>"
      ]
     },
     "metadata": {},
     "output_type": "display_data"
    }
   ],
   "source": [
    "import requests\n",
    "import numpy as np\n",
    "import matplotlib.pyplot as plt\n",
    "from scipy.stats import gaussian_kde\n",
    "from mplsoccer import Pitch\n",
    "\n",
    "# URL do heatmap de um jogador\n",
    "url = \"https://www.sofascore.com/api/v1/event/12375366/player/34705/heatmap\"\n",
    "\n",
    "# Header simulando um navegador\n",
    "header = {\n",
    "    \"User-Agent\": \"Mozilla/5.0 (Windows NT 10.0; Win64; x64; rv:134.0) Gecko/20100101 Firefox/134.0\"\n",
    "}\n",
    "\n",
    "response = requests.get(url, headers=header)\n",
    "\n",
    "if response.status_code == 200:\n",
    "    data = response.json()\n",
    "    heatmap_positions = data.get(\"heatmap\", [])\n",
    "    if heatmap_positions:\n",
    "        x = [pos[\"x\"] for pos in heatmap_positions]\n",
    "        y = [pos[\"y\"] for pos in heatmap_positions]\n",
    "\n",
    "       # Ajuste no eixo Y\n",
    "        y_adjust = -3\n",
    "        y_adjust_above_mid = -6\n",
    "        campo_largura = 90  # Largura máxima do campo (eixo Y)\n",
    "\n",
    "        y = [coord + y_adjust + y_adjust_above_mid if coord > campo_largura / 2 else coord + y_adjust for coord in y]\n",
    "\n",
    "        # Ajuste no eixo X\n",
    "        x_adjust = 20\n",
    "        campo_comprimento = 110  # Comprimento máximo do campo\n",
    "        x = [coord + x_adjust if coord > campo_comprimento / 2  else coord for coord in x]\n",
    "\n",
    "\n",
    "        # Inverter os pontos no eixo Y\n",
    "        campo_largura = 90  # Largura máxima do campo\n",
    "        y = [campo_largura - coord for coord in y]\n",
    "\n",
    "        if len(x) > 1 and len(y) > 1:\n",
    "            # Gerar heatmap\n",
    "            kde = gaussian_kde([x, y], bw_method=0.1)\n",
    "            xx, yy = np.mgrid[0:120:120j, 0:90:90j]  # Grid ajustado para 110x90\n",
    "            zz = kde(np.vstack([xx.ravel(), yy.ravel()])).reshape(xx.shape)\n",
    "\n",
    "            # Criar a figura e o campo usando o Pitch do mplsoccer\n",
    "            pitch = Pitch(\n",
    "                pitch_type='statsbomb',\n",
    "                pitch_color='green',\n",
    "                line_color='white',\n",
    "                stripe= True,\n",
    "                stripe_color= 'lightgreen'    \n",
    "            )\n",
    "            fig, ax = plt.subplots(figsize=(10, 7))  # Tamanho da figura ajustado aqui\n",
    "            pitch.draw(ax=ax)\n",
    "\n",
    "            # Adicionando o heatmap ao campo\n",
    "            pcm = ax.imshow(\n",
    "                zz.T,\n",
    "                extent=(0, 120, 0, 80),  # Ajuste para 110x90\n",
    "                origin='lower',\n",
    "                cmap='hot',\n",
    "                alpha=0.6,\n",
    "                zorder=2  # Aparece abaixo das linhas do campo\n",
    "            )\n",
    "            # Título\n",
    "            ax.set_title(\"Heatmap do Jogador Hulk\", fontsize=18, color='black')\n",
    "            ax.text(campo_comprimento - 47, campo_largura - 3, 'Direção em que o time ataca -->',\n",
    "            fontsize=12, color='black', ha='center')\n",
    "            plt.show()\n",
    "        else:\n",
    "            print(\"Dados insuficientes para criar o mapa de calor.\")\n",
    "    else:\n",
    "        print(\"Nenhuma posição encontrada no JSON.\")\n",
    "else:\n",
    "    print(f\"Erro na requisição: {response.status_code}\")\n"
   ]
  },
  {
   "cell_type": "markdown",
   "metadata": {},
   "source": [
    "# Informações retiradas do mapa de calor\n",
    "\n",
    "As ações do ponta-direita Hulk na final da Libertadores ficaram concentradas principalmente no lado direito ofensivo da equipe, refletindo tanto a necessidade de buscar o placar quanto a vantagem numérica em campo. Em meio a uma pressão desorganizada do Atlético, Hulk se tornou a principal válvula de escape para o time, assumindo a responsabilidade de criar jogadas decisivas e liderar a tentativa de reação no placar.\n",
    "\n",
    "Sua presença foi notável em entradas frequentes no centro da grande área adversária e em ações próximas à marca de escanteio do lado esquerdo ofensivo, evidenciadas pelos 6 a 0 no placar de escanteios a favor do Atlético. Foi justamente em um desses escanteios, cobrado com precisão por Hulk, que surgiu o gol de Vargas, marcado após uma assistência direta do atacante, reacendendo as esperanças de sua equipe na partida.\n",
    "\n",
    "A movimentação intensa e estratégica de Hulk, destacada em seu mapa de calor, mostra como ele foi o ponto de referência do ataque atleticano. Sua capacidade de combinar força, técnica e visão de jogo foi fundamental para traduzir a pressão desorganizada nas oportunidades concretas, mantendo o Atlético vivo no confronto até os minutos finais."
   ]
  },
  {
   "cell_type": "markdown",
   "metadata": {},
   "source": [
    "# Conclusão\n",
    "\n",
    "A análise dos dados de scouts da final da Libertadores entre Atlético-MG e Botafogo evidenciou a relevância estratégica dos dados no futebol, beneficiando treinadores, jogadores e equipes técnicas. Apesar de jogar com um jogador a menos, o Botafogo conseguiu equilibrar a combatitividade em campo, mantendo números próximos ao Atlético em duelos, interceptações e desarmes, o que foi essencial para superar a desvantagem numérica. Esse equilíbrio demonstra a resiliência e a organização da equipe carioca, mesmo sob pressão.\n",
    "\n",
    "Embora o Atlético tenha dominado estatísticas como posse de bola, passes e finalizações, o Botafogo destacou-se pela eficiência ofensiva, convertendo 100% de suas grandes chances em gols e neutralizando muitas das investidas do adversário. O mapa de chutes foi uma ferramenta central para entender as dinâmicas ofensivas e defensivas das equipes, revelando que, enquanto o Atlético focou em intensidade e volume de finalizações, o Botafogo priorizou objetividade e eficiência. A análise desses padrões permitiu identificar áreas-chave de sucesso e falhas, como o baixo aproveitamento do Atlético mesmo em situações favoráveis.\n",
    "\n",
    "Adicionalmente, o mapa de calor destacou o comportamento técnico e tático de jogadores como Luiz Henrique e Hulk, refletindo as estratégias adotadas por suas equipes. Luiz Henrique adaptou-se a um papel defensivo para suportar a desvantagem numérica, enquanto Hulk liderou o ataque do Atlético com movimentações intensas e jogadas decisivas. Compreender essas dinâmicas é crucial para ajustes futuros, desde estratégias táticas até melhorias nos treinos, demonstrando como os dados podem embasar decisões e aprimorar o desempenho coletivo e individual.\n"
   ]
  }
 ],
 "metadata": {
  "kernelspec": {
   "display_name": "Python 3",
   "language": "python",
   "name": "python3"
  },
  "language_info": {
   "codemirror_mode": {
    "name": "ipython",
    "version": 3
   },
   "file_extension": ".py",
   "mimetype": "text/x-python",
   "name": "python",
   "nbconvert_exporter": "python",
   "pygments_lexer": "ipython3",
   "version": "3.11.9"
  }
 },
 "nbformat": 4,
 "nbformat_minor": 2
}
